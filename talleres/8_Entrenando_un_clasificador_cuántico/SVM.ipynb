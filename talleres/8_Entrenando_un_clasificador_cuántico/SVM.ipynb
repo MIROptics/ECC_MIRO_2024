{
 "cells": [
  {
   "cell_type": "code",
   "execution_count": 1,
   "id": "753165a2",
   "metadata": {},
   "outputs": [],
   "source": [
    "import csv\n",
    "import numpy as np\n",
    "import matplotlib.pyplot as plt\n",
    "from sklearn.svm import SVC\n",
    "from sklearn.model_selection import train_test_split\n",
    "import pandas as pd"
   ]
  },
  {
   "cell_type": "markdown",
   "id": "f08c3ff0",
   "metadata": {},
   "source": [
    "# Máquinas Cuánticas de Soporte Vectorial.\n",
    "Las máquinas de soporte vectorial son modelos de entrenamiento supervisado para la clasificación de datos. En este taller construiremos un clasificador clásico y uno cuántico para discriminar una característica de un dataset a elección."
   ]
  },
  {
   "cell_type": "markdown",
   "id": "0a1833db",
   "metadata": {},
   "source": [
    "## Problema 1: Dataset.\n",
    "\n",
    "Construya datasets $(\\vec{x}_{i},y_{i})$ y $(\\vec{t}_{i},s_{i})$ para entrenar y testear un clasificador. Por ejemplo, pueden elegir y filtrar un dataset de [kaggle](https://www.kaggle.com/datasets). Estos datasets deben tener una característica bidimensional $\\vec{x}_i$ ($\\vec{t}_i$) y otra binaria $y_i$ ($s_i$). Además, el tamaño del set de entrenamiento $n_{train}$ debe estar entre 10 y 30, mientras que el de test $n_{test}$ debe ser 10. Haga un gráfico de estos datasets."
   ]
  },
  {
   "cell_type": "code",
   "execution_count": 2,
   "id": "a29c5d1b",
   "metadata": {},
   "outputs": [
    {
     "name": "stdout",
     "output_type": "stream",
     "text": [
      "Registros: 6497\n"
     ]
    },
    {
     "data": {
      "text/html": [
       "<div>\n",
       "<style scoped>\n",
       "    .dataframe tbody tr th:only-of-type {\n",
       "        vertical-align: middle;\n",
       "    }\n",
       "\n",
       "    .dataframe tbody tr th {\n",
       "        vertical-align: top;\n",
       "    }\n",
       "\n",
       "    .dataframe thead th {\n",
       "        text-align: right;\n",
       "    }\n",
       "</style>\n",
       "<table border=\"1\" class=\"dataframe\">\n",
       "  <thead>\n",
       "    <tr style=\"text-align: right;\">\n",
       "      <th></th>\n",
       "      <th>type</th>\n",
       "      <th>fixed acidity</th>\n",
       "      <th>volatile acidity</th>\n",
       "      <th>citric acid</th>\n",
       "      <th>residual sugar</th>\n",
       "      <th>chlorides</th>\n",
       "      <th>free sulfur dioxide</th>\n",
       "      <th>total sulfur dioxide</th>\n",
       "      <th>density</th>\n",
       "      <th>pH</th>\n",
       "      <th>sulphates</th>\n",
       "      <th>alcohol</th>\n",
       "      <th>quality</th>\n",
       "    </tr>\n",
       "  </thead>\n",
       "  <tbody>\n",
       "    <tr>\n",
       "      <th>667</th>\n",
       "      <td>white</td>\n",
       "      <td>7.1</td>\n",
       "      <td>0.17</td>\n",
       "      <td>0.38</td>\n",
       "      <td>7.4</td>\n",
       "      <td>0.052</td>\n",
       "      <td>49.0</td>\n",
       "      <td>182.0</td>\n",
       "      <td>0.99580</td>\n",
       "      <td>3.35</td>\n",
       "      <td>0.52</td>\n",
       "      <td>9.6</td>\n",
       "      <td>6</td>\n",
       "    </tr>\n",
       "    <tr>\n",
       "      <th>6030</th>\n",
       "      <td>red</td>\n",
       "      <td>7.4</td>\n",
       "      <td>0.36</td>\n",
       "      <td>0.34</td>\n",
       "      <td>1.8</td>\n",
       "      <td>0.075</td>\n",
       "      <td>18.0</td>\n",
       "      <td>38.0</td>\n",
       "      <td>0.99330</td>\n",
       "      <td>3.38</td>\n",
       "      <td>0.88</td>\n",
       "      <td>13.6</td>\n",
       "      <td>7</td>\n",
       "    </tr>\n",
       "    <tr>\n",
       "      <th>1044</th>\n",
       "      <td>white</td>\n",
       "      <td>7.2</td>\n",
       "      <td>0.21</td>\n",
       "      <td>0.37</td>\n",
       "      <td>1.6</td>\n",
       "      <td>0.049</td>\n",
       "      <td>23.0</td>\n",
       "      <td>94.0</td>\n",
       "      <td>0.99240</td>\n",
       "      <td>3.16</td>\n",
       "      <td>0.48</td>\n",
       "      <td>10.9</td>\n",
       "      <td>7</td>\n",
       "    </tr>\n",
       "    <tr>\n",
       "      <th>325</th>\n",
       "      <td>white</td>\n",
       "      <td>7.5</td>\n",
       "      <td>0.27</td>\n",
       "      <td>0.31</td>\n",
       "      <td>5.8</td>\n",
       "      <td>0.057</td>\n",
       "      <td>131.0</td>\n",
       "      <td>313.0</td>\n",
       "      <td>0.99460</td>\n",
       "      <td>3.18</td>\n",
       "      <td>0.59</td>\n",
       "      <td>10.5</td>\n",
       "      <td>5</td>\n",
       "    </tr>\n",
       "    <tr>\n",
       "      <th>4591</th>\n",
       "      <td>white</td>\n",
       "      <td>7.0</td>\n",
       "      <td>0.33</td>\n",
       "      <td>0.78</td>\n",
       "      <td>9.9</td>\n",
       "      <td>0.042</td>\n",
       "      <td>21.0</td>\n",
       "      <td>251.0</td>\n",
       "      <td>0.99435</td>\n",
       "      <td>3.01</td>\n",
       "      <td>0.55</td>\n",
       "      <td>11.0</td>\n",
       "      <td>6</td>\n",
       "    </tr>\n",
       "  </tbody>\n",
       "</table>\n",
       "</div>"
      ],
      "text/plain": [
       "       type  fixed acidity  volatile acidity  citric acid  residual sugar  \\\n",
       "667   white            7.1              0.17         0.38             7.4   \n",
       "6030    red            7.4              0.36         0.34             1.8   \n",
       "1044  white            7.2              0.21         0.37             1.6   \n",
       "325   white            7.5              0.27         0.31             5.8   \n",
       "4591  white            7.0              0.33         0.78             9.9   \n",
       "\n",
       "      chlorides  free sulfur dioxide  total sulfur dioxide  density    pH  \\\n",
       "667       0.052                 49.0                 182.0  0.99580  3.35   \n",
       "6030      0.075                 18.0                  38.0  0.99330  3.38   \n",
       "1044      0.049                 23.0                  94.0  0.99240  3.16   \n",
       "325       0.057                131.0                 313.0  0.99460  3.18   \n",
       "4591      0.042                 21.0                 251.0  0.99435  3.01   \n",
       "\n",
       "      sulphates  alcohol  quality  \n",
       "667        0.52      9.6        6  \n",
       "6030       0.88     13.6        7  \n",
       "1044       0.48     10.9        7  \n",
       "325        0.59     10.5        5  \n",
       "4591       0.55     11.0        6  "
      ]
     },
     "execution_count": 2,
     "metadata": {},
     "output_type": "execute_result"
    }
   ],
   "source": [
    "data = pd.read_csv('winequalityN.csv',sep=',')\n",
    "print('Registros: {}'.format(data.shape[0]))\n",
    "data.sample(5)"
   ]
  },
  {
   "cell_type": "code",
   "execution_count": 3,
   "id": "3f0acf66",
   "metadata": {},
   "outputs": [
    {
     "data": {
      "text/html": [
       "<div>\n",
       "<style scoped>\n",
       "    .dataframe tbody tr th:only-of-type {\n",
       "        vertical-align: middle;\n",
       "    }\n",
       "\n",
       "    .dataframe tbody tr th {\n",
       "        vertical-align: top;\n",
       "    }\n",
       "\n",
       "    .dataframe thead th {\n",
       "        text-align: right;\n",
       "    }\n",
       "</style>\n",
       "<table border=\"1\" class=\"dataframe\">\n",
       "  <thead>\n",
       "    <tr style=\"text-align: right;\">\n",
       "      <th></th>\n",
       "      <th>volatile acidity</th>\n",
       "      <th>chlorides</th>\n",
       "      <th>label</th>\n",
       "    </tr>\n",
       "  </thead>\n",
       "  <tbody>\n",
       "    <tr>\n",
       "      <th>0</th>\n",
       "      <td>0.27</td>\n",
       "      <td>0.045</td>\n",
       "      <td>1</td>\n",
       "    </tr>\n",
       "    <tr>\n",
       "      <th>1</th>\n",
       "      <td>0.30</td>\n",
       "      <td>0.049</td>\n",
       "      <td>1</td>\n",
       "    </tr>\n",
       "    <tr>\n",
       "      <th>2</th>\n",
       "      <td>0.28</td>\n",
       "      <td>0.050</td>\n",
       "      <td>1</td>\n",
       "    </tr>\n",
       "    <tr>\n",
       "      <th>3</th>\n",
       "      <td>0.23</td>\n",
       "      <td>0.058</td>\n",
       "      <td>1</td>\n",
       "    </tr>\n",
       "    <tr>\n",
       "      <th>4</th>\n",
       "      <td>0.23</td>\n",
       "      <td>0.058</td>\n",
       "      <td>1</td>\n",
       "    </tr>\n",
       "  </tbody>\n",
       "</table>\n",
       "</div>"
      ],
      "text/plain": [
       "   volatile acidity  chlorides  label\n",
       "0              0.27      0.045      1\n",
       "1              0.30      0.049      1\n",
       "2              0.28      0.050      1\n",
       "3              0.23      0.058      1\n",
       "4              0.23      0.058      1"
      ]
     },
     "execution_count": 3,
     "metadata": {},
     "output_type": "execute_result"
    }
   ],
   "source": [
    "data['label'] = data['type'].apply(lambda x: 1 if x=='white' else 0)\n",
    "data = data[['volatile acidity','chlorides','label']]\n",
    "data.head(5)"
   ]
  },
  {
   "cell_type": "code",
   "execution_count": 4,
   "id": "4b350639",
   "metadata": {},
   "outputs": [],
   "source": [
    "def select_data_random(data, N, columns=['volatile acidity','chlorides'] ):\n",
    "    \"\"\"\n",
    "    data    : dataset\n",
    "    N       : numero de datos para el entrenamiento o el test.\n",
    "    columns : columnas correspondientes a las caractesiticas que usaremos.\n",
    "\n",
    "    X_train : N vectores bidimensionales\n",
    "    Y_train : N cantidades binarias\n",
    "    \"\"\"\n",
    "\n",
    "    n_datos = data.shape[0]\n",
    "    \n",
    "    index_train = np.random.randint(0, n_datos-1, N )\n",
    "    data_train = data.loc[data.index.isin(index_train)]\n",
    "\n",
    "    print(data_train.head(1))\n",
    "\n",
    "    X = data_train[columns].to_numpy()\n",
    "    Y = data_train['label'].to_numpy()\n",
    "    return X, Y"
   ]
  },
  {
   "cell_type": "code",
   "execution_count": 5,
   "id": "ff886dac",
   "metadata": {},
   "outputs": [
    {
     "name": "stdout",
     "output_type": "stream",
     "text": [
      "    volatile acidity  chlorides  label\n",
      "46              0.45      0.063      1\n",
      "     volatile acidity  chlorides  label\n",
      "186              0.24       0.04      1\n"
     ]
    }
   ],
   "source": [
    "N = 30\n",
    "M = 10\n",
    "\n",
    "np.random.seed(30)\n",
    "X_train,Y_train = select_data_random(data,N)\n",
    "X_test ,Y_test  = select_data_random(data,M)"
   ]
  },
  {
   "cell_type": "code",
   "execution_count": 6,
   "id": "15540729",
   "metadata": {},
   "outputs": [
    {
     "data": {
      "text/plain": [
       "<matplotlib.collections.PathCollection at 0x21376547750>"
      ]
     },
     "execution_count": 6,
     "metadata": {},
     "output_type": "execute_result"
    },
    {
     "data": {
      "image/png": "[encoded data removed]",
      "text/plain": [
       "<Figure size 1000x500 with 2 Axes>"
      ]
     },
     "metadata": {},
     "output_type": "display_data"
    }
   ],
   "source": [
    "fig, axes = plt.subplots( 1,2 , figsize=( 10, 5 ), sharey = True, sharex = True )\n",
    "axes[0].scatter( X_train[Y_train==0][:,0], X_train[Y_train==0][:,1] )\n",
    "axes[0].scatter( X_train[Y_train==1][:,0], X_train[Y_train==1][:,1] )\n",
    "axes[1].scatter( X_test[Y_test==0][:,0], X_test[Y_test==0][:,1] )\n",
    "axes[1].scatter( X_test[Y_test==1][:,0], X_test[Y_test==1][:,1] )"
   ]
  },
  {
   "cell_type": "markdown",
   "id": "1cc3b0aa",
   "metadata": {},
   "source": [
    "## Problema 2: Kernel clásico.\n",
    "\n",
    "Calcule el siguiente Kernel para sus datos\n",
    "\n",
    "$$ K_{jk}(\\vec{x}) = ( 1 + \\vec{x}_j\\cdot\\vec{x}_k )^2, \\qquad j,k = 1,\\dots, n_{train} . $$\n",
    "\n",
    "También calcule la matriz\n",
    "\n",
    "$$ T_{jk}(\\vec{x},\\vec{t}) = ( 1 + \\vec{t}_j\\cdot\\vec{x}_k )^2, \\qquad j=1,\\dots n_{test},\\quad k=1,\\dots,n_{train}. $$\n",
    "\n",
    "para realizar el test del entrenamiento. Grafique estos Kernels."
   ]
  },
  {
   "cell_type": "code",
   "execution_count": 7,
   "id": "747096a4",
   "metadata": {},
   "outputs": [],
   "source": [
    "def kernel_clasico( X_train, X_test=None ):\n",
    "    \"\"\"\n",
    "    X_train : vector bidimensional para entrenar\n",
    "    X_test  : vector bidimensional para testear\n",
    "    K       : Kernel clasico\n",
    "    \"\"\"\n",
    "\n",
    "    if X_test is None:\n",
    "        X_test = X_train\n",
    "\n",
    "    X_train = np.array(X_train)\n",
    "    X_test  = np.array(X_test)\n",
    "    K      = np.zeros(( X_test.shape[0], X_train.shape[0]))\n",
    "\n",
    "    ######\n",
    "    \n",
    "    ######\n",
    "\n",
    "    return K"
   ]
  },
  {
   "cell_type": "code",
   "execution_count": 8,
   "id": "c79821ac",
   "metadata": {},
   "outputs": [],
   "source": [
    "K_train = kernel_clasico( X_train )\n",
    "K_test  = kernel_clasico( X_train, X_test )"
   ]
  },
  {
   "cell_type": "code",
   "execution_count": 9,
   "id": "6ab0d847",
   "metadata": {},
   "outputs": [
    {
     "data": {
      "text/plain": [
       "<matplotlib.image.AxesImage at 0x21376861ed0>"
      ]
     },
     "execution_count": 9,
     "metadata": {},
     "output_type": "execute_result"
    },
    {
     "data": {
      "image/png": "[encoded data removed]",
      "text/plain": [
       "<Figure size 1000x500 with 2 Axes>"
      ]
     },
     "metadata": {},
     "output_type": "display_data"
    }
   ],
   "source": [
    "fig, ax = plt.subplots( 1, 2, figsize=(10,5) )\n",
    "ax[0].imshow( K_train )\n",
    "ax[1].imshow( K_test )"
   ]
  },
  {
   "cell_type": "markdown",
   "id": "8ef13453",
   "metadata": {},
   "source": [
    "# Problema 3. Entrenamiento con Kernel clásico.\n",
    "Entrene un discriminador con el dataset y el kernel clásico que construyó. Posteriormente, realice un test de su entrenamiento."
   ]
  },
  {
   "cell_type": "code",
   "execution_count": 10,
   "id": "9b586944",
   "metadata": {},
   "outputs": [
    {
     "name": "stdout",
     "output_type": "stream",
     "text": [
      "Datos de entrenamiento: [1 1 1 1 1 1 1 1 0 0]\n",
      "Predicción:             [1 1 1 1 1 1 1 1 0 0]\n",
      "Fidelidad:              1.0\n"
     ]
    }
   ],
   "source": [
    "svm = SVC( kernel = 'precomputed' )\n",
    "svm.fit( K_train, Y_train )\n",
    "Y_predict = svm.predict( K_test )\n",
    "print( 'Datos de entrenamiento:',  Y_test)\n",
    "print( 'Predicción:            ',  Y_predict)\n",
    "print( 'Fidelidad:             ', svm.score(K_test, Y_test) )"
   ]
  },
  {
   "cell_type": "markdown",
   "id": "ef607004",
   "metadata": {},
   "source": [
    "## Problema 4: Codificación en un estado cuántico.\n",
    "\n",
    "Cree una función  que tenga como argumento $\\vec{x}$ bidimensional y como salida un circuito cuántico paramétrico evaluado en $\\vec{x}$ a elección. Denotaremos el estado de este circuito como $|\\phi(\\vec{x})\\rangle$. Como referencia puede utilizar el circuito de la siguiente figura, pero puede modificarlo si lo desea."
   ]
  },
  {
   "attachments": {
    "image.png": {
     "image/png": "[encoded data removed]"
    }
   },
   "cell_type": "markdown",
   "id": "5d2d0c88",
   "metadata": {},
   "source": [
    "![image.png](attachment:image.png)"
   ]
  },
  {
   "cell_type": "code",
   "execution_count": 11,
   "id": "c9332ee7",
   "metadata": {},
   "outputs": [],
   "source": [
    "from qiskit import QuantumCircuit, Aer, execute\n",
    "\n",
    "def circuit( x ):\n",
    "    \"\"\"\n",
    "    x  : vector bidimensional\n",
    "    qc : circuito cuantico\n",
    "    \"\"\"\n",
    "    qc = QuantumCircuit(2, 2)\n",
    "\n",
    "    ####\n",
    "\n",
    "    ####\n",
    "\n",
    "    return qc"
   ]
  },
  {
   "cell_type": "code",
   "execution_count": 12,
   "id": "fd864e39",
   "metadata": {},
   "outputs": [
    {
     "name": "stderr",
     "output_type": "stream",
     "text": [
      "C:\\Users\\Omar\\anaconda3\\Lib\\site-packages\\qiskit\\visualization\\circuit\\matplotlib.py:266: FutureWarning: The default matplotlib drawer scheme will be changed to \"iqp\" in a following release. To silence this warning, specify the current default explicitly as style=\"clifford\", or the new default as style=\"iqp\".\n",
      "  self._style, def_font_ratio = load_style(self._style)\n"
     ]
    },
    {
     "data": {
      "image/png": "[encoded data removed]",
      "text/plain": [
       "<Figure size 454.517x284.278 with 1 Axes>"
      ]
     },
     "execution_count": 12,
     "metadata": {},
     "output_type": "execute_result"
    }
   ],
   "source": [
    "from qiskit.circuit import Parameter\n",
    "\n",
    "theta = Parameter('$\\\\theta$')\n",
    "phi = Parameter('$\\\\phi$')\n",
    "qc1 = circuit( [ theta, phi ] )\n",
    "qc1.draw('mpl')"
   ]
  },
  {
   "cell_type": "markdown",
   "id": "04e31537",
   "metadata": {},
   "source": [
    "## Problema 5: Kernel Cuántico.\n",
    "\n",
    "Cree un programa capaz de evaluar el Kernel cuántico de los datos codificados en el estado $|\\phi(\\vec{x})\\rangle$, es decir\n",
    "\n",
    "$$  K_{jk}^Q =  | \\langle \\phi(\\vec{x}_j) | \\phi(\\vec{x}_k)\\rangle |^2, \\qquad j,k = 1,\\dots, n_{train}. $$\n",
    "\n",
    "Esto requiere componer los circuitos de $\\langle\\phi(\\vec{x}_j)|$ y $|\\phi(\\vec{x}_k)\\rangle$, y después realizar una medida. Análogamente, evalue la matriz\n",
    "\n",
    "$$  T_{jk}^Q =  | \\langle \\phi(\\vec{t}_j) | \\phi(\\vec{x}_k) \\rangle |^2, \\qquad j= 1,\\dots, n_{test},\\quad k = 1,\\dots, n_{train}. $$\n",
    "\n",
    "Grafique ambas matrices."
   ]
  },
  {
   "cell_type": "code",
   "execution_count": 13,
   "id": "277104cb",
   "metadata": {},
   "outputs": [],
   "source": [
    "def circuit_for_kernel_element(x_1, x_2 ):\n",
    "    \n",
    "    \"\"\" \n",
    "    x_1 : vector bidimensional\n",
    "    x_2 : vector bidimensional\n",
    "    qc  : circuito cuantico\n",
    "    \"\"\"\n",
    "\n",
    "    qc = QuantumCircuit(2, 2)\n",
    "    ####\n",
    " \n",
    "    ####\n",
    "\n",
    "    return qc\n",
    "\n",
    "def Quantum_Kernel( X_train, X_test=None, backend=Aer.get_backend('statevector_simulator'), shots=1000 ):\n",
    "    \"\"\" \n",
    "    X_train : vector bidimensional para entrenar\n",
    "    X_test  : vector bidimensional para testear\n",
    "    K_q     : Kernel cuantico\n",
    "    backend : simulador o computador cuantico\n",
    "    shots   : numero de shots     \n",
    "    \"\"\"\n",
    "\n",
    "    if X_test is None:\n",
    "        X_test = X_train\n",
    "    X_train = np.array(X_train)\n",
    "    X_test  = np.array(X_test)\n",
    "\n",
    "    qcs = []\n",
    "    for x_test in X_test:\n",
    "        for x_train in X_train:\n",
    "            qcs.append( circuit_for_kernel_element( x_train, x_test ) )\n",
    "\n",
    "    ####\n",
    "    \n",
    "    ####\n",
    "\n",
    "    K_q = np.zeros(( X_test.shape[0], X_train.shape[0]))\n",
    "    ###\n",
    "    \n",
    "     ###\n",
    "\n",
    "    return K_q"
   ]
  },
  {
   "cell_type": "code",
   "execution_count": 14,
   "id": "3eaedcc9",
   "metadata": {},
   "outputs": [],
   "source": [
    "Kq_train = Quantum_Kernel( X_train )\n",
    "Kq_test  = Quantum_Kernel( X_train, X_test )"
   ]
  },
  {
   "cell_type": "code",
   "execution_count": 15,
   "id": "3eb65932",
   "metadata": {},
   "outputs": [
    {
     "data": {
      "text/plain": [
       "<matplotlib.image.AxesImage at 0x2137aaebdd0>"
      ]
     },
     "execution_count": 15,
     "metadata": {},
     "output_type": "execute_result"
    },
    {
     "data": {
      "image/png": "[encoded data removed]",
      "text/plain": [
       "<Figure size 1000x500 with 2 Axes>"
      ]
     },
     "metadata": {},
     "output_type": "display_data"
    }
   ],
   "source": [
    "fig, ax = plt.subplots( 1, 2, figsize=(10,5) )\n",
    "ax[0].imshow( Kq_train )\n",
    "ax[1].imshow( Kq_test )"
   ]
  },
  {
   "cell_type": "markdown",
   "id": "0cf817cd",
   "metadata": {},
   "source": [
    "# Problema 6. Entrenamiento con Kernel Cuántico.\n",
    "Entrene un discriminador con el dataset y el kernel cuántico que construyó. Posteriormente, realice un test de su entrenamiento."
   ]
  },
  {
   "cell_type": "code",
   "execution_count": 16,
   "id": "a2e08c7c",
   "metadata": {},
   "outputs": [
    {
     "name": "stdout",
     "output_type": "stream",
     "text": [
      "Datos de entrenamiento: [1 1 1 1 1 1 1 1 0 0]\n",
      "Predicción:             [1 1 1 1 1 1 1 1 0 0]\n",
      "Fidelidad:              1.0\n"
     ]
    }
   ],
   "source": [
    "svm = SVC( kernel = 'precomputed' )\n",
    "svm.fit( Kq_train, Y_train )\n",
    "Y_pred_quantum = svm.predict(Kq_test)\n",
    "print( 'Datos de entrenamiento:',  Y_test)\n",
    "print( 'Predicción:            ',  Y_pred_quantum)\n",
    "print( 'Fidelidad:             ', svm.score(Kq_test, Y_test) )"
   ]
  }
 ],
 "metadata": {
  "kernelspec": {
   "display_name": "Python 3 (ipykernel)",
   "language": "python",
   "name": "python3"
  },
  "language_info": {
   "codemirror_mode": {
    "name": "ipython",
    "version": 3
   },
   "file_extension": ".py",
   "mimetype": "text/x-python",
   "name": "python",
   "nbconvert_exporter": "python",
   "pygments_lexer": "ipython3",
   "version": "3.11.4"
  }
 },
 "nbformat": 4,
 "nbformat_minor": 5
}
