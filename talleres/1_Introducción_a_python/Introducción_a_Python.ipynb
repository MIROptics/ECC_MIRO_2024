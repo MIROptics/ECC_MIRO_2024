{
 "cells": [
  {
   "cell_type": "markdown",
   "id": "5fa63cf8-7c59-448b-8630-86d606e0babb",
   "metadata": {},
   "source": [
    "<img src=\"https://www.python.org/static/img/python-logo@2x.png\" style=\"background-color:#1E415E; float:left\"/>"
   ]
  },
  {
   "cell_type": "markdown",
   "id": "54fabd72-aa42-41a4-862d-aed8c5bdab9d",
   "metadata": {},
   "source": [
    "# Presentación del lenguaje\n",
    "\n",
    "Python es un lenguaje de programación creado por [Guido van Rossum](https://es.wikipedia.org/wiki/Guido_van_Rossum) a principios de los 90s, quién se inspiro en el grupo de humoristas británicos [Monty Python](https://es.wikipedia.org/wiki/Monty_Python) para elegir el nombre.\n",
    "\n",
    "Este lenguaje, a diferencia de la mayor parte de los lenguajes que le preceden, es muy sencillo de leer y escribir: La persona que lo utiliza puede concentrarse en lo que quiere que el computador haga, complicandose muy poco en cuanto a cómo estructurar las instrucciones para que el computador pueda seguirlas. En otras palabras, Python tiene una estructura sintáctica simple y clara.\n",
    "\n",
    "La simplicidad de Python permitió este se convirtiera en uno de los lenguajes de programación más populares hoy en dia, permitiendo que personas sin un gran dominio técnico pudan crear programas computacionales en pocas líneas, fáciles de leer, y que cumplieran con el trabajo requerido. Para una persona que sepa leer en inglés, se volverá muy sencillo leer un programa escrito en Python. De todos modos, si no sabe inglés no se preocupe, porque la cantidad de palabras que utiliza Python es tan pequeña, que las aprenderá brevemente."
   ]
  },
  {
   "cell_type": "markdown",
   "id": "3c99c032-3c7a-41fd-87eb-d76049a8f851",
   "metadata": {
    "tags": []
   },
   "source": [
    "## Plataforma\n",
    "Este tutorial, al igual que el resto de los talleres de la escuela, serán desarrollados en formato Jupyter Notebbok sobre la plataforma [lab.quantum-computing.ibm.com](https://lab.quantum-computing.ibm.com)"
   ]
  },
  {
   "cell_type": "markdown",
   "id": "836e9a05-1157-42a8-889b-a275376850a8",
   "metadata": {},
   "source": [
    "# Conceptos básicos\n",
    "\n",
    "En Python, cada línea que usted escriba tiene sentido propio. Por ejemplo, puede escribir operaciones matemáticas, y al correrlas retornan el resultado de esa operación.\n",
    "\n",
    "Para correr una celda, en el caso de este _notebook_, puede seleccionar la celda a correr con el _mouse_ y luego presionar `Shift + Enter`."
   ]
  },
  {
   "cell_type": "code",
   "execution_count": 1,
   "id": "1bd088fe-c32c-4cf4-bbac-4f835d5e5d91",
   "metadata": {
    "tags": []
   },
   "outputs": [
    {
     "data": {
      "text/plain": [
       "5"
      ]
     },
     "execution_count": 1,
     "metadata": {},
     "output_type": "execute_result"
    }
   ],
   "source": [
    "2 + 3"
   ]
  },
  {
   "cell_type": "markdown",
   "id": "69f4bddd-94eb-4b7d-beae-0b75da4707e9",
   "metadata": {},
   "source": [
    "En el caso de que tenga varias líneas dentro de una celda, sólo se mostrará automaticamente el resultado de la última línea"
   ]
  },
  {
   "cell_type": "code",
   "execution_count": 2,
   "id": "505e0e86-3d21-4492-94fa-b8f5313f4e0a",
   "metadata": {
    "tags": []
   },
   "outputs": [
    {
     "data": {
      "text/plain": [
       "33.0"
      ]
     },
     "execution_count": 2,
     "metadata": {},
     "output_type": "execute_result"
    }
   ],
   "source": [
    "1 + 2\n",
    "4 - 6\n",
    "2 * 4\n",
    "99 / 3"
   ]
  },
  {
   "cell_type": "markdown",
   "id": "ad9c67e3-084e-4861-a4fa-a7ce32e4b075",
   "metadata": {},
   "source": [
    "# Variables y comentarios\n",
    "\n",
    "Una __variable__ es un objeto que tiene nombre y guarda un valor o conjunto de valores. Puede crearlas escribiendo el nombre deseado, y utilizando el operador de asignación `=` para otorgale el valor deseado.\n",
    "\n",
    "Los nombres de variables pueden contener mayúsculas, minúsculas, guiones bajos, e incluso números en su interior, pero __no pueden contener__ guiones normales ni otros caracteres especiales. Además, los nombres no pueden comenzar con un número.\n",
    "\n",
    "Python ignorará todo texto que venga en una línea seguido de un símbolo `#`. A este texto se le llama __comentario__, y es útil para dejar mensajes a los humanos que lean su código. Un uso típico de los comentarios es explicar lo que hace una porción de código."
   ]
  },
  {
   "cell_type": "code",
   "execution_count": 3,
   "id": "3f27c59b",
   "metadata": {
    "tags": []
   },
   "outputs": [
    {
     "data": {
      "text/plain": [
       "9"
      ]
     },
     "execution_count": 3,
     "metadata": {},
     "output_type": "execute_result"
    }
   ],
   "source": [
    "# Soy un comentario! =)\n",
    "\n",
    "# Aquí declaramos dos variables\n",
    "mi_variable = 4\n",
    "mi_variable_2 = 5\n",
    "\n",
    "# Si sumo los valores de mis variables debería obtener 9\n",
    "mi_variable + mi_variable_2"
   ]
  },
  {
   "cell_type": "markdown",
   "id": "a91a51e6",
   "metadata": {},
   "source": [
    "## Tipos de variable\n",
    "\n",
    "Para el contenido de este curso sólo nos preocuparemos de 5 tipos de variable fundamentales:\n",
    "1.  Enteros (`int`)\n",
    "2.  Reales  (`float`)\n",
    "3.  Complejos (`complex`)\n",
    "4.  Lógicas o Booleanas (`bool`)\n",
    "5.  Cadenas de texto o _Strings_ (`str`)\n",
    "\n",
    "y podemos averiguar el tipo de una variable utilizando la función de python, `type`.\n",
    "\n",
    "\n",
    "### Enteros\n",
    "Los enteros son numeros que trabajamos sin parte decimal, como por ejemplo `4` o `-110`"
   ]
  },
  {
   "cell_type": "code",
   "execution_count": 4,
   "id": "7c4f0513",
   "metadata": {
    "tags": []
   },
   "outputs": [
    {
     "data": {
      "text/plain": [
       "int"
      ]
     },
     "execution_count": 4,
     "metadata": {},
     "output_type": "execute_result"
    }
   ],
   "source": [
    "type(4)"
   ]
  },
  {
   "cell_type": "markdown",
   "id": "2205d5eb",
   "metadata": {},
   "source": [
    "### Reales\n",
    "\n",
    "Si escribimos un número con parte decimal, este será un real."
   ]
  },
  {
   "cell_type": "code",
   "execution_count": 5,
   "id": "5aa0c08b",
   "metadata": {
    "tags": []
   },
   "outputs": [
    {
     "data": {
      "text/plain": [
       "float"
      ]
     },
     "execution_count": 5,
     "metadata": {},
     "output_type": "execute_result"
    }
   ],
   "source": [
    "type(4.0) # También se puede escribir como '4.' y se asume que todo lo que viene despues son ceros"
   ]
  },
  {
   "cell_type": "code",
   "execution_count": 6,
   "id": "6ed4af2b",
   "metadata": {
    "tags": []
   },
   "outputs": [
    {
     "data": {
      "text/plain": [
       "1.3333333333333333"
      ]
     },
     "execution_count": 6,
     "metadata": {},
     "output_type": "execute_result"
    }
   ],
   "source": [
    "4 / 3"
   ]
  },
  {
   "cell_type": "code",
   "execution_count": 7,
   "id": "a5de6484",
   "metadata": {
    "tags": []
   },
   "outputs": [
    {
     "data": {
      "text/plain": [
       "2.0"
      ]
     },
     "execution_count": 7,
     "metadata": {},
     "output_type": "execute_result"
    }
   ],
   "source": [
    "4 / 2 # El resultado es un real, incluso si los numeros son divisibles de forma exacta"
   ]
  },
  {
   "cell_type": "markdown",
   "id": "0ab43da2",
   "metadata": {},
   "source": [
    "### Complejos\n",
    "\n",
    "Los complejos son numeros que tienen una parte real y otra imaginaria, dónde la parte imaginaria es un numero real multiplicado por la unidad imaginaria, $i$.\n",
    "\n",
    "En python, la unidad imaginaria se denota con una letra `j`, y esta acompaña a la parte imaginaria de un numero sin usar el simbolo de multiplicación."
   ]
  },
  {
   "cell_type": "code",
   "execution_count": 8,
   "id": "71840a85",
   "metadata": {
    "tags": []
   },
   "outputs": [
    {
     "data": {
      "text/plain": [
       "(1+2j)"
      ]
     },
     "execution_count": 8,
     "metadata": {},
     "output_type": "execute_result"
    }
   ],
   "source": [
    "1 + 2j # Este es un numero con parte real 1 y parte imaginaria 2."
   ]
  },
  {
   "cell_type": "code",
   "execution_count": 9,
   "id": "0c77d3a2",
   "metadata": {
    "tags": []
   },
   "outputs": [],
   "source": [
    "cero_complejo = 0j # Este es un numero con partes real e imaginaria cero"
   ]
  },
  {
   "cell_type": "code",
   "execution_count": 10,
   "id": "f7efea24",
   "metadata": {
    "tags": []
   },
   "outputs": [
    {
     "data": {
      "text/plain": [
       "complex"
      ]
     },
     "execution_count": 10,
     "metadata": {},
     "output_type": "execute_result"
    }
   ],
   "source": [
    "type(cero_complejo)"
   ]
  },
  {
   "cell_type": "code",
   "execution_count": 11,
   "id": "6982cb4b",
   "metadata": {
    "tags": []
   },
   "outputs": [
    {
     "data": {
      "text/plain": [
       "(2+0j)"
      ]
     },
     "execution_count": 11,
     "metadata": {},
     "output_type": "execute_result"
    }
   ],
   "source": [
    "cero_complejo + 2 # Esto es un numero complejo con parte real 2 y parte imaginaria 0"
   ]
  },
  {
   "cell_type": "markdown",
   "id": "49100c93",
   "metadata": {},
   "source": [
    "Para que se entienda como la unidad imaginaria, `j` debe estar junto a un número y sin operaciones de por medio. Si por el contrario se tiene una expresión como\n",
    "```python\n",
    "1 + j\n",
    "```\n",
    "o\n",
    "```python\n",
    "2 - 4*j\n",
    "```\n",
    "se entenderá que está operando con una variable llamada `j`, la que deberá estar previamente definida por usted."
   ]
  },
  {
   "cell_type": "markdown",
   "id": "9cf25c37",
   "metadata": {},
   "source": [
    "### Lógicas\n",
    "\n",
    "Son variables que tienen un valor de verdad verdadero (`True`) o falso (`False`). La forma más común de obtenerlas es mediante comparaciones de otras variables."
   ]
  },
  {
   "cell_type": "code",
   "execution_count": 12,
   "id": "a9918209",
   "metadata": {
    "tags": []
   },
   "outputs": [
    {
     "data": {
      "text/plain": [
       "False"
      ]
     },
     "execution_count": 12,
     "metadata": {},
     "output_type": "execute_result"
    }
   ],
   "source": [
    "mi_variable_logica = 3 >= 4 # 'mi_variable_logica' tiene el valor de verdad de \"3 es mayor o igual a 4\"\n",
    "\n",
    "mi_variable_logica"
   ]
  },
  {
   "cell_type": "markdown",
   "id": "3df38ef8",
   "metadata": {},
   "source": [
    "Las comparaciones numéricas más comunes son de igualdad (`==`), mayor o menor estricto (`>`, `<`), mayor o igual (`>=`), menor o igual (`<=`)."
   ]
  },
  {
   "cell_type": "markdown",
   "id": "da2be08d",
   "metadata": {},
   "source": [
    "#### Operadores lógicos\n",
    "\n",
    "Existen operadores que actúan sobre variables lógicas. Los más importantes son:"
   ]
  },
  {
   "cell_type": "code",
   "execution_count": 13,
   "id": "7ab499e0",
   "metadata": {
    "tags": []
   },
   "outputs": [
    {
     "data": {
      "text/plain": [
       "True"
      ]
     },
     "execution_count": 13,
     "metadata": {},
     "output_type": "execute_result"
    }
   ],
   "source": [
    "# Negación (actúa sólo sobre una variable, negándola)\n",
    "not mi_variable_logica"
   ]
  },
  {
   "cell_type": "code",
   "execution_count": 14,
   "id": "23ad3505",
   "metadata": {
    "tags": []
   },
   "outputs": [
    {
     "data": {
      "text/plain": [
       "False"
      ]
     },
     "execution_count": 14,
     "metadata": {},
     "output_type": "execute_result"
    }
   ],
   "source": [
    "# Operador 'y'. Verdadero sólo si sus dos argumentos son verdaderos\n",
    "mi_variable_logica and True"
   ]
  },
  {
   "cell_type": "code",
   "execution_count": 15,
   "id": "ea6c08a8",
   "metadata": {
    "tags": []
   },
   "outputs": [
    {
     "data": {
      "text/plain": [
       "True"
      ]
     },
     "execution_count": 15,
     "metadata": {},
     "output_type": "execute_result"
    }
   ],
   "source": [
    "# Operador 'o'. Verdadero si al menos uno de sus argumentos es verdadero\n",
    "mi_variable_logica or True"
   ]
  },
  {
   "cell_type": "markdown",
   "id": "1ab433ca",
   "metadata": {},
   "source": [
    "### _Strings_\n",
    "\n",
    "Las cadenas de texto o _strings_, son variables que almacenan un mensaje alfanumérico, y se definen delimitandolas entre comillar simples (\\')."
   ]
  },
  {
   "cell_type": "code",
   "execution_count": 16,
   "id": "71505505",
   "metadata": {
    "tags": []
   },
   "outputs": [
    {
     "data": {
      "text/plain": [
       "'Soy una cadena de texto! Puedo contener números y símbolos estándares: 12312312 !\"#%$&/'"
      ]
     },
     "execution_count": 16,
     "metadata": {},
     "output_type": "execute_result"
    }
   ],
   "source": [
    "msj = 'Soy una cadena de texto! Puedo contener números y símbolos estándares: 12312312 !\"#%$&/'\n",
    "\n",
    "msj"
   ]
  },
  {
   "cell_type": "code",
   "execution_count": 17,
   "id": "58e25bbc",
   "metadata": {
    "tags": []
   },
   "outputs": [
    {
     "data": {
      "text/plain": [
       "str"
      ]
     },
     "execution_count": 17,
     "metadata": {},
     "output_type": "execute_result"
    }
   ],
   "source": [
    "type(msj)"
   ]
  },
  {
   "cell_type": "markdown",
   "id": "bf4808e0-ef7f-42fd-9e03-3bf2ea283531",
   "metadata": {},
   "source": [
    "# Errores\n",
    "\n",
    "Como en cualquier lenguaje, siempre es posible escribir algún mensaje que no cumpla sus reglas, dejando al computador en una situación en la que no puede interpretar lo que se le pidió. También es posible ordenar al computador que realice una acción que por diversos motivos puede no ser posible. En ambos casos obtendremos un __mensaje de error__.\n",
    "\n",
    "Los mensajes de error pueden llegar a ser muy extensos, y a veces entregan un volumen de información técnica abrumadora, pero por lo general obtendrá, __al final del mensaje__, un resumen del error que un ser humano sin tanto entrenamiento puede comprender. Este mensaje le dirá en inglés qué fue lo que ocurrió mal, y posiblemente le indique incluso cómo corregirlo."
   ]
  },
  {
   "cell_type": "code",
   "execution_count": 18,
   "id": "018b29e1-c21d-4986-9dbb-d7b97b2b2b73",
   "metadata": {
    "tags": []
   },
   "outputs": [
    {
     "name": "stdout",
     "output_type": "stream",
     "text": [
      "Traceback \u001b[1;36m(most recent call last)\u001b[0m:\n",
      "\u001b[1;36m  Cell \u001b[1;32mIn[18], line 1\u001b[1;36m\n",
      "\u001b[1;33m    3 / 0 # Esta línea lanzará un error ya que estamos dividiendo por cero!!!\u001b[1;36m\n",
      "\u001b[1;31mZeroDivisionError\u001b[0m\u001b[1;31m:\u001b[0m division by zero\n",
      "\n",
      "Use %tb to get the full traceback.\n"
     ]
    },
    {
     "data": {
      "text/html": [
       "\n",
       "<style>\n",
       ".button {\n",
       "  border: none;\n",
       "  color: white;\n",
       "  padding: 4px 8px;\n",
       "  text-align: center;\n",
       "  text-decoration: none;\n",
       "  display: inline-block;\n",
       "  font-size: 12px;\n",
       "  margin: 4px 2px;\n",
       "  transition-duration: 0.2s;\n",
       "  cursor: pointer;\n",
       "}\n",
       ".iqx-button {\n",
       "  background-color: #0f62fe; \n",
       "  color: white; \n",
       "}\n",
       ".iqx-button:hover {\n",
       "  background-color: #0043ce;\n",
       "  color: white;\n",
       "}\n",
       "</style>\n",
       "<a href=\"https://stackoverflow.com/search?q=ZeroDivisionError: division by zero\" target='_blank'><button class='button iqx-button'>Search for solution online</button></a>\n"
      ],
      "text/plain": [
       "<IPython.core.display.HTML object>"
      ]
     },
     "metadata": {},
     "output_type": "display_data"
    }
   ],
   "source": [
    "3 / 0 # Esta línea lanzará un error ya que estamos dividiendo por cero!!!"
   ]
  },
  {
   "cell_type": "markdown",
   "id": "7f7ca8d6-f150-4c4c-84ff-b2e5374bb99f",
   "metadata": {},
   "source": [
    "# Funciones\n",
    "\n",
    "Una función es un objeto que toma argumentos, y en base a ellos realiza alguna acción o retorna algún valor.\n",
    "\n",
    "Por ejemplo, la función `pow` toma dos números `a` y `b`, y retorna `a` elevado a `b`."
   ]
  },
  {
   "cell_type": "code",
   "execution_count": 19,
   "id": "5c682c04-47a5-4062-9e38-9e171c84489b",
   "metadata": {
    "tags": []
   },
   "outputs": [
    {
     "data": {
      "text/plain": [
       "8"
      ]
     },
     "execution_count": 19,
     "metadata": {},
     "output_type": "execute_result"
    }
   ],
   "source": [
    "pow(2, 3) # También lo podemos escribir como 2**3"
   ]
  },
  {
   "cell_type": "markdown",
   "id": "80abaffc-d45a-43b9-b819-48983383a782",
   "metadata": {},
   "source": [
    "Otro ejemplo de función es `print`, que toma uno o más argumentos y los imprime en pantalla."
   ]
  },
  {
   "cell_type": "code",
   "execution_count": 20,
   "id": "7c7d437b-f37a-4501-aaa8-302191008160",
   "metadata": {
    "tags": []
   },
   "outputs": [
    {
     "name": "stdout",
     "output_type": "stream",
     "text": [
      "8\n",
      "1.4142135623730951\n",
      "El sentido de la vida es 42\n"
     ]
    }
   ],
   "source": [
    "print(2 ** 3)\n",
    "print(2 ** 0.5) # Esto es la raíz cuadrada de 2, aproximadamente 1.4142...\n",
    "print('El sentido de la vida es', 42)"
   ]
  },
  {
   "cell_type": "markdown",
   "id": "03413325-dad2-4f4c-886a-b46beabb5332",
   "metadata": {},
   "source": [
    "Notemos que una función viene identificada sólo por su nombre, y que para referirnos a ella __no le ponemos paréntesis__. Por ejemplo, nos referirnos a la función `pow` y __no__ a `pow()`."
   ]
  },
  {
   "cell_type": "code",
   "execution_count": 21,
   "id": "7c8ab906-6d3c-445e-8021-84afc04b23ed",
   "metadata": {
    "tags": []
   },
   "outputs": [
    {
     "data": {
      "text/plain": [
       "<function pow(base, exp, mod=None)>"
      ]
     },
     "execution_count": 21,
     "metadata": {},
     "output_type": "execute_result"
    }
   ],
   "source": [
    "pow # Esto es una función, y Python la identifica como tal"
   ]
  },
  {
   "cell_type": "code",
   "execution_count": 22,
   "id": "60cd5d04-ee47-49bc-8b0f-5c807d058e08",
   "metadata": {
    "tags": []
   },
   "outputs": [
    {
     "name": "stdout",
     "output_type": "stream",
     "text": [
      "Traceback \u001b[1;36m(most recent call last)\u001b[0m:\n",
      "\u001b[1;36m  Cell \u001b[1;32mIn[22], line 3\u001b[1;36m\n",
      "\u001b[1;33m    pow()\u001b[1;36m\n",
      "\u001b[1;31mTypeError\u001b[0m\u001b[1;31m:\u001b[0m pow() missing required argument 'base' (pos 1)\n",
      "\n",
      "Use %tb to get the full traceback.\n"
     ]
    },
    {
     "data": {
      "text/html": [
       "\n",
       "<style>\n",
       ".button {\n",
       "  border: none;\n",
       "  color: white;\n",
       "  padding: 4px 8px;\n",
       "  text-align: center;\n",
       "  text-decoration: none;\n",
       "  display: inline-block;\n",
       "  font-size: 12px;\n",
       "  margin: 4px 2px;\n",
       "  transition-duration: 0.2s;\n",
       "  cursor: pointer;\n",
       "}\n",
       ".iqx-button {\n",
       "  background-color: #0f62fe; \n",
       "  color: white; \n",
       "}\n",
       ".iqx-button:hover {\n",
       "  background-color: #0043ce;\n",
       "  color: white;\n",
       "}\n",
       "</style>\n",
       "<a href=\"https://stackoverflow.com/search?q=TypeError: pow() missing required argument 'base' (pos 1)\" target='_blank'><button class='button iqx-button'>Search for solution online</button></a>\n"
      ],
      "text/plain": [
       "<IPython.core.display.HTML object>"
      ]
     },
     "metadata": {},
     "output_type": "display_data"
    }
   ],
   "source": [
    "# Esto falla, porque le estamos pidiendo a Python que evalúe 'pow' sin ningún argumento,\n",
    "# lo que no está definido\n",
    "pow()"
   ]
  },
  {
   "cell_type": "markdown",
   "id": "da6080f1-e3ba-437d-a201-3c9fa6ae88b6",
   "metadata": {},
   "source": [
    "__Tip:__ Siempre que en Python vea un nombre con un paréntesis redondo a su derecha, es porque se llama a una función.\n",
    "\n",
    "Por ejemplo:\n",
    "```python\n",
    "print()\n",
    "int(2.5)\n",
    "```\n",
    "    "
   ]
  },
  {
   "cell_type": "markdown",
   "id": "7bc9384d-539a-481d-9cec-9338897adbc7",
   "metadata": {},
   "source": [
    "__Tip:__ Existe una función que le permite obtener información sobre otros objetos en Python. Esta función se llama `help` y puede, por ejemplo, darle información sobre qué hacen otras funciones y cómo utilizarlas."
   ]
  },
  {
   "cell_type": "code",
   "execution_count": 23,
   "id": "ffbdea62-ce36-4d80-8c5f-27007b5551f7",
   "metadata": {
    "tags": []
   },
   "outputs": [
    {
     "name": "stdout",
     "output_type": "stream",
     "text": [
      "Help on built-in function pow in module builtins:\n",
      "\n",
      "pow(base, exp, mod=None)\n",
      "    Equivalent to base**exp with 2 arguments or base**exp % mod with 3 arguments\n",
      "    \n",
      "    Some types, such as ints, are able to use a more efficient algorithm when\n",
      "    invoked using the three argument form.\n",
      "\n"
     ]
    }
   ],
   "source": [
    "help(pow)"
   ]
  },
  {
   "cell_type": "markdown",
   "id": "907fcecb-e0c2-45fc-973e-705ebb2280bb",
   "metadata": {},
   "source": [
    "## Definiendo nuevas funciones\n",
    "\n",
    "Como vimos, existen funciones intrínsecas de Python, lo que significa que vienen pre-definidas. De todos modos, es lógico que queramos definir nuestras propias funciones para extender la funcionalidad de Python, lo cual es muy sencillo de hacer.\n",
    "\n",
    "Para definir una nueva función se utiliza la palabra `def`, y se utiliza como se muestra a continuación"
   ]
  },
  {
   "cell_type": "code",
   "execution_count": 24,
   "id": "59cca82d-7963-46f1-9ce5-4e1ce8b3cbf8",
   "metadata": {
    "tags": []
   },
   "outputs": [],
   "source": [
    "def saludar(argumento):\n",
    "    # Notar que despues del nombre de la funcion vienen los argumentos, y finaliza la declaracion con ':'\n",
    "    # Aquí escribir todo lo que quiera que la función haga\n",
    "    print('Hola,', argumento, '!')\n",
    "    print('Es un gusto tenerte aquí :)')\n",
    "    \n",
    "# Aquí podría escribir más código, el cual no pertenece a la función."
   ]
  },
  {
   "cell_type": "markdown",
   "id": "eb5f1278-b7de-44e7-9b47-a1fc98069026",
   "metadata": {},
   "source": [
    "\n",
    "Es importante notar que Python detecta qué líneas pertenecen al cuerpo de la función en base a la indentación, es decir, de acuerdo a la cantidad de espacios en blanco que tenga la línea al principio.\n",
    "\n",
    "Esto es __muy importante__. Python espera que en un bloque de código, todas las líneas comiencen con la misma cantidad de espacios al inicio. Si dos líneas tienen distinta indentación, Python asumirá que corresponden a bloques distintos, y en este caso, terminará la definición de la función.\n",
    "\n",
    "\n",
    "Ahora puede ejecutar la funcion definida como es usual"
   ]
  },
  {
   "cell_type": "code",
   "execution_count": 25,
   "id": "7a9969bd-9d90-41a2-9792-359e30d17b24",
   "metadata": {
    "tags": []
   },
   "outputs": [
    {
     "name": "stdout",
     "output_type": "stream",
     "text": [
      "Hola, Francisco !\n",
      "Es un gusto tenerte aquí :)\n"
     ]
    }
   ],
   "source": [
    "nombre_usuario = 'Francisco' # Cambie Francisco por su nombre aquí\n",
    "\n",
    "saludar(nombre_usuario)"
   ]
  },
  {
   "cell_type": "markdown",
   "id": "80c9f53b-4adc-41a4-97b8-c91f23478433",
   "metadata": {},
   "source": [
    "También es posible definir funciones con un mayor numero de argumentos, o que retornen un valor en particular. Supongamos que queremos definir una función que para tres argumentos, `x`, `y`, `z`, y calcule \n",
    "\n",
    "$$f(x, y, z) = 2x - 3xy + z^2.$$\n",
    "\n",
    "Esto lo podemos hacer con la palabra `return`"
   ]
  },
  {
   "cell_type": "code",
   "execution_count": 26,
   "id": "81b16562",
   "metadata": {
    "tags": []
   },
   "outputs": [
    {
     "data": {
      "text/plain": [
       "5"
      ]
     },
     "execution_count": 26,
     "metadata": {},
     "output_type": "execute_result"
    }
   ],
   "source": [
    "def f(x, y, z):\n",
    "    return 2*x - 3*x*y + z**2\n",
    "\n",
    "# Probamos la función\n",
    "f(1, 2, 3) # Debe dar como resultado 5"
   ]
  },
  {
   "cell_type": "markdown",
   "id": "18d1e653",
   "metadata": {},
   "source": [
    "En el caso anterior pasamos los valores `x=1`, `y=2` y `z=3` por el orden en que estaban definidos, pero también podemos pasar estos valores en otro orden si damos su nombre"
   ]
  },
  {
   "cell_type": "code",
   "execution_count": 27,
   "id": "492f2671",
   "metadata": {
    "tags": []
   },
   "outputs": [
    {
     "data": {
      "text/plain": [
       "5"
      ]
     },
     "execution_count": 27,
     "metadata": {},
     "output_type": "execute_result"
    }
   ],
   "source": [
    "f(z=3, x=1, y=2) # equivalente a f(1, 2, 3)"
   ]
  },
  {
   "cell_type": "markdown",
   "id": "1dce0e3e",
   "metadata": {},
   "source": [
    "Además, es posible definir las funciones con argumentos que tengan un valor por defecto, pero que puede ser especificado si el usuario lo desea"
   ]
  },
  {
   "cell_type": "code",
   "execution_count": 28,
   "id": "a64e2280-5c0c-46cf-a159-e28248811a97",
   "metadata": {
    "tags": []
   },
   "outputs": [
    {
     "name": "stdout",
     "output_type": "stream",
     "text": [
      "-4\n",
      "5\n"
     ]
    }
   ],
   "source": [
    "def f(x, y, z=0):\n",
    "    return 2*x - 3*x*y + z**2\n",
    "\n",
    "print(f(1, 2))    # Asume z=0, debe dar como resultado -4\n",
    "print(f(1, 2, 3)) # Toma  z=3, retornando 5 como antes."
   ]
  },
  {
   "cell_type": "markdown",
   "id": "2d642207",
   "metadata": {},
   "source": [
    "### Reducción de argumentos\n",
    "\n",
    "Es recurrente encontrarnos en situaciones en que nos interesa estudiar la dependencia de una función en sólo un subconjunto de sus argumentos, fijando el resto.\n",
    "\n",
    "Imaginemos que queremos entregar una función `g` que haga lo mismo que la función `f` previamente definida, pero que sólo dependa de la variable `x`, fijando `y=0` y `z=0`.\n",
    "¿Cómo lo podríamos implementar?"
   ]
  },
  {
   "cell_type": "markdown",
   "id": "56c294cd",
   "metadata": {},
   "source": [
    "#### Ejercicio\n",
    "Defina una función `g`, que tome `x`, y retorne `f(x, 0, 0)`."
   ]
  },
  {
   "cell_type": "markdown",
   "id": "01636f3a",
   "metadata": {},
   "source": [
    "### Funciones lambda\n",
    "\n",
    "Las funciones anónimas son funciones que no tienen un identificador (nombre) asociado, y en general están pensadas para ser usadas sólo una vez y luego descartadas.\n",
    "\n",
    "En Python, las funciones anónimas son comúmmente llamadas \"funciones lambda\", y proveen una sintáxis muy cómoda para definir funciones breves.\n",
    "\n",
    "A modo de ejemplo, la instrucción\n",
    "```python\n",
    "lambda x: x**2 - 3\n",
    "```\n",
    "genera una función anónima, la cual toma un argumento, $x$, y retorna $x^2 - 3$.\n",
    "\n",
    "\n",
    "También es posible generar una función que tome dos o mas argumentos. Por ejemplo, la función `f` que definimos mas arriba, que tomaba $x$, $y$ y $z$, y retornaba $2x + 3xy + z^2$, podría ser definida mas brevemente como\n",
    "\n",
    "```python\n",
    "f = lambda x, y, z: 2*x + 3*x*y + z**2\n",
    "```\n",
    "\n",
    "En particular, es muy cómodo utilizar funciones lambda para fijar argumentos de funciones previamente existentes."
   ]
  },
  {
   "cell_type": "code",
   "execution_count": 29,
   "id": "532e907d",
   "metadata": {
    "tags": []
   },
   "outputs": [],
   "source": [
    "def g(x):\n",
    "    return f(x,0,0)\n",
    "\n",
    "# Escriba su solución aquí"
   ]
  },
  {
   "cell_type": "code",
   "execution_count": 30,
   "id": "b14ac27b-8c19-4152-b8f8-bd2e7fead402",
   "metadata": {
    "tags": []
   },
   "outputs": [
    {
     "data": {
      "text/plain": [
       "2"
      ]
     },
     "execution_count": 30,
     "metadata": {},
     "output_type": "execute_result"
    }
   ],
   "source": [
    "g(1)\n",
    "f(1,0,0)"
   ]
  },
  {
   "cell_type": "markdown",
   "id": "41df6b54",
   "metadata": {},
   "source": [
    "#### Ejercicio\n",
    "Utilice sintaxis de funciones lambda para definir la función `g` del ejercicio anterior."
   ]
  },
  {
   "cell_type": "code",
   "execution_count": 31,
   "id": "b046d1be",
   "metadata": {
    "tags": []
   },
   "outputs": [],
   "source": [
    "# Escriba su solución aquí"
   ]
  },
  {
   "cell_type": "markdown",
   "id": "7d82ae1e-0090-446c-a48b-13e814c18ca6",
   "metadata": {},
   "source": [
    "# Listas y Diccionarios\n",
    "\n",
    "## Listas\n",
    "\n",
    "Entre los distintos tipos de objeto que Python nos permite utilizar, están las listas. Estas funcionan como un contenedor __unidimensional ordenado__ que nos permite almacenar muchos valores de cualquier tipo, y se declaran utilizando paréntesis cuadrados, `[]`.\n",
    "\n",
    "Por ejemplo, podemos definir una lista de números"
   ]
  },
  {
   "cell_type": "code",
   "execution_count": 32,
   "id": "37cf5469-baaa-4dce-b3f2-8f5737f3d910",
   "metadata": {
    "tags": []
   },
   "outputs": [],
   "source": [
    "# Podemos definir una lista de 4 elementos\n",
    "mi_lista = [1.0, 5j, 'palabra', 0]"
   ]
  },
  {
   "cell_type": "markdown",
   "id": "32bcfa93-0cf5-493c-9bf2-2d534e82a4b3",
   "metadata": {},
   "source": [
    "y luego podemos acceder a sus elementos indexandola con paréntesis cuadrados, con el número del elemento que queremos extraer,"
   ]
  },
  {
   "cell_type": "code",
   "execution_count": 33,
   "id": "aa186c5f",
   "metadata": {
    "tags": []
   },
   "outputs": [
    {
     "data": {
      "text/plain": [
       "'palabra'"
      ]
     },
     "execution_count": 33,
     "metadata": {},
     "output_type": "execute_result"
    }
   ],
   "source": [
    "mi_lista[2]"
   ]
  },
  {
   "cell_type": "markdown",
   "id": "43d23d61",
   "metadata": {},
   "source": [
    "o modificar el valor guardado mediante el operador de asignación `=`,"
   ]
  },
  {
   "cell_type": "code",
   "execution_count": 34,
   "id": "eec112dd-70f2-4d2e-9626-ebfa97d462e3",
   "metadata": {
    "tags": []
   },
   "outputs": [
    {
     "data": {
      "text/plain": [
       "[1.0, 5j, 'otra cosa', 0]"
      ]
     },
     "execution_count": 34,
     "metadata": {},
     "output_type": "execute_result"
    }
   ],
   "source": [
    "mi_lista[2] = 'otra cosa'\n",
    "\n",
    "mi_lista"
   ]
  },
  {
   "cell_type": "markdown",
   "id": "20222187-e0fa-4197-acde-bde92692b05e",
   "metadata": {},
   "source": [
    "### ¡Muy importante!\n",
    "\n",
    "¿Notó que indexamos con el número 2, pero accedimos y modificamos sobre el tercer elemento? Esto es porque __en Python siempre se cuenta desde el cero__. Es decir, que si se tienen $N$ elementos, el primero será indexado con el $0$, y el último con $N-1$."
   ]
  },
  {
   "cell_type": "code",
   "execution_count": 35,
   "id": "9e4122e2",
   "metadata": {
    "tags": []
   },
   "outputs": [
    {
     "name": "stdout",
     "output_type": "stream",
     "text": [
      "1.0\n",
      "5j\n",
      "otra cosa\n",
      "0\n"
     ]
    }
   ],
   "source": [
    "print(mi_lista[0]) # 1.0\n",
    "print(mi_lista[1]) # 5j\n",
    "print(mi_lista[2]) # 'otra cosa'\n",
    "print(mi_lista[3]) # 0"
   ]
  },
  {
   "cell_type": "markdown",
   "id": "16316038",
   "metadata": {},
   "source": [
    "y, si se intenta acceder a un elemento que no está definido, se obtendrá un error"
   ]
  },
  {
   "cell_type": "code",
   "execution_count": 36,
   "id": "b7abd426",
   "metadata": {
    "tags": []
   },
   "outputs": [
    {
     "name": "stdout",
     "output_type": "stream",
     "text": [
      "Traceback \u001b[1;36m(most recent call last)\u001b[0m:\n",
      "\u001b[1;36m  Cell \u001b[1;32mIn[36], line 1\u001b[1;36m\n",
      "\u001b[1;33m    mi_lista[4] # Error. El índice '4' apunta al quinto elemento, que no existe\u001b[1;36m\n",
      "\u001b[1;31mIndexError\u001b[0m\u001b[1;31m:\u001b[0m list index out of range\n",
      "\n",
      "Use %tb to get the full traceback.\n"
     ]
    },
    {
     "data": {
      "text/html": [
       "\n",
       "<style>\n",
       ".button {\n",
       "  border: none;\n",
       "  color: white;\n",
       "  padding: 4px 8px;\n",
       "  text-align: center;\n",
       "  text-decoration: none;\n",
       "  display: inline-block;\n",
       "  font-size: 12px;\n",
       "  margin: 4px 2px;\n",
       "  transition-duration: 0.2s;\n",
       "  cursor: pointer;\n",
       "}\n",
       ".iqx-button {\n",
       "  background-color: #0f62fe; \n",
       "  color: white; \n",
       "}\n",
       ".iqx-button:hover {\n",
       "  background-color: #0043ce;\n",
       "  color: white;\n",
       "}\n",
       "</style>\n",
       "<a href=\"https://stackoverflow.com/search?q=IndexError: list index out of range\" target='_blank'><button class='button iqx-button'>Search for solution online</button></a>\n"
      ],
      "text/plain": [
       "<IPython.core.display.HTML object>"
      ]
     },
     "metadata": {},
     "output_type": "display_data"
    }
   ],
   "source": [
    "mi_lista[4] # Error. El índice '4' apunta al quinto elemento, que no existe"
   ]
  },
  {
   "cell_type": "markdown",
   "id": "a03a429b",
   "metadata": {},
   "source": [
    "Aunque en Python se admite entregar indices negativos para contar desde el final hacia el inicio"
   ]
  },
  {
   "cell_type": "code",
   "execution_count": 37,
   "id": "5d06e28d",
   "metadata": {
    "tags": []
   },
   "outputs": [
    {
     "name": "stdout",
     "output_type": "stream",
     "text": [
      "0\n",
      "otra cosa\n"
     ]
    }
   ],
   "source": [
    "print(mi_lista[-1]) # Último elemento\n",
    "print(mi_lista[-2]) # Penúltimo elemento"
   ]
  },
  {
   "cell_type": "markdown",
   "id": "b70ad2ca",
   "metadata": {},
   "source": [
    "## Diccionarios\n",
    "\n",
    "Un diccionario es una estructura de datos similar a una lista, pero tiene la particularidad de que, en vez de ser indexado mediante números, lo es mediante palabras.\n",
    "Un diccionario se crea utilizando llaves `{}`."
   ]
  },
  {
   "cell_type": "code",
   "execution_count": 38,
   "id": "cc5cc3b9",
   "metadata": {
    "tags": []
   },
   "outputs": [
    {
     "name": "stdout",
     "output_type": "stream",
     "text": [
      "5\n",
      "Loreto\n"
     ]
    }
   ],
   "source": [
    "# Los valores a la izquierda del ':' son las llaves (keys) con la cual se indexa,\n",
    "# y los valores a la derecha son los valores a guardar (values).\n",
    "mi_dict = {'hola'   : 10,\n",
    "           'pato'   :  5,\n",
    "           'nombre' : 'Loreto'}\n",
    "\n",
    "\n",
    "print(mi_dict['pato'])\n",
    "print(mi_dict['nombre'])"
   ]
  },
  {
   "cell_type": "markdown",
   "id": "f1ea339f",
   "metadata": {},
   "source": [
    "Podemos crear una nueva entrada en el diccionario, o cambiar el valor de una entrada mediante el operador de asignación `=`,"
   ]
  },
  {
   "cell_type": "code",
   "execution_count": 39,
   "id": "7b4e988f-a971-4e93-a139-3b8c1a5dca42",
   "metadata": {
    "tags": []
   },
   "outputs": [
    {
     "data": {
      "text/plain": [
       "{'hola': 10, 'pato': 5, 'nombre': 'Juan', 'telefono': 912345678}"
      ]
     },
     "execution_count": 39,
     "metadata": {},
     "output_type": "execute_result"
    }
   ],
   "source": [
    "mi_dict['telefono'] = 912345678\n",
    "mi_dict['nombre'] = 'Juan'\n",
    "\n",
    "mi_dict"
   ]
  },
  {
   "cell_type": "markdown",
   "id": "2471a58a-1d71-440b-a48f-6d9c4dd6b1fd",
   "metadata": {},
   "source": [
    "# Módulos\n",
    "\n",
    "En Python, así como muchos otros lenguajes, existe el concepto de módulos. Estos son piezas de código desarrolladas por terceras personas o grupos, y que ofrecen extender la funcionalidad del lenguaje. \n",
    "\n",
    "Las librerías se pueden importar ejecutando\n",
    "```python\n",
    "import nombre_libreria\n",
    "```\n",
    "lo que deja todas los objetos de la librería a disposición del usuario. Sin embargo, en general se recomienda importar las librerías bajo un alias para evitar posibles conflictos entre objetos que provengan de diferentes módulos pero tengan el mismo nombre. Por ejemplo, podemos importar la famosa librería __numpy__ bajo el alias __np__\n",
    "\n",
    "```python\n",
    "import numpy as np\n",
    "```\n",
    "de modo que ahora podemos acceder a las funciones u otros objetos definidos por `numpy` mediante su alias, como\n",
    "```python\n",
    "np.nombre_objeto\n",
    "```"
   ]
  },
  {
   "cell_type": "code",
   "execution_count": 40,
   "id": "6565044c",
   "metadata": {
    "tags": []
   },
   "outputs": [
    {
     "data": {
      "text/plain": [
       "1.4142135623730951"
      ]
     },
     "execution_count": 40,
     "metadata": {},
     "output_type": "execute_result"
    }
   ],
   "source": [
    "# Importamos numpy bajo el alias np\n",
    "import numpy as np\n",
    "\n",
    "# Utilizamos la función 'sqrt' de numpy para calcular raíz cuadrada\n",
    "np.sqrt(2) # 1.4142135..."
   ]
  },
  {
   "cell_type": "markdown",
   "id": "1d0c37a0",
   "metadata": {},
   "source": [
    "También es posible importar un objeto o conjunto de objetos desde una librería, sin utilizar un alias"
   ]
  },
  {
   "cell_type": "code",
   "execution_count": 41,
   "id": "964a7cd3",
   "metadata": {
    "tags": []
   },
   "outputs": [
    {
     "name": "stdout",
     "output_type": "stream",
     "text": [
      "pi = 3.141592653589793\n",
      "sin(pi) = 1.2246467991473532e-16\n",
      "cos(pi) = -1.0\n"
     ]
    }
   ],
   "source": [
    "from numpy import pi\n",
    "from numpy import sin, cos\n",
    "\n",
    "print('pi =', pi)           #  3.141592...\n",
    "print('sin(pi) =', sin(pi)) #  0.0\n",
    "print('cos(pi) =', cos(pi)) # -1.0"
   ]
  },
  {
   "cell_type": "markdown",
   "id": "984aa2c2",
   "metadata": {},
   "source": [
    "Notemos que, aunque $\\sin(\\pi)$ es estrictamente cero, Python nos retornó el valor `1.2246467991473532e-16`, que se lee como $1.2246\\ldots \\times 10^{-16} = 0.00000000000000012246\\ldots$.\n",
    "\n",
    "Lo anterior ocurre porque un computador no puede almacenar un número con infinitos dígitos, y por lo tanto al trabajar con números reales (o complejos) en un computador siempre existirá error de redondeo, independiente del lenguaje que se utilice.\n",
    "\n",
    "Aunque el error de redondeo debe ser tomado en cuenta para realizar un trabajo más elaborado, por ahora no nos preocuparemos por el, y nos quedaremos con que nuestro resultado fue correcto hasta el quinceavo ($15^\\circ$) decimal, lo cual es suficiente para la mayor parte de los propósitos :)."
   ]
  },
  {
   "cell_type": "markdown",
   "id": "31182784-b271-471c-9ade-cd07fcc821bc",
   "metadata": {},
   "source": [
    "Como se pudo observar, el paquete numpy tiene incorporado algunas funciones tal como sin(), cos(), etc.\n",
    "Una función que nos será útil llamar desde numpy es la función exponencial:\n",
    "\\begin{equation}\n",
    "e^{x}\n",
    "\\end{equation}\n",
    "    "
   ]
  },
  {
   "cell_type": "code",
   "execution_count": 42,
   "id": "a8b272f0-e4b4-44b5-be2b-52d20c384314",
   "metadata": {
    "tags": []
   },
   "outputs": [
    {
     "data": {
      "text/plain": [
       "1.0"
      ]
     },
     "execution_count": 42,
     "metadata": {},
     "output_type": "execute_result"
    }
   ],
   "source": [
    "import numpy as np\n",
    "np.exp(0)"
   ]
  },
  {
   "cell_type": "markdown",
   "id": "43759534",
   "metadata": {},
   "source": [
    "## Arreglos de Numpy\n",
    "\n",
    "Un arreglo es una estructura de datos similar a una lista, pero tiene dos características importantes:\n",
    "* Puede almacenar datos en una estructura en más de una dimensión. (d=1 es vector, d=2 es matriz, etc...)\n",
    "* Si almacena valores de un mismo tipo (numeros complejos, por ejemplo), es mucho más eficiente para operar que una lista.\n",
    "\n",
    "\n",
    "En particular, `numpy` implementa arreglos que son mucho más eficientes que las estructuras por defecto de Python, y además permite operarlos con mucha facilidad para realizar cálculo numérico."
   ]
  },
  {
   "cell_type": "markdown",
   "id": "ce382f76",
   "metadata": {},
   "source": [
    "## Vectores en numpy\n",
    "\n",
    "\n",
    "La interfaz por defecto para crear arreglos en `numpy` es la función `array`, que toma una lista y la convierte en un arreglo de `numpy`."
   ]
  },
  {
   "cell_type": "code",
   "execution_count": 43,
   "id": "ee568243",
   "metadata": {
    "tags": []
   },
   "outputs": [
    {
     "data": {
      "text/plain": [
       "array([1, 2, 3])"
      ]
     },
     "execution_count": 43,
     "metadata": {},
     "output_type": "execute_result"
    }
   ],
   "source": [
    "mi_vector = np.array([1,2,3])\n",
    "\n",
    "mi_vector"
   ]
  },
  {
   "cell_type": "markdown",
   "id": "f4438e47",
   "metadata": {},
   "source": [
    "Aquí definimos el vector (arreglo en una dimensión)\n",
    "\n",
    "$$ \\text{mi_vector} = \\begin{pmatrix} 1 \\\\ 2 \\\\ 3 \\end{pmatrix} $$\n",
    "\n",
    "que ahora podemos operar matemáticamente."
   ]
  },
  {
   "cell_type": "markdown",
   "id": "b0fab78f",
   "metadata": {},
   "source": [
    "## Operaciones sobre arreglos de numpy\n",
    "\n",
    "Podemos sumar (`+`), restar (`-`), multiplicar (`*`) y dividir (`/`) sobre arreglos de `numpy` y/o números escalares a nuestro antojo, siempre y cuando al operar sobre dos arreglos estos tengan el mismo tamaño"
   ]
  },
  {
   "cell_type": "code",
   "execution_count": 44,
   "id": "cad2a063",
   "metadata": {
    "tags": []
   },
   "outputs": [
    {
     "data": {
      "text/plain": [
       "array([ 4,  8, 10])"
      ]
     },
     "execution_count": 44,
     "metadata": {},
     "output_type": "execute_result"
    }
   ],
   "source": [
    "nuevo_vector = 3*mi_vector + [1, 2, 1] # Al operar un array con una lista, retorna un array\n",
    "\n",
    "nuevo_vector"
   ]
  },
  {
   "cell_type": "code",
   "execution_count": 45,
   "id": "1edf5d52",
   "metadata": {
    "tags": []
   },
   "outputs": [
    {
     "data": {
      "text/plain": [
       "array([ 8.,  3., 10.])"
      ]
     },
     "execution_count": 45,
     "metadata": {},
     "output_type": "execute_result"
    }
   ],
   "source": [
    "nuevo_vector * [2, 3, 2] / [1, 8, 2]"
   ]
  },
  {
   "cell_type": "markdown",
   "id": "e1e0b68a",
   "metadata": {},
   "source": [
    "pero es importante notar que __estas operaciones se hacen elemento a elemento__. Es decir que al hacer el producto (`*`) de dos arreglos, el resultado es un arreglo tal que la primera componente es el producto de las primeras componentes, la segunda componente es el producto de las segundas componentes, y así..."
   ]
  },
  {
   "cell_type": "code",
   "execution_count": 46,
   "id": "37c0b1d9",
   "metadata": {
    "tags": []
   },
   "outputs": [
    {
     "data": {
      "text/plain": [
       "array([ 4, 10, 18])"
      ]
     },
     "execution_count": 46,
     "metadata": {},
     "output_type": "execute_result"
    }
   ],
   "source": [
    "np.array([1, 2, 3]) * np.array([4, 5, 6])"
   ]
  },
  {
   "cell_type": "markdown",
   "id": "ea0cf462",
   "metadata": {},
   "source": [
    "lo que __no coincide con la definición de producto entre vectores__. Lo mismo aplica para cuando hacemos una división (`/`) entre dos arreglos; puede respirar con tranquilidad, nadie está dividiendo entre vectores :)."
   ]
  },
  {
   "cell_type": "markdown",
   "id": "2bdb2657",
   "metadata": {},
   "source": [
    "### Definición de producto entre vectores\n",
    "\n",
    "Para hacer un producto entre vectores, `numpy` tiene la función `vdot`, que toma el complejo conjugado del primer vector, luego hace el producto por componentes entre el arreglo resultante y el segundo vector, y finalmente suma todas las componentes"
   ]
  },
  {
   "cell_type": "code",
   "execution_count": 47,
   "id": "39aef217",
   "metadata": {
    "tags": []
   },
   "outputs": [
    {
     "data": {
      "text/plain": [
       "(1+0j)"
      ]
     },
     "execution_count": 47,
     "metadata": {},
     "output_type": "execute_result"
    }
   ],
   "source": [
    "vector1 = np.array([1j, 0, 1])\n",
    "vector2 = np.array([1j, 1, 0])\n",
    "\n",
    "np.vdot(vector1, vector2)"
   ]
  },
  {
   "cell_type": "code",
   "execution_count": 48,
   "id": "27421ae5",
   "metadata": {
    "tags": []
   },
   "outputs": [
    {
     "data": {
      "text/plain": [
       "(1+0j)"
      ]
     },
     "execution_count": 48,
     "metadata": {},
     "output_type": "execute_result"
    }
   ],
   "source": [
    "# Lo anterior es equivalente a hacer\n",
    "np.sum(vector1.conj() * vector2)"
   ]
  },
  {
   "cell_type": "markdown",
   "id": "09fa23ae",
   "metadata": {},
   "source": [
    "Notamos que para tomar el complejo conjugado del primer vector escribiremos `vector1.conj()`. Esto es porque los arreglos de `numpy` traen algunas operaciones comunes definidas por defecto, como por ejemplo\n",
    "\n",
    "* `arreglo.conj()` para tomar el complejo conjugado de `arreglo`\n",
    "* `arreglo.T` para tomar la trasposición de `arreglo`\n",
    "* `arreglo.real` para tomar la parte real de `arreglo`\n",
    "* `arreglo.imag` para tomar la parte imaginaria de `arreglo`"
   ]
  },
  {
   "cell_type": "markdown",
   "id": "8a117959",
   "metadata": {},
   "source": [
    "## Matrices en numpy\n",
    "\n",
    "Podemos utilizar la funcion `array` de numpy para construir una matriz a partir de una lista de listas. Es decir, entregamos a `array` una lista donde cada elemento es otra lista correspondiendo a las filas de la matriz.\n",
    "\n",
    "Por ejemplo, para definir la matriz $\\quad\\begin{pmatrix} 1 & 2 & 3 \\\\ 4 & 5 & 6 \\\\ 7 & 8 & 9 \\end{pmatrix}\\quad$ escribimos"
   ]
  },
  {
   "cell_type": "code",
   "execution_count": 49,
   "id": "cd4d76f9",
   "metadata": {
    "tags": []
   },
   "outputs": [
    {
     "data": {
      "text/plain": [
       "array([[1, 2, 3],\n",
       "       [4, 5, 6],\n",
       "       [7, 8, 9]])"
      ]
     },
     "execution_count": 49,
     "metadata": {},
     "output_type": "execute_result"
    }
   ],
   "source": [
    "mi_matriz = np.array([[1, 2, 3],\n",
    "                      [4, 5, 6],\n",
    "                      [7, 8, 9]])\n",
    "\n",
    "mi_matriz"
   ]
  },
  {
   "cell_type": "markdown",
   "id": "cba9c840",
   "metadata": {},
   "source": [
    "y tal como antes podemos hacer operaciones componente a componente con las operaciones usuales (`+`, `-`, `*`, `/`)"
   ]
  },
  {
   "cell_type": "code",
   "execution_count": 50,
   "id": "e4c8ddd7",
   "metadata": {
    "tags": []
   },
   "outputs": [
    {
     "data": {
      "text/plain": [
       "array([[ 1,  4,  9],\n",
       "       [16, 25, 36],\n",
       "       [49, 64, 81]])"
      ]
     },
     "execution_count": 50,
     "metadata": {},
     "output_type": "execute_result"
    }
   ],
   "source": [
    "mi_matriz * mi_matriz # matriz correspondiente al cuadrado de cada elemento de 'mi_matriz'"
   ]
  },
  {
   "cell_type": "markdown",
   "id": "ddb67ca7",
   "metadata": {},
   "source": [
    "Podemos crear una matriz identidad de $3\\times3$ a mano, o mediante la función `eye` de `numpy`,"
   ]
  },
  {
   "cell_type": "code",
   "execution_count": 51,
   "id": "f9e4b8e0",
   "metadata": {
    "tags": []
   },
   "outputs": [
    {
     "data": {
      "text/plain": [
       "array([[1., 0., 0.],\n",
       "       [0., 1., 0.],\n",
       "       [0., 0., 1.]])"
      ]
     },
     "execution_count": 51,
     "metadata": {},
     "output_type": "execute_result"
    }
   ],
   "source": [
    "identidad = np.eye(3)\n",
    "\n",
    "identidad"
   ]
  },
  {
   "cell_type": "markdown",
   "id": "e9d867fb",
   "metadata": {},
   "source": [
    "y utilizarla para notar que, tal como en el caso anterior de vectores, el producto usual no calza con la definición de producto entre matrices"
   ]
  },
  {
   "cell_type": "code",
   "execution_count": 52,
   "id": "39d70851",
   "metadata": {
    "tags": []
   },
   "outputs": [
    {
     "data": {
      "text/plain": [
       "array([[1., 0., 0.],\n",
       "       [0., 5., 0.],\n",
       "       [0., 0., 9.]])"
      ]
     },
     "execution_count": 52,
     "metadata": {},
     "output_type": "execute_result"
    }
   ],
   "source": [
    "identidad * mi_matriz"
   ]
  },
  {
   "cell_type": "markdown",
   "id": "43670537",
   "metadata": {},
   "source": [
    "Para el producto entre matrices, `numpy` reserva el símbolo `@`"
   ]
  },
  {
   "cell_type": "code",
   "execution_count": 53,
   "id": "05b7b86c",
   "metadata": {
    "tags": []
   },
   "outputs": [
    {
     "data": {
      "text/plain": [
       "array([[1., 2., 3.],\n",
       "       [4., 5., 6.],\n",
       "       [7., 8., 9.]])"
      ]
     },
     "execution_count": 53,
     "metadata": {},
     "output_type": "execute_result"
    }
   ],
   "source": [
    "identidad @ mi_matriz # Debe retornar lo mismo que mi_matriz"
   ]
  },
  {
   "cell_type": "markdown",
   "id": "77ec4bbf",
   "metadata": {},
   "source": [
    "#### Ejercicio\n",
    "\n",
    "Defina una función llamada `semiposdef` que tome como argumento una matriz $A$ y retorne el producto $A^{\\dagger}A$, donde $A^{\\dagger}$ es la matriz $A$ traspuesta y complejo-conjugada."
   ]
  },
  {
   "cell_type": "code",
   "execution_count": 54,
   "id": "2ad78c73",
   "metadata": {
    "tags": []
   },
   "outputs": [],
   "source": [
    "# Escriba su solución aquí"
   ]
  },
  {
   "cell_type": "markdown",
   "id": "79738670",
   "metadata": {},
   "source": [
    "# Control de flujo\n",
    "\n",
    "Hasta el momento, salvo por el uso de funciones, sólo hemos visto código que se ejecuta de forma secuencial y lineal. Sin embargo, es posible controlar el orden de ejecución del código separandolo en bloques y utilizando estructuras de control de flujo. En particular estudiaremos dos tipos de estas estructuras\n",
    "\n",
    "## Ejecución condicional\n",
    "\n",
    "Permiten la ejecución de bloques de código cuando se verifica una condición. La más básica de estas estructuras se escribe\n",
    "\n",
    "```python\n",
    "if condicion:\n",
    "    bloque\n",
    "    de\n",
    "    codigo\n",
    "```\n",
    "\n",
    "donde `condicion` es una variable lógica que, de ser verdadera, se ejecuta el bloque de código.\n",
    "\n",
    "Una extensión de esta estructura es la llamada `if-else`,\n",
    "\n",
    "```python\n",
    "if condicion:\n",
    "    primer\n",
    "    bloque\n",
    "else:\n",
    "    segundo\n",
    "    bloque\n",
    "```\n",
    "\n",
    "y se lee: \"Sí `condicion`, entonces ejecuta el primer bloque, sino ejecuta el segundo\"."
   ]
  },
  {
   "cell_type": "code",
   "execution_count": 55,
   "id": "2885faa3",
   "metadata": {
    "tags": []
   },
   "outputs": [
    {
     "name": "stdout",
     "output_type": "stream",
     "text": [
      "a es menor o igual a 5\n"
     ]
    }
   ],
   "source": [
    "a = 3\n",
    "\n",
    "if a > 5:\n",
    "    print('a es mayor que 5')\n",
    "else:\n",
    "    print('a es menor o igual a 5')"
   ]
  },
  {
   "cell_type": "markdown",
   "id": "9b75a16b",
   "metadata": {},
   "source": [
    "## Ejecución iterativa\n",
    "\n",
    "Estructuras que permiten ejecutar un bloque de código repetidas veces. La más común es el ciclo `for`, que se escribe\n",
    "\n",
    "```python\n",
    "for variable in coleccion:\n",
    "    bloque\n",
    "    de\n",
    "    codigo\n",
    "```\n",
    "\n",
    "y se lee \"para cada valor de `variable` en `colección`, ejecuta el bloque de código\", donde `coleccion` es una variable que contiene un conjunto de elementos, como puede ser una lista o arreglo."
   ]
  },
  {
   "cell_type": "code",
   "execution_count": 56,
   "id": "5f1c7bf0",
   "metadata": {
    "tags": []
   },
   "outputs": [
    {
     "name": "stdout",
     "output_type": "stream",
     "text": [
      "i^2 = 1\n",
      "i^2 = 4\n",
      "i^2 = 9\n",
      "i^2 = 16\n",
      "i^2 = 25\n",
      "Esta línea tiene otra indentación así que pertenece a otro bloque. Está fuera del ciclo.\n"
     ]
    }
   ],
   "source": [
    "for i in [1,2,3,4,5]:\n",
    "    i2 = i*i\n",
    "    print('i^2 =', i2)\n",
    "print('Esta línea tiene otra indentación así que pertenece a otro bloque. Está fuera del ciclo.')"
   ]
  },
  {
   "cell_type": "markdown",
   "id": "5b50998b",
   "metadata": {},
   "source": [
    "Una objeto que comunmente se utiliza en Python para ejecución iterativa es el iterador `range`, que dado como argumento un número entero $N$, retorna los enteros desde $0$ hasta $N-1$."
   ]
  },
  {
   "cell_type": "code",
   "execution_count": 57,
   "id": "d4cbbdf6",
   "metadata": {
    "tags": []
   },
   "outputs": [
    {
     "name": "stdout",
     "output_type": "stream",
     "text": [
      "i = 0\n",
      "i = 1\n",
      "i = 2\n",
      "i = 3\n",
      "i = 4\n",
      "i = 5\n",
      "i = 6\n",
      "i = 7\n",
      "i = 8\n",
      "i = 9\n"
     ]
    }
   ],
   "source": [
    "for i in range(10):\n",
    "    print('i =', i)"
   ]
  },
  {
   "cell_type": "markdown",
   "id": "573408ca",
   "metadata": {},
   "source": [
    "Ejemplo: Dado que los arreglos de `numpy` proveen su tamaño mediante su propiedad `size`, uno podría mostrar todos los elementos de un vector como"
   ]
  },
  {
   "cell_type": "code",
   "execution_count": 58,
   "id": "cf894bf6",
   "metadata": {
    "tags": []
   },
   "outputs": [
    {
     "name": "stdout",
     "output_type": "stream",
     "text": [
      "arreglo[ 0 ] = 1\n",
      "arreglo[ 1 ] = 4\n",
      "arreglo[ 2 ] = 7\n",
      "arreglo[ 3 ] = 9\n"
     ]
    }
   ],
   "source": [
    "arreglo = np.array([1, 4, 7, 9])\n",
    "\n",
    "for i in range(arreglo.size):\n",
    "    print('arreglo[', i, '] =', arreglo[i])    "
   ]
  },
  {
   "cell_type": "markdown",
   "id": "b4d66fdf",
   "metadata": {},
   "source": [
    "#### Ejercicio\n",
    "\n",
    "Sabiendo que puede repetir un _string_ multiplicándolo por un entero,\n",
    "```python\n",
    "print(5*'-') # Imprime -----\n",
    "```\n",
    "Utilice ciclos `for` y la función `print` para imprimir en pantalla la figura\n",
    "\n",
    "```\n",
    "*\n",
    "**\n",
    "***\n",
    "****\n",
    "*****\n",
    "```"
   ]
  },
  {
   "cell_type": "code",
   "execution_count": 59,
   "id": "f80c3b41",
   "metadata": {
    "tags": []
   },
   "outputs": [],
   "source": [
    "# Escriba su solución aquí"
   ]
  },
  {
   "cell_type": "markdown",
   "id": "9661caef",
   "metadata": {},
   "source": [
    "#### Ejercicio\n",
    "\n",
    "Similar al ejercicio anterior, escriba una pieza de código que imprima la figura\n",
    "```\n",
    "*\n",
    "**\n",
    "***\n",
    "****\n",
    "*****\n",
    "****\n",
    "***\n",
    "**\n",
    "*\n",
    "```"
   ]
  },
  {
   "cell_type": "code",
   "execution_count": 60,
   "id": "150a96f5",
   "metadata": {
    "tags": []
   },
   "outputs": [],
   "source": [
    "# Escriba su solución aquí"
   ]
  },
  {
   "cell_type": "markdown",
   "id": "33138ee7",
   "metadata": {},
   "source": [
    "#### Ejercicio\n",
    "\n",
    "Escriba una función llamada `triangulo`, que tome un argumento `N`, e imprima en pantalla\n",
    "la misma figura del ejercicio anterior, pero generalizada tal que la fila central tiene largo `N`."
   ]
  },
  {
   "cell_type": "code",
   "execution_count": 61,
   "id": "718cdc0c",
   "metadata": {
    "tags": []
   },
   "outputs": [],
   "source": [
    "# Escriba su solución aquí"
   ]
  },
  {
   "cell_type": "markdown",
   "id": "14e0949f",
   "metadata": {},
   "source": [
    "### Ciclos implícitos\n",
    "\n",
    "Es posible crear colecciones, como listas, de tamaño arbitrariamente largo utilizando notación de ciclo implícito, donde se evalúa una expresión para cada elemento de otra colección. Un ejemplo de esto es"
   ]
  },
  {
   "cell_type": "code",
   "execution_count": 62,
   "id": "40735a0d",
   "metadata": {
    "tags": []
   },
   "outputs": [
    {
     "data": {
      "text/plain": [
       "[0, 2, 4, 6, 8, 10, 12, 14, 16, 18]"
      ]
     },
     "execution_count": 62,
     "metadata": {},
     "output_type": "execute_result"
    }
   ],
   "source": [
    "mi_lista = [2*i for i in range(10)]\n",
    "\n",
    "mi_lista"
   ]
  },
  {
   "cell_type": "markdown",
   "id": "7e852f63",
   "metadata": {},
   "source": [
    "#### Ejercicio\n",
    "Utilice notacion de ciclo implicito para definir una lista cuyos elementos sean los elementos de 'mi_lista' pero elevados al cuadrado."
   ]
  },
  {
   "cell_type": "code",
   "execution_count": 63,
   "id": "7aee258f",
   "metadata": {
    "tags": []
   },
   "outputs": [],
   "source": [
    "# Escriba su solución aquí"
   ]
  },
  {
   "cell_type": "markdown",
   "id": "44ac7052",
   "metadata": {},
   "source": [
    "## Clases, objetos y atributos\n",
    "\n",
    "Es común oír hablar de clases y objetos. Si bien no está en el objetivo de este tutorial aprender a definirlos a nuestro antojo, sí nos resultará útil aprender, a _grosso modo_, que significan estos conceptos.\n",
    "\n",
    "Podemos entender los objetos como entes con características dadas, los cuales podemos utilizar y/o manipular. En este contexto, las clases corresponderían a un tipo de objetos, los cuales tienen un conjunto de características en común.\n",
    "\n",
    "Un ejemplo típico que se utiliza para aterrizar estos conceptos es el siguiente. Consideremos una clase a la que llamamos `Perro`, y caractericémosla de manera que todos sus elementos tengan atributos de `nombre` y `color`.\n",
    "Dada esta clase, podemos definir un objeto o instancia en particular de `Perro` tal que su nombre sea 'Firulais' y su color 'Café'."
   ]
  },
  {
   "cell_type": "markdown",
   "id": "0a88d887",
   "metadata": {},
   "source": [
    "En Python, practicamente todo es un objeto, y podemos acceder a sus atributos mediante la sintaxis\n",
    "```python\n",
    "objeto.atributo\n",
    "```\n",
    "\n",
    "¿Recuerda que mas atrás accedimos a ciertas funcionalidades de los arreglos de `numpy` con esta sintaxis?\n",
    "\n",
    "Por ejemplo, cuando teníamos un vector complejo,"
   ]
  },
  {
   "cell_type": "code",
   "execution_count": 64,
   "id": "f62c18d0",
   "metadata": {
    "tags": []
   },
   "outputs": [
    {
     "data": {
      "text/plain": [
       "array([0.+0.j, 0.+0.j, 0.+1.j])"
      ]
     },
     "execution_count": 64,
     "metadata": {},
     "output_type": "execute_result"
    }
   ],
   "source": [
    "v = np.array([0, 0, 1j])\n",
    "v"
   ]
  },
  {
   "cell_type": "markdown",
   "id": "e04e7bae",
   "metadata": {},
   "source": [
    "y dijimos que podíamos obtener sus partes imaginarias como `v.imag`"
   ]
  },
  {
   "cell_type": "code",
   "execution_count": 65,
   "id": "85388832",
   "metadata": {
    "tags": []
   },
   "outputs": [
    {
     "data": {
      "text/plain": [
       "array([0., 0., 1.])"
      ]
     },
     "execution_count": 65,
     "metadata": {},
     "output_type": "execute_result"
    }
   ],
   "source": [
    "v.imag"
   ]
  },
  {
   "cell_type": "markdown",
   "id": "ad3985c6",
   "metadata": {},
   "source": [
    "Esto es porque los objetos del tipo `numpy.ndarray` (array de numpy), tienen un atributo `imag` que corresponde al arreglo formado por las partes imaginarias de cada una de sus componentes."
   ]
  },
  {
   "cell_type": "markdown",
   "id": "f34206ca",
   "metadata": {},
   "source": [
    "### Métodos\n",
    "\n",
    "Tal como un objeto tiene atributos, que son características que lo definen, también puede tener métodos asociados. Estos métodos corresponden a acciones (funciones) que están asociadas al objeto en cuestión.\n",
    "\n",
    "Por ejemplo, los arrays de `numpy` tienen el método `conj`, de modo que podemos obtener el vector complejo-conjugado de `v` como"
   ]
  },
  {
   "cell_type": "code",
   "execution_count": 66,
   "id": "55f78959",
   "metadata": {
    "tags": []
   },
   "outputs": [
    {
     "data": {
      "text/plain": [
       "array([0.-0.j, 0.-0.j, 0.-1.j])"
      ]
     },
     "execution_count": 66,
     "metadata": {},
     "output_type": "execute_result"
    }
   ],
   "source": [
    "v.conj()"
   ]
  },
  {
   "cell_type": "markdown",
   "id": "c72d3068",
   "metadata": {},
   "source": [
    "Particularmente interesante es que, si bien en el caso de `numpy` estos métodos sólo leen información del objeto sin cambiarlo, en general sí es posible aplicar modificaciones a un objeto mediante sus métodos, lo cual haremos bastante durante los próximos dias."
   ]
  },
  {
   "cell_type": "markdown",
   "id": "aa786b9c",
   "metadata": {},
   "source": [
    "__Tip:__ Cuando está trabajando en un Jupyter Notebook, puede escribir el nombre de un objeto seguido de un punto `.`, y presionar la tecla `<Tab>` (la que tiene el símbolo ⭾, al costado izquierdo de su teclado) para mostrar una lista con los atributos y métodos del objeto en cuestión.\n",
    "\n",
    "```\n",
    "objeto.<Tab>\n",
    "```"
   ]
  },
  {
   "cell_type": "markdown",
   "id": "85477f37",
   "metadata": {},
   "source": [
    "## Contactos: \n",
    "\n",
    "Jorge Gidi <br> \n",
    "Estudiante doctorado en ciencias físicas <br> \n",
    "Universidad de Concepción <br>\n",
    "jorgegidi@udec.cl\n",
    "\n",
    "Francisco Jara <br>\n",
    "Estudiante magíster en ciencias físicas <br>\n",
    "Universidad de Concepción <br>\n",
    "Frjara2019@udec.cl"
   ]
  },
  {
   "cell_type": "code",
   "execution_count": 1,
   "id": "fd58b4db",
   "metadata": {},
   "outputs": [
    {
     "name": "stderr",
     "output_type": "stream",
     "text": [
      "c:\\programdata\\miniconda3\\lib\\site-packages\\numpy\\_distributor_init.py:30: UserWarning: loaded more than 1 DLL from .libs:\n",
      "c:\\programdata\\miniconda3\\lib\\site-packages\\numpy\\.libs\\libopenblas.FB5AE2TYXYH2IJRDKGDGQ3XBKLKTF43H.gfortran-win_amd64.dll\n",
      "c:\\programdata\\miniconda3\\lib\\site-packages\\numpy\\.libs\\libopenblas.JPIJNSWNNAN3CE6LLI5FWSPHUT2VXMTH.gfortran-win_amd64.dll\n",
      "  warnings.warn(\"loaded more than 1 DLL from .libs:\"\n"
     ]
    },
    {
     "data": {
      "text/html": [
       "<h3>Version Information</h3><table><tr><th>Software</th><th>Version</th></tr><tr><td><code>qiskit</code></td><td>0.45.1</td></tr><tr><th colspan='2'>System information</th></tr><tr><td>Python version</td><td>3.8.5</td></tr><tr><td>Python compiler</td><td>MSC v.1916 64 bit (AMD64)</td></tr><tr><td>Python build</td><td>default, Sep  3 2020 21:29:08</td></tr><tr><td>OS</td><td>Windows</td></tr><tr><td>CPUs</td><td>2</td></tr><tr><td>Memory (Gb)</td><td>7.887935638427734</td></tr><tr><td colspan='2'>Mon Jan 08 03:37:08 2024 Hora estándar romance</td></tr></table>"
      ],
      "text/plain": [
       "<IPython.core.display.HTML object>"
      ]
     },
     "metadata": {},
     "output_type": "display_data"
    }
   ],
   "source": [
    "## Contactos: \n",
    "\n",
    "import qiskit.tools.jupyter\n",
    "%qiskit_version_table"
   ]
  },
  {
   "cell_type": "code",
   "execution_count": null,
   "id": "3e42e95c",
   "metadata": {},
   "outputs": [],
   "source": []
  }
 ],
 "metadata": {
  "hide_input": false,
  "kernelspec": {
   "display_name": "Python 3 (ipykernel)",
   "language": "python",
   "name": "python3"
  },
  "language_info": {
   "codemirror_mode": {
    "name": "ipython",
    "version": 3
   },
   "file_extension": ".py",
   "mimetype": "text/x-python",
   "name": "python",
   "nbconvert_exporter": "python",
   "pygments_lexer": "ipython3",
   "version": "3.8.5"
  },
  "widgets": {
   "application/vnd.jupyter.widget-state+json": {
    "state": {},
    "version_major": 2,
    "version_minor": 0
   }
  }
 },
 "nbformat": 4,
 "nbformat_minor": 5
}
