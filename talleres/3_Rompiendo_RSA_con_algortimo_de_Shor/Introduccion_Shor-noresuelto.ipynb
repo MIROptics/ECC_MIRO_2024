{
 "cells": [
  {
   "cell_type": "code",
   "execution_count": null,
   "id": "a7536dd0-5e40-4bc3-b975-3b1deb1ace95",
   "metadata": {},
   "outputs": [],
   "source": [
    "import numpy as np\n",
    "import matplotlib.pyplot as plt"
   ]
  },
  {
   "cell_type": "markdown",
   "id": "77ba60fa-b7a7-4ade-8443-5d5079054d67",
   "metadata": {},
   "source": [
    "### Complejidad Computacional\n",
    "\n",
    "La complejidad computacional se refiere a la cantidad de recursos necesarios para resolver un problema computacional, ya sea en tiempo (por la cantidad de operaciones matematicas que hay que realizar) o espacio (memoria), dependiendo del tamaño de la entrada del problema.\n",
    "\n",
    "Cuando decimos que un algoritmo es \"exponencialmente lento\" o que \"corre en tiempo polinomial\", estamos describiendo su complejidad en términos de la relación entre el tamaño de la entrada y el tiempo que necesita para resolver el problema:\n",
    "\n",
    "* Algoritmo de tiempo exponencial: El tiempo de ejecución de estos algoritmos aumenta exponencialmente con el tamaño de la entrada. Por ejemplo, con un tiempo de ejecución de $O(2^n)$, donde $n$ es el tamaño de la entrada, incluso un pequeño aumento en $n$ puede llevar a un aumento significativo en el tiempo necesario para completar el algoritmo. Son prácticos solo para problemas de tamaño pequeño.\n",
    "\n",
    "* Algoritmo de tiempo polinomial: Estos algoritmos son más eficientes, con un tiempo de ejecución que aumenta como una potencia del tamaño $n$ de la entrada.\n",
    "\n",
    "\n",
    "**Consideremos el siguiente ejemplo:**\n",
    "\n",
    "Para una entrada de $n=100$, un par algoritmos con un tiempo de ejecución polinomial, como $O(n^2)$ o $O(n^3)$, podrían ser completados teniendo que realizar alrededor de $10.000$ o $1.000.000$ operaciones, respectivamente, mientras que un algoritmo de tiempo exponencial, como $O(2^n)$, resulta intratable al requerir realizar el orden de $1.000.000.000.000.000.000.000.000.000.000$ operaciones.\n",
    "\n",
    "A continuación vemos un gráfico de como crece la complejidad en función del tamaño del dato de entrada para $4$ casos distintos: (i) complejidad lineal, (ii) logarítmica, (iii) polinomial y (iv) exponencial."
   ]
  },
  {
   "cell_type": "code",
   "execution_count": null,
   "id": "89629cbd-416d-4e0c-afed-3af31fb417b1",
   "metadata": {
    "scrolled": true
   },
   "outputs": [],
   "source": [
    "n = np.arange(1, 9)\n",
    "plt.plot(n, n, label = \"lineal, $n$\")\n",
    "plt.plot(n, np.log2(n), label = \"logaritmica, $\\log_{2}(n)$\")\n",
    "plt.plot(n, n**2, label = \"polinomial, $n^2$\")\n",
    "plt.plot(n, 2**n, label = \"exponencial, $2^n$\")\n",
    "\n",
    "plt.xlabel(\"n\")\n",
    "plt.ylabel(\"Complejidad\")\n",
    "plt.legend(loc='best')"
   ]
  },
  {
   "cell_type": "markdown",
   "id": "c9df2836-133d-4f51-912f-7ad79be2a768",
   "metadata": {},
   "source": [
    "### Factorización\n",
    "\n",
    "Recordando de la clase de la mañana, para poder factorizar un número N en dos factores p y q (N=pq) primos (o coprimos) necesitamos implementar las siguientes rutinas:\n",
    "\n",
    "- Operación módulo entre dos números\n",
    "- Máximo comun divisor\n",
    "- Encontrar el periódo de la exponenciación modular\n",
    "\n",
    "Notemos que la operación módulo y encontrar el máximo común divisor se pueden hacer eficientemente en un computador clásico.\n",
    "\n",
    "La dificultad computacional radica en encontrar el periódo $r$ de la función\n",
    "\n",
    "$$f(x) = \\mathrm{mod}(a^x, N)$$\n",
    "\n",
    "O lo que es equivalente, encontrar el $r$ tal que se cumpla\n",
    "\n",
    "$$\\mathrm{mod}(a^r-1, N)=0$$"
   ]
  },
  {
   "cell_type": "markdown",
   "id": "2df5db4c-6bc2-4389-825e-d4685bbe75b0",
   "metadata": {},
   "source": [
    "### Operación módulo\n",
    "\n",
    "La operación módulo se calcula como el resto de la division entre dos números. Puede ser implementada como"
   ]
  },
  {
   "cell_type": "code",
   "execution_count": null,
   "id": "8499a93c-ef6b-4445-8e0a-6d7965ee57b4",
   "metadata": {},
   "outputs": [],
   "source": [
    "def mi_modulo(a, b):\n",
    "    division = a / b\n",
    "    parte_decimal = division - int(division)\n",
    "    resto = parte_decimal * b\n",
    "\n",
    "    return int(resto)\n",
    "\n",
    "# Ejemplo\n",
    "mi_modulo(48, 32)"
   ]
  },
  {
   "cell_type": "markdown",
   "id": "d3e465f5-3510-4609-b95a-f005cf1e6027",
   "metadata": {},
   "source": [
    "aunque es importante notar que esta operación se encuentra muy eficientemente implementada en la mayor parte de los lenguajes de programación, y tiene complejidad $O(1)$ (constante; su dificultad no crece con el tamaño de los números involucrados).\n",
    "\n",
    "En muchos lenguajes de programación, incluído python, se denota $\\mathrm{modulo}(a, b)$ como `a % b`."
   ]
  },
  {
   "cell_type": "code",
   "execution_count": null,
   "id": "315ed20a-32c6-40be-beae-42dbb56ef22d",
   "metadata": {},
   "outputs": [],
   "source": [
    "48 % 32 # Operación módulo"
   ]
  },
  {
   "cell_type": "markdown",
   "id": "0c646696-4da7-4b28-95cc-c1e86a033eea",
   "metadata": {},
   "source": [
    "### Maximo comun divisor\n",
    "\n",
    "Usamos el metodo de Euclides para encontrar el máximo común divisor (mcd) entre dos números. Este algoritmo tiene complejidad $O(\\log(\\min(a, b)))$"
   ]
  },
  {
   "cell_type": "code",
   "execution_count": null,
   "id": "6a7ed4c4-fbe7-4a60-8324-456814330736",
   "metadata": {},
   "outputs": [],
   "source": [
    "def mcd(a, b):\n",
    "    while b:\n",
    "        a, b = b, a%b\n",
    "    return a"
   ]
  },
  {
   "cell_type": "code",
   "execution_count": null,
   "id": "e937b0f0-b2e7-4285-a83c-7af0b6f633e4",
   "metadata": {},
   "outputs": [],
   "source": [
    "mcd(64, 48)"
   ]
  },
  {
   "cell_type": "markdown",
   "id": "cb8e0262-b9d3-478f-ab35-0e027d75503a",
   "metadata": {},
   "source": [
    "### Ejemplo clásico\n",
    "\n",
    "Para números pequeños podemos encontrar el periódo por inspección visual"
   ]
  },
  {
   "cell_type": "code",
   "execution_count": null,
   "id": "b3cf4d9e-118d-488a-b211-1a95c63f3a38",
   "metadata": {},
   "outputs": [],
   "source": [
    "a = 8     # Aleatorio, 1 < a < N-2\n",
    "N = 15    # Numero a factorizar\n",
    "\n",
    "# Función periódica\n",
    "f = lambda x: (a**x) % N\n",
    "\n",
    "# Graficamos f(x)\n",
    "x = np.arange(N)\n",
    "plt.plot(x, f(x))\n",
    "plt.xticks(x);"
   ]
  },
  {
   "cell_type": "markdown",
   "id": "20485921-386f-4562-818e-f7f29b9f5966",
   "metadata": {},
   "source": [
    "El problema es que para números grandes, encontrar el periódo de la función modular es un problema computacional que crece con la entrada superpolinomialmente (requiere mucho más tiempo que un problema polinomial) en el mejor de los casos o exponencialmente en el peor de los casos"
   ]
  },
  {
   "cell_type": "code",
   "execution_count": null,
   "id": "3b45e142-58a5-4510-b90f-d3b9f6d363c2",
   "metadata": {},
   "outputs": [],
   "source": [
    "# El periodo de f(x) es 4\n",
    "r = 4"
   ]
  },
  {
   "cell_type": "markdown",
   "id": "8d395c96-042b-40c7-8c82-d4a1cc66359e",
   "metadata": {},
   "source": [
    "Si el periodo es $r$. significa que \n",
    "$$ \\mathrm{mod}(a ^ r, N) = 1 $$\n",
    "o, equivalentemente,\n",
    "\\begin{align}\n",
    "\\mathrm{mod}(a^r - 1, N) &= 0 \\\\\n",
    "\\Leftrightarrow (a^\\frac{r}{2} + 1)(a^\\frac{r}{2} - 1) &= kN, \\quad k\\in\\mathbb{N}\n",
    "\\end{align}\n",
    "de modo que si definimos\n",
    "\\begin{align}\n",
    "p &:= a^\\frac{r}{2} + 1 = p_1 p_2 ... p_M\\\\\n",
    "q &:= a^\\frac{r}{2} - 1 = q_1 q_2 ... q_L\\\\\n",
    "\\end{align}\n",
    "se puede agrupar\n",
    "$$ pq = p_1 p_2 ... p_M q_1 q_2 ... q_L = kN$$\n",
    "y podemos ver que\n",
    "\\begin{align}\n",
    "N = \\mathrm{mcd}(p, N)\\text{ }\\mathrm{mcd}(q, N)\n",
    "\\end{align}\n",
    "de forma que teniendo el periodo $r$ podemos computar los factores de $N$ como a continuación"
   ]
  },
  {
   "cell_type": "code",
   "execution_count": null,
   "id": "108e0042-90fe-4152-823c-1b1158fa42c0",
   "metadata": {},
   "outputs": [],
   "source": [
    "# se encuentran los cofactores\n",
    "q = a**(r//2) - 1\n",
    "p = a**(r//2) + 1\n",
    "print(f'los cofactores son {q} y {p}')\n",
    "\n",
    "# y obtenemos los factores de N como\n",
    "factores = [ mcd(q, N), mcd(p, N) ]\n",
    "print(f'y los factores son {factores}')"
   ]
  },
  {
   "cell_type": "markdown",
   "id": "265cc209-ecb5-4483-a4a6-0e952580c89c",
   "metadata": {},
   "source": [
    "Realicemos la función que encuentra el periódo de la exponenciación modular $$f(x) = \\mathrm{mod} (a^x,N)$$"
   ]
  },
  {
   "cell_type": "code",
   "execution_count": null,
   "id": "d0db4d35-4804-4942-b52f-82a8dab8d6af",
   "metadata": {},
   "outputs": [],
   "source": [
    "# Esta funcion encuentra el periodo de f(x) automaticamente\n",
    "def find_period(N, a):\n",
    "    for r in range(1, N):\n",
    "        if (a**r)%N == 1:\n",
    "            return r\n",
    "    raise Exception(\"Periodo no pudo ser encontrado.\")\n",
    "\n",
    "find_period(N, a)"
   ]
  },
  {
   "cell_type": "markdown",
   "id": "04ec9a80-8814-497b-8f5f-090e96f69e27",
   "metadata": {},
   "source": [
    "Dado esto podemos implementar un algoritmo de Shor \"clásico\""
   ]
  },
  {
   "cell_type": "code",
   "execution_count": null,
   "id": "7ccc889a-15a0-40b5-88e7-053fb50cf4c5",
   "metadata": {},
   "outputs": [],
   "source": [
    "#Ejercicio: Usando las funciones find_period y las definiciones de q y p dadas anteriormente, implementar \"Shor clásico\" (algoritmo para encontrar factores)\n",
    "\n",
    "#def shor_clasico(N, a):"
   ]
  },
  {
   "cell_type": "code",
   "execution_count": null,
   "id": "1dcd616c-a9d4-45aa-beed-b541c6ae9bea",
   "metadata": {},
   "outputs": [],
   "source": [
    "shor_clasico(N, a)"
   ]
  },
  {
   "cell_type": "code",
   "execution_count": null,
   "id": "cd7d9f71-9e6a-45d7-a233-305c3814273a",
   "metadata": {},
   "outputs": [],
   "source": [
    "# No se puede encontrar periodo cuando mcd(a, N) > 1\n",
    "print(f'{mcd(9, N)=}')\n",
    "#_shor_clasico(N, a=9) # Dará un error"
   ]
  },
  {
   "cell_type": "code",
   "execution_count": null,
   "id": "d2a19912-f95c-4afd-b1dc-d1404195673b",
   "metadata": {},
   "outputs": [],
   "source": [
    "def _shor_clasico(N, a):\n",
    "    \n",
    "    # Periodo de f(x)\n",
    "    r = find_period(N, a)\n",
    "\n",
    "    if r != (r//2)*2:\n",
    "        print(f'r is odd!, {r=}')\n",
    "    \n",
    "    # Cofactores\n",
    "    q = a**(r // 2) - 1\n",
    "    p = a**(r // 2) + 1\n",
    "\n",
    "    # Factores\n",
    "    factores = [ mcd(q, N), mcd(p, N) ]\n",
    "\n",
    "    return factores\n",
    "\n",
    "# Una implementación mas completa, que se encarga de verificar los casos especiales\n",
    "def shor_clasico(N):\n",
    "    # Elegimos a al azar\n",
    "    a = np.random.randint(2, N-1)\n",
    "\n",
    "    # Si el MCD es 1, entonces podemos usar a para buscar el periodo de f(x)\n",
    "    f1 = mcd(a, N)\n",
    "            \n",
    "    # Si el MCD es mayor que 1, entonces ya encontramos un factor\n",
    "    if f1 > 1:\n",
    "        return [f1, N//f1]\n",
    "\n",
    "    # Usamos la implementación para N y a dados\n",
    "    return _shor_clasico(N, a)"
   ]
  },
  {
   "cell_type": "code",
   "execution_count": null,
   "id": "eccc64a6-d0fe-48d8-ab70-93097dcd0219",
   "metadata": {},
   "outputs": [],
   "source": [
    "factores = shor_clasico(427335)\n",
    "factores"
   ]
  },
  {
   "cell_type": "code",
   "execution_count": null,
   "id": "9ec8f122-27e9-40b5-9fa4-1fd5d189b3d6",
   "metadata": {},
   "outputs": [],
   "source": [
    "np.prod(factores)"
   ]
  },
  {
   "cell_type": "markdown",
   "id": "7b1404e5-c0c5-44dc-b17b-d8a9f42dc0b3",
   "metadata": {},
   "source": [
    "Sin embargo, la busqueda del periodo de $f(x)$ es exponencialmente costosa, volviéndola una tarea imposible para numeros grandes. Por este motivo, recurriremos a la Computación Cuántica, que nos ofrece un algoritmo mucho mas eficiente para resolver la busqueda del periodo: el algoritmo de **Quantum Phase Estimation (QPE)**."
   ]
  },
  {
   "cell_type": "markdown",
   "id": "e6c70963-a1f5-4506-88b4-248fe0f7d697",
   "metadata": {},
   "source": [
    "Una parte importante del algoritmo de QPE es la transformada cuántica de Fourier, por lo que comenzaremos haciendo una introducción a esta.\n",
    "\n",
    "### Transformada Cuántica de Fourier (QFT)\n",
    "\n",
    "La transformada de Fourier es una transformación matemática que, al ser aplicada sobre una función, la descompone en funciones periódicas, indicandonos las frecuencias que construyen a esta función. En el mundo moderno, es una herramiénta matemática crucial para todo lo que involucre análisis de señales, desde el procesamiento y manejo de audio, como la música, hasta prácticamente todas las áreas de la ingeniería.\n",
    "\n",
    "La transformada de Fourier se implementa clásicamente mediante la transformada de Fourier discreta (DFT), teniendo una complejidad $O(m\\mathrm{log}(m))$, donde $m$ es el tamaño de la señal de entrada, mediante el algoritmo clásico más rápido, que es la Fast Fourier Transform (FFT).\n",
    "\n",
    "Así como podemos realizar la FFT para encontrar la transformada de Fourier de una función codificada en un sistema clásico, también podemos tener la función codificada en un sistema cuántico con $n$ qubits, y encontrar su transformada de Fourier utilizando la Transformada Cuántica de Fourier (QFT), que en su mejor implementación requiere $O(n\\mathrm{log}(n))$ compuertas: [Hales and Halgreen, (2000)](https://doi.org/10.1109/SFCS.2000.892139).\n",
    "\n",
    "Debemos recordar que se requieren $m=2^n$ bits clásicos para emular $n$ qubits, de modo que para emular la QFT, la FFT tendría una complejidad de $O(n2^n)$, dejando en claro que la QFT resulta exponencialmente mas eficiente que la mejor transformada de Fourier clásica.\n",
    "\n",
    "### Estimación Cuántica de Fase (QPE)\n",
    "\n",
    "La Estimación Cuántica de Fase es un algoritmo de gran relevancia en la computación cuántica, siendo un ingrediente fundamental en aplicaciones como el algoritmo de Shor.\n",
    "\n",
    "La QPE es resuelve el **problema de estimación de fase**: Si $|\\psi\\rangle$ es un autovector de un operador unitario $U$, entonces necesariamente $U|\\psi\\rangle = e^{2\\pi i\\theta}|\\psi\\rangle$. El problema de estimación de fase consiste en estimar el valor de la fase, $\\theta$, dentro del rango $[0, 1[$.\n",
    "\n",
    "Para resolver este problema, la QPE hace uso del operador unitario $U$ y la QFT para encontrar $\\theta$, lo que nos resulta de utilidad puesto que si codificamos nuestra función de exponenciacion modular, $f(x)$, como el operador $U$, entonces la QPE nos permite encontrar eficientemente el periodo de $f(x)$."
   ]
  },
  {
   "cell_type": "markdown",
   "id": "8956924f-e95c-4ace-bfda-e19a35e5adab",
   "metadata": {
    "execution": {
     "iopub.execute_input": "2023-11-21T12:09:33.930605Z",
     "iopub.status.busy": "2023-11-21T12:09:33.928613Z",
     "iopub.status.idle": "2023-11-21T12:09:33.940846Z",
     "shell.execute_reply": "2023-11-21T12:09:33.938153Z",
     "shell.execute_reply.started": "2023-11-21T12:09:33.930605Z"
    }
   },
   "source": [
    "### Implementación de la QPE a través de una simulación"
   ]
  },
  {
   "cell_type": "code",
   "execution_count": null,
   "id": "fc04d4d5-6635-4d8a-a69e-45ff08f3ddd0",
   "metadata": {},
   "outputs": [],
   "source": [
    "from qiskit import QuantumCircuit, Aer, execute\n",
    "from qiskit.circuit.library import QFT\n",
    "from qiskit.visualization import plot_histogram"
   ]
  },
  {
   "cell_type": "markdown",
   "id": "56e51d86-6a0d-4a6f-8e4a-67b6ab047bd5",
   "metadata": {},
   "source": [
    "Definimos la exponenciación modular y la compuerta $a \\ \\mathrm{mod} \\ N$ controlada"
   ]
  },
  {
   "cell_type": "code",
   "execution_count": null,
   "id": "3c25cde0-5b07-4468-afb2-61f218e66099",
   "metadata": {},
   "outputs": [],
   "source": [
    "def modular_exponentiation(qc, Nq, a, N):\n",
    "    for x in range(Nq):\n",
    "        qc.append(controlled_amod(a, 2**x, N),\n",
    "                  [x] + list(range(Nq, 2*Nq)))\n",
    "\n",
    "# Esta implemetacion es especifica para N=15.\n",
    "# Puede ser generalizada pero escapa al alcance del taller\n",
    "def controlled_amod(a, x, N=15):\n",
    "    if a not in [2,7,8,11,13]:\n",
    "        raise ValueError(\"'a' must be 2,7,8,11,13\")\n",
    "    U = QuantumCircuit(4)        \n",
    "    for _ in range(x):\n",
    "        if a in [2,13]:\n",
    "            U.swap(0,1)\n",
    "            U.swap(1,2)\n",
    "            U.swap(2,3)\n",
    "        if a in [7,8]:\n",
    "            U.swap(2,3)\n",
    "            U.swap(1,2)\n",
    "            U.swap(0,1)\n",
    "        if a == 11:\n",
    "            U.swap(1,3)\n",
    "            U.swap(0,2)\n",
    "        if a in [7,11,13]:\n",
    "            for q in range(4):\n",
    "                U.x(q)\n",
    "    U = U.to_gate()\n",
    "    U.name = f\"{a}^{x} mod {N}\"\n",
    "    c_U = U.control()\n",
    "    return c_U"
   ]
  },
  {
   "cell_type": "code",
   "execution_count": null,
   "id": "6189699d-5628-4d2e-a95b-6a1df7295f06",
   "metadata": {},
   "outputs": [],
   "source": [
    "#def _shor_circuit(N, a):\n",
    "   #Ejercicio: Definir el número de qubits necesarios, los registros clásicos y el circuito cuántico\n",
    "\n",
    "    # Product by modular exponential\n",
    "#    modular_exponentiation(qc, Nq, a, 15)\n",
    "\n",
    "    # Inverse Quantum Fourier Transform\n",
    "#    iQFT = QFT(Nq, do_swaps=True).inverse()\n",
    "#    qc.append(iQFT, range(Nq))\n",
    "\n",
    "    # Measure results\n",
    "#    qc.measure(range(Nq), range(Nq))\n",
    "    \n",
    "#    return qc"
   ]
  },
  {
   "cell_type": "code",
   "execution_count": null,
   "id": "31d756f8-98a2-47c5-b84e-d098c6146433",
   "metadata": {},
   "outputs": [],
   "source": [
    "# Vemos como se ve el circuito con N=15 y a=7\n",
    "N = 15\n",
    "a = 7\n",
    "_shor_circuit(N, a).draw(fold=-1)"
   ]
  },
  {
   "cell_type": "code",
   "execution_count": null,
   "id": "8b0de4dc-65f5-4e98-b1e1-af29816d9fee",
   "metadata": {},
   "outputs": [],
   "source": [
    "# Ejercicio: Llamar al simulador, crear el resultado de experimento y plotear el histograma"
   ]
  },
  {
   "cell_type": "code",
   "execution_count": null,
   "id": "12c8ca2a-1ec0-466d-b90b-3c20ed66ae46",
   "metadata": {},
   "outputs": [],
   "source": [
    "# Convertimos las etiquetas de los estados que obtuvimos, de binario a decimal\n",
    "results_dec = np.sort([int(binstate, 2) for binstate in counts.keys()])\n",
    "results_dec"
   ]
  },
  {
   "cell_type": "code",
   "execution_count": null,
   "id": "7d333a36-c9f9-499c-a3ca-691a636d7b68",
   "metadata": {},
   "outputs": [],
   "source": [
    "from fractions import Fraction\n",
    "\n",
    "def _shor(N, a, shots=1):\n",
    "    # Definimos y corremos el circuito cuántico\n",
    "    qc = _shor_circuit(N, a)\n",
    "    simulator = Aer.get_backend('aer_simulator')\n",
    "    result = execute(_shor_circuit(N, a), backend=simulator, shots=shots).result()\n",
    "    counts = result.get_counts()\n",
    "\n",
    "    # Obtenemos los nombres en decimal de los estados obtenidos\n",
    "    results_dec = np.sort([int(binstate, 2) for binstate in counts.keys()])\n",
    "\n",
    "    # Numero total de estados\n",
    "    total_num_states = 2**int(np.ceil(np.log2(N)))\n",
    "    # Fases normalizadas, j/r\n",
    "    phases = [res/total_num_states for res in results_dec if res != 0]\n",
    "\n",
    "    # Usamos fracciones continuadas para obtener el denominador de j/r\n",
    "    r_array = [Fraction(phase).limit_denominator(N).denominator\n",
    "               for phase in phases ]\n",
    "\n",
    "    # Para cada r, encontramos los factores\n",
    "    factors = []\n",
    "    for r in r_array:\n",
    "        # Si r es impar, saltamos la iteracion\n",
    "        if  r != int(r/2)*2:\n",
    "            continue\n",
    "        # Si r es par, calculamos los factores\n",
    "        x = a ** (r//2)\n",
    "        factors.append([mcd(x-1, N), mcd(x+1, N)])\n",
    "    \n",
    "    return factors\n",
    "    "
   ]
  },
  {
   "cell_type": "code",
   "execution_count": null,
   "id": "fc1e90f7-f002-4058-abb0-81cc70f6e192",
   "metadata": {},
   "outputs": [],
   "source": [
    "# Simulamos el algoritmo de Shor cuántico\n",
    "_shor(N, a, shots=1)"
   ]
  },
  {
   "cell_type": "code",
   "execution_count": null,
   "id": "f6a39a96-54f2-4154-af41-ce438b234068",
   "metadata": {},
   "outputs": [],
   "source": [
    "# En caso de que j y r tengan factores en común, podemos tener que correr el circuito de nuevo.\n",
    "# Por eso, podemos correr con varios shots, y vemos que encontramos 3 soluciones,\n",
    "# de las cuales 2 son correctas.\n",
    "_shor(N, a, shots=100)"
   ]
  },
  {
   "cell_type": "markdown",
   "id": "9aafbb8d-44cc-4faa-8f0c-0f02e62cf039",
   "metadata": {},
   "source": [
    "Hemos factorizado 15 como 3 $\\times$ 5"
   ]
  },
  {
   "cell_type": "code",
   "execution_count": null,
   "id": "bd7a7226-1b82-4aa0-a05a-36f18f465b85",
   "metadata": {},
   "outputs": [],
   "source": []
  }
 ],
 "metadata": {
  "kernelspec": {
   "display_name": "Python 3 (ipykernel)",
   "language": "python",
   "name": "python3"
  },
  "language_info": {
   "codemirror_mode": {
    "name": "ipython",
    "version": 3
   },
   "file_extension": ".py",
   "mimetype": "text/x-python",
   "name": "python",
   "nbconvert_exporter": "python",
   "pygments_lexer": "ipython3",
   "version": "3.11.5"
  }
 },
 "nbformat": 4,
 "nbformat_minor": 5
}
