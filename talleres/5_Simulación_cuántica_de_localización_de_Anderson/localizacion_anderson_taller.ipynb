{
 "cells": [
  {
   "cell_type": "code",
   "execution_count": 1,
   "metadata": {},
   "outputs": [],
   "source": [
    "import numpy as np\n",
    "\n",
    "import matplotlib.pyplot as plt \n",
    "from qiskit.quantum_info import SparsePauliOp, Statevector, \\\n",
    "                                Operator, process_fidelity\n",
    "from qiskit.circuit import Parameter\n",
    "from qiskit import QuantumCircuit, QuantumRegister, \\\n",
    "                    ClassicalRegister \n",
    "from scipy.linalg import expm"
   ]
  },
  {
   "cell_type": "markdown",
   "metadata": {},
   "source": [
    "# Simulación cuántica\n",
    "\n",
    "La simulación de sistemas físicos es una tarea computacional importante con muchas aplicaciones. El núcleo de la simulación de sistemás físicos es resolver las ecuaciones diferenciales que capturan las leyes que gobiernan la dinámica del sistema. En el caso de los sistemas cuánticos, estos son gobernados por la ecuación de Schrödinger\n",
    "$$ i\\frac{d}{dt}|\\psi\\rangle = H |\\psi\\rangle, $$\n",
    "donde $H$ es el Hamiltoniano del sistema. Resolver esta ecuación con medios clásicos es posible. Sin embargo, esto es generalmente ineficiente porque la dimensión del espacio de estados crece exponencial con el número de qubits, es decir, tenemos una cantidad exponencial de ecuaciones diferenciales por resolver.\n",
    "\n",
    "Los computadores cuánticos, los cuales naturalmente evolucionan de acuerdo a la ecuación de Schrödinger, prometen simular eficientemente sistemas cuánticos intratables clasicamente. El propio Richard Feymann, premio nobel en física, proyectaba esta aplicación:\n",
    "\n",
    "\"Nature isn't classical, dammit, and if you want to make a simulation of nature, you'd better make it quantum mechanical, and by golly it's a wonderful problem, because it doesn't look so easy.\" \n",
    "\n",
    "En este taller veremos como simular la conductividad de electrones en un material sólido a través del modelo \"tight-binding\" tanto clasicamente como cuánticamente. Particularmente, el algoritmo de simulación cuántica que utilizaremos será la fórmula de Trotter."
   ]
  },
  {
   "cell_type": "markdown",
   "metadata": {},
   "source": [
    "## Modelo \"tight-binding\" \n",
    "\n",
    "El modelo tight-binding describre el transporte de electrones a través de un materia sólido. En este cada átomo es tratado como un qubit, mientras que los electrones ocupan estos qubits y pueden saltar entre ellos. Por ejemplo, consideremos 7 átomos con 1 electrón de conducción. El estado\n",
    "$$ |1\\rangle_7|0\\rangle_6|0\\rangle_5|0\\rangle_4|0\\rangle_3|0\\rangle_2|0\\rangle_1|0\\rangle_0,  $$\n",
    "representa un electrón en el átomo 7. El Hamiltoniano que describe este modelo es,\n",
    "$$ H = \\sum_{j} \\epsilon_j Z_j + J \\sum_{j}( X_jX_{j+1} + Y_jY_{j+1} ).$$\n",
    "El primer término describe la energía de cada átomo, mientras que el segundo describe la interacción entre átomos vecinos y el salto de los electrones.\n",
    "\n",
    "<img src=\"./img/ecc24_trotter_1.jpg\" \n",
    "     align=\"left\" \n",
    "     width=\"500\" />"
   ]
  },
  {
   "cell_type": "markdown",
   "metadata": {},
   "source": [
    "### Simulación clásica\n",
    "\n",
    "La solución de la ecuación de Schrödinger cuando el Hamiltoniano es independiente del tiempo es dada por\n",
    "$$ | \\psi(t)\\rangle = U(t)| \\psi(0)\\rangle, $$\n",
    "donde $$U(t)=e^{-iHt},$$ es el operador de evolución. [Notemos que esta exponencial actúa sobre el espectro de $H$ y no sobre cada uno de los elementos de $H$](https://en.wikipedia.org/wiki/Matrix_exponential). La simulación clásica del modelo tight binding consiste en calcular numericamente el operador de evolución $U(t)$. Por simplicidad supondremos que $\\epsilon_j=0$ para todo átomo y J=1.\n",
    "\n",
    "$$ H = \\sum_{j}( X_jX_{j+1} + Y_jY_{j+1} ).$$"
   ]
  },
  {
   "cell_type": "code",
   "execution_count": null,
   "metadata": {},
   "outputs": [],
   "source": [
    "# Primero definimos los operadores de Pauli\n",
    "I = SparsePauliOp.from_list( [ ( 'I', 1) ] )\n",
    "X = SparsePauliOp.from_list( [ ( 'X', 1) ] )\n",
    "Y = SparsePauliOp.from_list( [ ( 'Y', 1) ] )\n",
    "Z = SparsePauliOp.from_list( [ ( 'Z', 1) ] )"
   ]
  },
  {
   "cell_type": "code",
   "execution_count": null,
   "metadata": {},
   "outputs": [],
   "source": [
    "#Definimos el número de qubits\n",
    "num_qubits = 7"
   ]
  },
  {
   "cell_type": "code",
   "execution_count": null,
   "metadata": {},
   "outputs": [],
   "source": [
    "# Construimos el Hamiltoniano\n",
    "def H_tb():\n",
    "        op_list = []\n",
    "        for k in range(num_qubits-1):\n",
    "                XX = num_qubits * ['I']\n",
    "                XX[ k ] = 'X'\n",
    "                XX[ k+1 ] = 'X'\n",
    "                XX = \"\".join(XX)  \n",
    "                \n",
    "                YY = num_qubits * ['I']\n",
    "                YY[ k ] = 'Y'\n",
    "                YY[ k+1 ] = 'Y'\n",
    "                YY = \"\".join(YY)  \n",
    "                \n",
    "                op_list.append( (XX,1) )\n",
    "                op_list.append( (YY,1) )\n",
    "        H = SparsePauliOp.from_list( op_list )\n",
    "        return H"
   ]
  },
  {
   "cell_type": "code",
   "execution_count": null,
   "metadata": {},
   "outputs": [],
   "source": [
    "# Imprimamos el Hamiltoniano\n",
    "H_tb()"
   ]
  },
  {
   "cell_type": "code",
   "execution_count": null,
   "metadata": {},
   "outputs": [],
   "source": [
    "#  Operador de evolución \n",
    "def U_tb(t):\n",
    "    H = H_tb().to_matrix()\n",
    "    return expm( -1j*H*t )"
   ]
  },
  {
   "cell_type": "code",
   "execution_count": null,
   "metadata": {},
   "outputs": [],
   "source": [
    "# Imprimamos el operador de evolución\n",
    "U_tb(0)"
   ]
  },
  {
   "cell_type": "markdown",
   "metadata": {},
   "source": [
    "Consideremos como estado inicial un electrón en el primer átomo de la izquierda, es decir\n",
    "$$|\\psi(0)\\rangle = |1\\rangle|0\\rangle|0\\rangle|0\\rangle|0\\rangle|0\\rangle|0\\rangle. $$"
   ]
  },
  {
   "cell_type": "code",
   "execution_count": null,
   "metadata": {},
   "outputs": [],
   "source": [
    "ket0  = Statevector([1,0])\n",
    "ket1  = Statevector([0,1])\n",
    "state_in = eval( 'ket1'+(num_qubits-1)*'^ket0' )\n",
    "state_in"
   ]
  },
  {
   "cell_type": "markdown",
   "metadata": {},
   "source": [
    "Ahora calculamos la evolución hasta $t=3$ y graficamos la probabilida de que el electrón esté en cada átomo en función del tiempo."
   ]
  },
  {
   "cell_type": "code",
   "execution_count": null,
   "metadata": {},
   "outputs": [],
   "source": [
    "times = np.linspace(0, 10,30) \n",
    "probs_out = np.array( [ np.abs( \n",
    "                U_tb(t) @ state_in.__array__() )**2 \n",
    "                for t in times ] )"
   ]
  },
  {
   "cell_type": "code",
   "execution_count": null,
   "metadata": {},
   "outputs": [],
   "source": [
    "plt.figure(figsize=(3,5), facecolor='white')\n",
    "plt.pcolormesh( np.linspace(0,num_qubits,num_qubits), \n",
    "                times,\n",
    "                probs_out[:, 2**np.arange(num_qubits)[::-1] ] )\n",
    "plt.colorbar()\n",
    "plt.xlabel('Qubit')\n",
    "plt.ylabel('Tiempo')"
   ]
  },
  {
   "cell_type": "markdown",
   "metadata": {},
   "source": [
    "Vemos que el electrón parte en el átomo de más a la izquierda, pero luego salta a los átomos vecinos hasta llegar al de más a la derecha. Posteriormente el electrón es reflejado y vuelve al átomo de la izquierda."
   ]
  },
  {
   "cell_type": "markdown",
   "metadata": {},
   "source": [
    "### Simulación Cuántica\n",
    "\n",
    "Podemos simular la dinámica de un sistema cuántico en un computador cuántico mediante la fórmula de Trotter. Esta esta dada por\n",
    "$$ e^{A+B} = \\lim_{m \\rightarrow \\infty} \\left( e^{A/m} e^{B/m}  \\right)^m, $$\n",
    "donde $A$ y $B$ son operadores. Podemos pensar que esta es la versión cuántica de la relación clásica $e^{a+b}=e^a e^b$, con $a,b\\in\\mathbb{C}$. Consideremos el Hamiltoniano  $H=\\sum_j H_j$ de $n$ qubits, con $H_j$ operadores que no involucran todos los qubits,\n",
    "$$ H_{j} = X_jX_{j+1} + Y_jY_{j+1},$$\n",
    "\n",
    "donde usaremos J=1. Además, su correspondiente operador de evolución es $U(t)= e^{ -it\\sum_j H_j }$. La fórmula de Trotter nos permite approximar esta evolución hasta orden $m$ por\n",
    "$$ U(t) \\approx \\left( \\prod_{j} e^{-itH_j/m}  \\right)^m .$$\n",
    "Para el caso del modelo tight binding tenemos que\n",
    "$$ H_{2j+1} = X_jX_{j+1}, \\qquad H_{2j+2} = Y_jY_{j+1}, $$\n",
    "de modo que el operador de evolución puede ser approximado mediante\n",
    "$$ U(t) \\approx \\left(  e^{-itX_0X_{1}/m}e^{-itY_0Y_{1}/m}\\cdots e^{-itX_{n-2}X_{n-1}/m}e^{-itY_{n-2}Y_{n-1}/m} \\right)^m.$$\n",
    "Así, necesitamos construir circuitos que implementes las puertas\n",
    "$$ XX_j(t) = e^{ -itX_jX_{j+1} }, \\qquad YY_j(t) = e^{ -itY_jY_{j+1} }. $$\n",
    "\n",
    "Estas puertas pueden ser aplicadas utilizando la compuerta ZZ(t) y transformaciones de esta."
   ]
  },
  {
   "cell_type": "code",
   "execution_count": null,
   "metadata": {},
   "outputs": [],
   "source": [
    "# Definimos el parámetro t\n",
    "t = Parameter('t')"
   ]
  },
  {
   "cell_type": "markdown",
   "metadata": {},
   "source": [
    "Puerta ZZ:"
   ]
  },
  {
   "cell_type": "markdown",
   "metadata": {},
   "source": [
    "![gaet_ZZ](img/gate_ZZ.png)"
   ]
  },
  {
   "cell_type": "code",
   "execution_count": null,
   "metadata": {},
   "outputs": [],
   "source": [
    "# Construimos el circuito ZZ(t)\n",
    "\n",
    "ZZ_qr = QuantumRegister(2)\n",
    "ZZ_qc = QuantumCircuit(ZZ_qr, name='ZZ')\n",
    "\n",
    "###EDITAR BAJO ESTA LINEA (agregar compuertas)\n",
    "\n",
    "###NO EDITAR BAJO ESTA LINEA\n",
    "\n",
    "# Convertimos nuestro circuito en una puerta \n",
    "ZZ = ZZ_qc.to_instruction()\n",
    "\n",
    "ZZ_qc.draw('mpl')"
   ]
  },
  {
   "cell_type": "markdown",
   "metadata": {},
   "source": [
    "PUERTA XX:"
   ]
  },
  {
   "cell_type": "markdown",
   "metadata": {},
   "source": [
    "![gaet_XX](img/gate_XX.png)"
   ]
  },
  {
   "cell_type": "code",
   "execution_count": null,
   "metadata": {},
   "outputs": [],
   "source": [
    "# Construimos la puerta XX(t) a partir de ZZ(t)\n",
    "XX_qr = QuantumRegister(2)\n",
    "XX_qc = QuantumCircuit(XX_qr, name='XX')\n",
    "\n",
    "###EDITAR BAJO ESTA LINEA (agregar compuerta)\n",
    "\n",
    "###NO EDITAR BAJO ESTA LINEA\n",
    "\n",
    "XX_qc.append(ZZ, [0,1])\n",
    "\n",
    "###EDITAR BAJO ESTA LINEA (agregar compuerta)\n",
    "\n",
    "###NO EDITAR BAJO ESTA LINEA\n",
    "\n",
    "# Convertimos nuestro circuito en una puerta \n",
    "XX = XX_qc.to_instruction()\n",
    "\n",
    "XX_qc.draw('mpl')"
   ]
  },
  {
   "cell_type": "markdown",
   "metadata": {},
   "source": [
    "PUERTA YY:"
   ]
  },
  {
   "cell_type": "markdown",
   "metadata": {},
   "source": [
    "![gaet_YY](img/gate_YY.png)"
   ]
  },
  {
   "cell_type": "markdown",
   "metadata": {},
   "source": [
    "HINT: Puertas .s() y .sgd()"
   ]
  },
  {
   "cell_type": "code",
   "execution_count": null,
   "metadata": {},
   "outputs": [],
   "source": [
    "# Construimos la puerta YY(t) a partir de ZZ(t)\n",
    "YY_qr = QuantumRegister(2)\n",
    "YY_qc = QuantumCircuit(YY_qr, name='YY')\n",
    "\n",
    "###EDITAR BAJO ESTA LINEA (agregar compuertas)\n",
    "\n",
    "###NO EDITAR BAJO ESTA LINEA\n",
    "\n",
    "YY_qc.append(ZZ, [0,1])\n",
    "\n",
    "###EDITAR BAJO ESTA LINEA (agregar compuertas)\n",
    "\n",
    "###NO EDITAR BAJO ESTA LINEA\n",
    "\n",
    "# Convertir el circuito cuantico en una puerta\n",
    "YY = YY_qc.to_instruction()\n",
    "\n",
    "YY_qc.draw('mpl')"
   ]
  },
  {
   "cell_type": "markdown",
   "metadata": {},
   "source": [
    "Ahora construimos el paso de Trotter\n",
    "$$ U_{step}(t) = e^{-itX_0X_{1}/m}e^{-itY_0Y_{1}/m}\\cdots e^{-itX_{n-2}X_{n-1}/m}e^{-itY_{n-2}Y_{n-1}/m} $$ "
   ]
  },
  {
   "cell_type": "code",
   "execution_count": null,
   "metadata": {},
   "outputs": [],
   "source": [
    "Trot_tb_qr = QuantumRegister(num_qubits, 'q')\n",
    "Trot_tb_qc = QuantumCircuit(Trot_tb_qr, name='Trot')\n",
    "\n",
    "\n",
    "for j in range(num_qubits-1):\n",
    "    ###EDITAR BAJO ESTA LINEA\n",
    "    ### HINT: .append(gate, [qubits])\n",
    "\n",
    "###NO EDITAR BAJO ESTA LINEA\n",
    "\n",
    "Trot_tb_gate = Trot_tb_qc.to_instruction()\n",
    "\n",
    "Trot_tb_qc.draw('mpl')"
   ]
  },
  {
   "cell_type": "markdown",
   "metadata": {},
   "source": [
    "Construimos la approximación de Trotter,\n",
    "$$ U(t)\\approx \\left[ U_{step}(t) \\right]^m $$"
   ]
  },
  {
   "cell_type": "code",
   "execution_count": null,
   "metadata": {},
   "outputs": [],
   "source": [
    "\n",
    "def U_trotterize(delta_t, trotter_steps):\n",
    "    qr = QuantumRegister(num_qubits)\n",
    "    qc = QuantumCircuit(qr)\n",
    "\n",
    "    ###EDITAR BAJO ESTA LINEA (Crear el circuito trotterizado con varios pasos de trotter )\n",
    "    \n",
    "    ###NO EDITAR BAJO ESTA LINEA\n",
    "    \n",
    "    qc = qc.bind_parameters({t: delta_t })\n",
    "    \n",
    "    return qc"
   ]
  },
  {
   "cell_type": "code",
   "execution_count": null,
   "metadata": {},
   "outputs": [],
   "source": [
    "qc = U_trotterize( 0.1, 3 )\n",
    "qc.decompose(reps=1).draw('mpl') "
   ]
  },
  {
   "cell_type": "markdown",
   "metadata": {},
   "source": [
    "Simulamos la dinámica hasta $t=3$."
   ]
  },
  {
   "cell_type": "code",
   "execution_count": null,
   "metadata": {},
   "outputs": [],
   "source": [
    "delta_t=0.15 # NO EDITAR dt = t/m\n",
    "time_steps=np.arange(1,20,1) # NO EDITAR\n",
    "\n",
    "circuits=[]\n",
    "\n",
    "for n_steps in time_steps:\n",
    "    qr = QuantumRegister(num_qubits)\n",
    "    cr = ClassicalRegister(num_qubits)\n",
    "    qc = QuantumCircuit(qr,cr)\n",
    "\n",
    "    ###EDITAR BAJO ESTA LINEA (iniciar electron, agregar circuito trotter, medir)\n",
    "\n",
    "    ###NO EDITAR BAJO ESTA LINEA\n",
    "    \n",
    "    circuits.append(qc)"
   ]
  },
  {
   "cell_type": "code",
   "execution_count": null,
   "metadata": {},
   "outputs": [],
   "source": [
    "from qiskit.primitives import Sampler \n",
    "# Usar qiskit primitives statevector simulator\n",
    "\n",
    "sampler = Sampler()\n",
    "\n",
    "probability_density=[]\n",
    "for circ in circuits:\n",
    "    \n",
    "    job = sampler.run(circ)\n",
    "\n",
    "    # Colectar los resultados del trabajo (job.)\n",
    "    result = job.result()\n",
    "    probs = result.quasi_dists[0]\n",
    "    probability_density.append([ probs.get(2**key,0) \n",
    "                                for key in range(num_qubits) ])\n",
    "\n",
    "    \n",
    "probability_density=np.array(probability_density)"
   ]
  },
  {
   "cell_type": "markdown",
   "metadata": {},
   "source": [
    "Graficamos las probabilidades de que el electrón este en cada átomo."
   ]
  },
  {
   "cell_type": "code",
   "execution_count": null,
   "metadata": {},
   "outputs": [],
   "source": [
    "plt.figure(figsize=(3,5), facecolor='white')\n",
    "plt.pcolormesh( np.linspace(0,num_qubits,num_qubits), \n",
    "                time_steps*delta_t ,\n",
    "                probability_density)\n",
    "plt.colorbar()\n",
    "plt.xlabel('Qubit index')\n",
    "plt.ylabel('Time')"
   ]
  },
  {
   "cell_type": "markdown",
   "metadata": {},
   "source": [
    "Vemos que una dinámica similar al caso clásico, es decir, un transporte del electrón de izquierda a derecha, y despues de derecha a izquierda. Sin embargo, como la fórmula de Trotter solo nos permite approximar el operador de evolución, la simulación cuántica es levemente distinta a la clásica. ¿De cuánto es este error? Depende del número de pasos de Trotter, lo cual se puede ver en el siguiente gráfico."
   ]
  },
  {
   "cell_type": "code",
   "execution_count": null,
   "metadata": {},
   "outputs": [],
   "source": [
    "t_target = 0.5\n",
    "\n",
    "U_target = U_tb(t_target)\n",
    "\n",
    "steps=np.arange(1,101,50)  ## NO EDITAR ESTA LINEA\n",
    "\n",
    "fidelities=[]\n",
    "for n in steps:\n",
    "    U_trotter = Operator( \n",
    "                U_trotterize(t_target/n, trotter_steps=n) )\n",
    "    fidelity = process_fidelity(U_trotter, target=U_target)\n",
    "    fidelities.append(fidelity)\n",
    "\n",
    "plt.figure(facecolor='white') \n",
    "plt.loglog(steps, 1-np.array(fidelities)) \n",
    "plt.ylabel('Trotter error') \n",
    "plt.xlabel('Trotter steps') \n",
    "plt.show()"
   ]
  },
  {
   "cell_type": "markdown",
   "metadata": {},
   "source": [
    "## Localización de Anderson \n",
    "Ahora simularemos cuánticamente el modelo tight binding en un contexto más interesante. La propagación de un electrón en una red cristalina se ve afectado por la introducción de desorden en la energías de cada átomo $\\epsilon_j$, lo que lleva a un fenomeno conocido como localización de Anderson. La inhomogeneidad de la red cristalina causa dispersión y produce una interferencia cuántica que tiende a inhibir la propagación de la partícula, localizandola en una región pequeña de la red cristalina.\n",
    "\n",
    "$$ H = \\sum_{j} \\epsilon_j Z_j + X_jX_{j+1} + Y_jY_{j+1}.$$\n"
   ]
  },
  {
   "cell_type": "markdown",
   "metadata": {},
   "source": [
    "<img src=\"./img/ecc24_trotter_2.jpg\" \n",
    "     align=\"left\" \n",
    "     width=\"500\" />"
   ]
  },
  {
   "cell_type": "markdown",
   "metadata": {},
   "source": [
    "Phillip Anderson propuso por primera vez en 1958 que la dispersión debida al desorden puede detener completamente el transporte. Antes del descubrimiento de Anderson, los científicos modelaban el desorden cristalino como perturbaciones que dispersaban a los electrones de manera aleatoria, tratando a los electrones como partículas puntuales. Esta lógica, llevo a la descripción del transporte en estos sistemas como un movimiento browniano, en el que subyace la ley de Ohm. Sin embargo, Anderson revisitó el efecto del desorden en la evolución de la estado de un electrón, a su vez en un cristal periódico . Anderson analizó el problema en el régimen cuántico, así tomando en cuenta la naturaleza ondulatoria del electrón, y encontró que el movimiento difusivo clásico del electrón se pierde ya que la distribución de probabilidad del electrón se localiza exponencialmente. Por lo tanto, cuando un electrón está inicialmente ubicado en un átomo, su estado no podrá expandirse con el tiempo para cubrir todo el cristal, sino que más bien permanecerá localizado alrededor de su posición inicial. Así, el material dejará de conducir cargas eléctricas, y eventualmente se comportará como un aislante. Este fenómeno de localización es una consecuencia directa de los diferentes caminos de interferencia que surgen de las múltiples dispersiones del electrón con los defectos de la red cristalina."
   ]
  },
  {
   "cell_type": "markdown",
   "metadata": {},
   "source": [
    "Podemos inducir localización de Anderson en este sistema cambiando $\\epsilon_j$ al crear un Aubry-Andre quasicristal que modela la transicion metal-aislante. Tenemos que\n",
    "$$ \\epsilon_i=W \\rm{cos}(2\\pi\\beta i) ,$$\n",
    "donde $W$ es el tamaño del desorden y $\\beta$ determina la periodicidad del desorden en el cristal."
   ]
  },
  {
   "cell_type": "code",
   "execution_count": null,
   "metadata": {},
   "outputs": [],
   "source": [
    "beta=(np.sqrt(5)-1)/2 # NO EDITAR\n",
    "AA_patern=np.cos(2*np.pi*beta*np.arange(num_qubits)) # NO EDITAR\n",
    "\n",
    "plt.plot(np.linspace(-0.5,6.5,101), \n",
    "        np.cos(2*np.pi*beta*np.linspace(-0.5,6.5,101)), '--')\n",
    "plt.plot(np.arange(num_qubits), AA_patern, 'o', label=r'$\\epsilon_i$')\n",
    "plt.xlabel('Posición')\n",
    "plt.ylabel('Energía')\n",
    "plt.legend()\n",
    "plt.title('Potential de Aubry-Andre')\n",
    "plt.show()"
   ]
  },
  {
   "cell_type": "markdown",
   "metadata": {},
   "source": [
    "Ahora nuestro paso de Trotter incluira los términos $\\{\\epsilon_j Z_j \\}$, los cuales supusimos nulos en la primera parte del taller, es decir\n",
    "$$ U_{step}(t) = \\left( e^{-itX_0X_{1}/m}e^{-itY_0Y_{1}/m}\\cdots e^{-itX_{n-2}X_{n-1}/m}e^{-itY_{n-2}Y_{n-1}/m} \\right) \\left(e^{-it\\epsilon_0Z_0/m}\\cdots e^{-it\\epsilon_{n-1}Z_{n-1}/m}\\right). $$ \n"
   ]
  },
  {
   "cell_type": "code",
   "execution_count": null,
   "metadata": {},
   "outputs": [],
   "source": [
    "Trot_qr_disorder = QuantumRegister(num_qubits, 'q')\n",
    "Trot_qc_disorder = QuantumCircuit(Trot_qr_disorder, name='Trot disorder')\n",
    "\n",
    "Trot_qc_disorder.append( Trot_tb_gate, range(num_qubits) )\n",
    "deltas=[ Parameter('delta_{:d}'.format(idx)) \n",
    "            for idx in range(num_qubits)]\n",
    "\n",
    "###EDITAR BAJO ESTA LINEA (agregar desorden en cada qubit)\n",
    "### Hint: autointeracción .rz()\n",
    "\n",
    "###NO EDITAR BAJO ESTA LINEA\n",
    "    \n",
    "# Convertir el circuito en una puerta\n",
    "Trot_disorder_gate = Trot_qc_disorder.to_instruction()\n",
    "\n",
    "Trot_qc_disorder.draw('mpl')"
   ]
  },
  {
   "cell_type": "markdown",
   "metadata": {},
   "source": [
    "Simulamos nuevamente la dinámica hasta $t=3$."
   ]
  },
  {
   "cell_type": "code",
   "execution_count": null,
   "metadata": {},
   "outputs": [],
   "source": [
    "delta_t=0.15\n",
    "time_steps=np.arange(1,20,1)\n",
    "\n",
    "W=2 # NO EDITAR\n",
    "\n",
    "disorders=W*AA_patern # NO EDITAR\n",
    "\n",
    "disorder_circuits=[]\n",
    "\n",
    "for n_steps in time_steps:\n",
    "\n",
    "    qr = QuantumRegister(num_qubits)\n",
    "    cr = ClassicalRegister(num_qubits)\n",
    "    qc = QuantumCircuit(qr, cr)\n",
    "\n",
    "    qc.x(0)\n",
    "    \n",
    "    for _ in range(n_steps):\n",
    "        qc.append(Trot_disorder_gate, [i for i in range(num_qubits)])\n",
    "\n",
    "    qc = qc.bind_parameters({t: delta_t})\n",
    "    qc = qc.bind_parameters({deltas[idx]: disorders[idx] for idx in range(num_qubits)})\n",
    "\n",
    "    qc.measure( qr, cr )\n",
    "\n",
    "    disorder_circuits.append(qc)\n"
   ]
  },
  {
   "cell_type": "markdown",
   "metadata": {},
   "source": [
    "Graficamos la probabilidad de que el electrón este en cada átomo."
   ]
  },
  {
   "cell_type": "code",
   "execution_count": null,
   "metadata": {},
   "outputs": [],
   "source": [
    "probability_density_localization=[]\n",
    "for circ in disorder_circuits:\n",
    "    job2 = sampler.run(circ)\n",
    "    probs = job2.result().quasi_dists[0] \n",
    "    probability_density_localization.append([ probs.get(2**key,0) \n",
    "                                for key in range(num_qubits) ])\n",
    "        \n",
    "probability_density_localization=np.array(probability_density_localization)"
   ]
  },
  {
   "cell_type": "code",
   "execution_count": null,
   "metadata": {},
   "outputs": [],
   "source": [
    "plt.figure(figsize=(3,5), facecolor='white')\n",
    "plt.pcolormesh( np.linspace(0,num_qubits,num_qubits), \n",
    "                time_steps*delta_t ,\n",
    "                probability_density_localization)\n",
    "plt.colorbar()\n",
    "plt.xlabel('Qubit index')\n",
    "plt.ylabel('Time')"
   ]
  },
  {
   "cell_type": "markdown",
   "metadata": {},
   "source": [
    "Vemos que la probabilidad de que el electrón este en el primer átomo de la izquiera es cercana a 1, mientras que la probabilidad de que este en los otros átomos es cercana a 0, es decir, el electrón esta localizado en el primer átomo!"
   ]
  },
  {
   "cell_type": "markdown",
   "metadata": {},
   "source": [
    "Este taller fue construido por Luciano Pereira y Mauricio Casanova, inspirado en el [IBM quantum Challenge 2022 spring](https://github.com/qiskit-community/ibm-quantum-spring-challenge-2022)."
   ]
  }
 ],
 "metadata": {
  "kernelspec": {
   "display_name": "qiskit",
   "language": "python",
   "name": "python3"
  },
  "language_info": {
   "codemirror_mode": {
    "name": "ipython",
    "version": 3
   },
   "file_extension": ".py",
   "mimetype": "text/x-python",
   "name": "python",
   "nbconvert_exporter": "python",
   "pygments_lexer": "ipython3",
   "version": "3.10.6"
  }
 },
 "nbformat": 4,
 "nbformat_minor": 2
}
