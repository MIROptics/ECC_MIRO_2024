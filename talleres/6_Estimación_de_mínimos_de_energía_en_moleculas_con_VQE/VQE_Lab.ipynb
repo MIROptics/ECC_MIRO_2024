{
 "cells": [
  {
   "cell_type": "code",
   "execution_count": 2,
   "id": "863447f4",
   "metadata": {
    "tags": []
   },
   "outputs": [],
   "source": [
    "import numpy as np\n",
    "import matplotlib.pyplot as plt \n",
    "from qiskit import QuantumCircuit\n",
    "from qiskit.circuit import ParameterVector"
   ]
  },
  {
   "cell_type": "markdown",
   "id": "492a2619",
   "metadata": {},
   "source": [
    "## Variational quantum eigensolver\n",
    "\n",
    "Variational quantum eigensolver (VQE) [[1]](#Peruzzo2016) es un algoritmo que sirve para encontrar una cota superior para la mínima energía de un Hamiltoniano $\\hat{H}$ (operador autoadjunto), es decir, el menor autovalor de $\\hat{H}$. VQE es una herramienta útil en la búsqueda de una aproximación al estado basal, esto es, el autoestado asociado a la mínima energía. Para ello, VQE resuelve el problema\n",
    "\n",
    "\\begin{equation}\n",
    " \\min_{|\\psi\\rangle}\\frac{\n",
    " \\langle\\psi|\\hat{H}|\\psi\\rangle}{\\langle\\psi|\\psi\\rangle}\n",
    "\\end{equation}\n",
    "\n",
    "lo que significa que se busca un estado $|\\psi\\rangle$ que minimice el coeficiente de Rayleigh. Magnitud que puede ser eficientemente evaluada mediante un computador cuántico, y minimizada en un computador clásico. Para llevar a cabo esta tarea, se necesita aprender tres cosas: \n",
    "\n",
    "1) Mapear el Hamiltoniano $\\hat{H}$ a un computador cuántico.\n",
    "2) Generar el estado $|\\psi\\rangle$ en un circuito cuántico paramétrico.\n",
    "3) Evaluar el valor esperado del hamiltoniano $\\hat{H}$."
   ]
  },
  {
   "cell_type": "markdown",
   "id": "292656bc-2d0b-4db8-94e4-f3e864e1b387",
   "metadata": {},
   "source": [
    "## Primer Paso: Mapeo del Hamiltoneano\n",
    "\n",
    "Hamiltonianos moleculares en segunda cuantización [[2]](#Tilly2022) pueden ser definidos como operadores termiónicos mediante la función PySCFDriver() de la librería qiskit_nature.second_q.drivers. Para guardar dicho Hamiltoniano se hace uso de la función json.dump() de la librería json. Adicionalmente, mediante la función json.load() se puede cargar un Hamiltoniano previamente guardado."
   ]
  },
  {
   "cell_type": "code",
   "execution_count": 3,
   "id": "2d9937ef-4f64-4180-90b8-e787915a2a82",
   "metadata": {
    "tags": []
   },
   "outputs": [
    {
     "name": "stdout",
     "output_type": "stream",
     "text": [
      "Fermionic Operator\n",
      "number spin orbitals=4, number terms=36\n",
      "  0.33785507740175813 * ( +_0 +_0 -_0 -_0 )\n",
      "+ 0.09046559989211565 * ( +_0 +_0 -_1 -_1 )\n",
      "+ 0.09046559989211556 * ( +_0 +_1 -_0 -_1 )\n",
      "+ 0.33229086512764827 * ( +_0 +_1 -_1 -_0 )\n",
      "+ 0.33785507740175813 * ( +_0 +_2 -_2 -_0 )\n",
      "+ 0.09046559989211565 * ( +_0 +_2 -_3 -_1 )\n",
      "+ 0.09046559989211556 * ( +_0 +_3 -_2 -_1 )\n",
      "+ 0.33229086512764827 * ( +_0 +_3 -_3 -_0 )\n",
      "+ 0.33229086512764816 * ( +_1 +_0 -_0 -_1 )\n",
      "+ 0.09046559989211574 * ( +_1 +_0 -_1 -_0 )\n",
      "+ 0.09046559989211564 * ( +_1 +_1 -_0 -_0 )\n",
      "+ 0.34928686136600906 * ( +_1 +_1 -_1 -_1 )\n",
      "+ 0.33229086512764816 * ( +_1 +_2 -_2 -_1 )\n",
      "+ 0.09046559989211574 * ( +_1 +_2 -_3 -_0 )\n",
      "+ 0.09046559989211564 * ( +_1 +_3 -_2 -_0 )\n",
      "+ 0.34928686136600906 * ( +_1 +_3 -_3 -_1 )\n",
      "+ 0.33785507740175813 * ( +_2 +_0 -_0 -_2 )\n",
      "+ 0.09046559989211565 * ( +_2 +_0 -_1 -_3 )\n",
      "+ 0.09046559989211556 * ( +_2 +_1 -_0 -_3 )\n",
      "+ 0.33229086512764827 * ( +_2 +_1 -_1 -_2 )\n",
      "+ 0.33785507740175813 * ( +_2 +_2 -_2 -_2 )\n",
      "+ 0.09046559989211565 * ( +_2 +_2 -_3 -_3 )\n",
      "+ 0.09046559989211556 * ( +_2 +_3 -_2 -_3 )\n",
      "+ 0.33229086512764827 * ( +_2 +_3 -_3 -_2 )\n",
      "+ 0.33229086512764816 * ( +_3 +_0 -_0 -_3 )\n",
      "+ 0.09046559989211574 * ( +_3 +_0 -_1 -_2 )\n",
      "+ 0.09046559989211564 * ( +_3 +_1 -_0 -_2 )\n",
      "+ 0.34928686136600906 * ( +_3 +_1 -_1 -_3 )\n",
      "+ 0.33229086512764816 * ( +_3 +_2 -_2 -_3 )\n",
      "+ 0.09046559989211574 * ( +_3 +_2 -_3 -_2 )\n",
      "+ 0.09046559989211564 * ( +_3 +_3 -_2 -_2 )\n",
      "+ 0.34928686136600906 * ( +_3 +_3 -_3 -_3 )\n",
      "+ -1.2563390730032498 * ( +_0 -_0 )\n",
      "+ -0.47189600728114245 * ( +_1 -_1 )\n",
      "+ -1.2563390730032498 * ( +_2 -_2 )\n",
      "+ -0.47189600728114245 * ( +_3 -_3 )\n"
     ]
    }
   ],
   "source": [
    "from qiskit_nature.units import DistanceUnit\n",
    "from qiskit_nature.second_q.drivers import PySCFDriver\n",
    "\n",
    "driver = PySCFDriver(\n",
    "            atom = \"H 0 0 0; H 0 0 0.735\",\n",
    "            basis=\"sto3g\",\n",
    "            charge=0,\n",
    "            spin=0,\n",
    "            unit=DistanceUnit.ANGSTROM,\n",
    "            )\n",
    "\n",
    "\n",
    "problem = driver.run()\n",
    "hamiltonian  = problem.hamiltonian\n",
    "fermionic_op = hamiltonian.second_q_op()\n",
    "print(fermionic_op)"
   ]
  },
  {
   "cell_type": "code",
   "execution_count": 4,
   "id": "596855de-348c-4330-b638-bc97634bdfe4",
   "metadata": {
    "tags": []
   },
   "outputs": [],
   "source": [
    "# Guardar operador fermiónico\n",
    "\n",
    "fermionic_op_dict = fermionic_op.__dict__\n",
    "\n",
    "import json\n",
    "with open(\"fermionic_op.json\", \"w\") as outfile: \n",
    "    json.dump(fermionic_op_dict, outfile)"
   ]
  },
  {
   "cell_type": "code",
   "execution_count": 5,
   "id": "5c9399d9-6bfa-4ef0-9c73-a2a610abe4da",
   "metadata": {
    "tags": []
   },
   "outputs": [
    {
     "name": "stdout",
     "output_type": "stream",
     "text": [
      "Fermionic Operator\n",
      "number spin orbitals=4, number terms=36\n",
      "  0.33785507740175813 * ( +_0 +_0 -_0 -_0 )\n",
      "+ 0.09046559989211565 * ( +_0 +_0 -_1 -_1 )\n",
      "+ 0.09046559989211556 * ( +_0 +_1 -_0 -_1 )\n",
      "+ 0.33229086512764827 * ( +_0 +_1 -_1 -_0 )\n",
      "+ 0.33785507740175813 * ( +_0 +_2 -_2 -_0 )\n",
      "+ 0.09046559989211565 * ( +_0 +_2 -_3 -_1 )\n",
      "+ 0.09046559989211556 * ( +_0 +_3 -_2 -_1 )\n",
      "+ 0.33229086512764827 * ( +_0 +_3 -_3 -_0 )\n",
      "+ 0.33229086512764816 * ( +_1 +_0 -_0 -_1 )\n",
      "+ 0.09046559989211574 * ( +_1 +_0 -_1 -_0 )\n",
      "+ 0.09046559989211564 * ( +_1 +_1 -_0 -_0 )\n",
      "+ 0.34928686136600906 * ( +_1 +_1 -_1 -_1 )\n",
      "+ 0.33229086512764816 * ( +_1 +_2 -_2 -_1 )\n",
      "+ 0.09046559989211574 * ( +_1 +_2 -_3 -_0 )\n",
      "+ 0.09046559989211564 * ( +_1 +_3 -_2 -_0 )\n",
      "+ 0.34928686136600906 * ( +_1 +_3 -_3 -_1 )\n",
      "+ 0.33785507740175813 * ( +_2 +_0 -_0 -_2 )\n",
      "+ 0.09046559989211565 * ( +_2 +_0 -_1 -_3 )\n",
      "+ 0.09046559989211556 * ( +_2 +_1 -_0 -_3 )\n",
      "+ 0.33229086512764827 * ( +_2 +_1 -_1 -_2 )\n",
      "+ 0.33785507740175813 * ( +_2 +_2 -_2 -_2 )\n",
      "+ 0.09046559989211565 * ( +_2 +_2 -_3 -_3 )\n",
      "+ 0.09046559989211556 * ( +_2 +_3 -_2 -_3 )\n",
      "+ 0.33229086512764827 * ( +_2 +_3 -_3 -_2 )\n",
      "+ 0.33229086512764816 * ( +_3 +_0 -_0 -_3 )\n",
      "+ 0.09046559989211574 * ( +_3 +_0 -_1 -_2 )\n",
      "+ 0.09046559989211564 * ( +_3 +_1 -_0 -_2 )\n",
      "+ 0.34928686136600906 * ( +_3 +_1 -_1 -_3 )\n",
      "+ 0.33229086512764816 * ( +_3 +_2 -_2 -_3 )\n",
      "+ 0.09046559989211574 * ( +_3 +_2 -_3 -_2 )\n",
      "+ 0.09046559989211564 * ( +_3 +_3 -_2 -_2 )\n",
      "+ 0.34928686136600906 * ( +_3 +_3 -_3 -_3 )\n",
      "+ -1.2563390730032498 * ( +_0 -_0 )\n",
      "+ -0.47189600728114245 * ( +_1 -_1 )\n",
      "+ -1.2563390730032498 * ( +_2 -_2 )\n",
      "+ -0.47189600728114245 * ( +_3 -_3 )\n"
     ]
    }
   ],
   "source": [
    "# Cargar operador Fermiónico\n",
    "\n",
    "from qiskit_nature.second_q.operators.fermionic_op import FermionicOp\n",
    "import json\n",
    "infile = open('fermionic_op.json')\n",
    "fermionic_op_dict = json.load(infile)\n",
    "fermionic_op = FermionicOp( fermionic_op_dict['_data'] )\n",
    "print( fermionic_op )"
   ]
  },
  {
   "cell_type": "markdown",
   "id": "873e73d7-9bc5-4641-855b-04294a93c104",
   "metadata": {
    "tags": []
   },
   "source": [
    "Para simular sistemas fermiónicos en computadores cuánticos, los operadores fermiónicos deben ser codificados en redes de qubits. Para ello, comúnmente se utiliza la\n",
    "transformación de Jordan-Wigner [[3]](#JW1928) (concretamente su transformación inversa) para convertir un Hamiltoniano fermiónico en un Hamiltoniano de spín. Esto se ejecuta en Qiskit mediante la función JordanWignerMapper() de la libreria qiskit_nature.second_q.mappers."
   ]
  },
  {
   "cell_type": "code",
   "execution_count": 6,
   "id": "a6d5e1e4-ef69-4db0-a2b7-bd974e774685",
   "metadata": {
    "tags": []
   },
   "outputs": [
    {
     "name": "stdout",
     "output_type": "stream",
     "text": [
      "-0.8105479805373279 * IIII\n",
      "- 0.22575349222402363 * IIZI\n",
      "+ 0.17218393261915543 * IIIZ\n",
      "+ 0.12091263261776629 * IIZZ\n",
      "+ 0.1721839326191555 * IZII\n",
      "+ 0.16892753870087907 * IZIZ\n",
      "+ 0.045232799946057826 * YYYY\n",
      "+ 0.045232799946057826 * XXYY\n",
      "+ 0.045232799946057826 * YYXX\n",
      "+ 0.045232799946057826 * XXXX\n",
      "- 0.2257534922240237 * ZIII\n",
      "+ 0.1661454325638241 * ZIIZ\n",
      "+ 0.1661454325638241 * IZZI\n",
      "+ 0.17464343068300453 * ZIZI\n",
      "+ 0.12091263261776629 * ZZII\n"
     ]
    },
    {
     "name": "stderr",
     "output_type": "stream",
     "text": [
      "/opt/conda/lib/python3.10/site-packages/qiskit_nature/deprecation.py:297: PauliSumOpDeprecationWarning: PauliSumOp is deprecated as of version 0.6.0 and support for them will be removed no sooner than 3 months after the release. Instead, use SparsePauliOp. You can switch to SparsePauliOp immediately, by setting `qiskit_nature.settings.use_pauli_sum_op` to `False`.\n",
      "  return func(*args, **kwargs)\n"
     ]
    }
   ],
   "source": [
    "from qiskit_nature.second_q.mappers import JordanWignerMapper\n",
    "mapper = JordanWignerMapper()\n",
    "qubit_op = mapper.map(fermionic_op)\n",
    "print( qubit_op )"
   ]
  },
  {
   "cell_type": "markdown",
   "id": "89e3260a",
   "metadata": {},
   "source": [
    "## Segundo Paso: Generar el ansatz\n",
    "\n",
    "Nos referimos por ansatz a un circuito cuántico paramétrico que determina los estados cuánticos $|\\psi({\\theta})\\rangle = U({\\theta})|0\\rangle$ considerados en la minimización de la energía. Los estados ansatz están caracterizados por secuencias de capas de compuertas paramétricas de un qubit como por ejemplo $Rx(\\theta_1)R_y(\\theta_2)$, las cuales se repiten un cierto número de veces, y entre cada repetición se encuentra una compuerta que entrelaza los qubits. \n",
    "\n",
    "![image.png](Ansatz.png)\n",
    "\n",
    "Para crear este circuito paramétrico (hardware eficiente [[2]](#Tilly2022)), debemos utilizar la función ParameterVector() de qiskit. Esta, crea un conjunto de variables simbólicas que son utilizadas como argumento en las puertas del ansatz.\n",
    "\n",
    "Instrucción: Escribir un código que genere el ansatz requerido, para un número de qubits y de capas indicadas (Para el ejemplo se utiliza 4 y 2 respectivamente)."
   ]
  },
  {
   "cell_type": "code",
   "execution_count": 7,
   "id": "81817c28-cb15-4646-980a-627ebb96eb6e",
   "metadata": {
    "tags": []
   },
   "outputs": [
    {
     "data": {
      "image/png": "[encoded data removed]",
      "text/plain": [
       "<Figure size 1040x367.889 with 1 Axes>"
      ]
     },
     "execution_count": 7,
     "metadata": {},
     "output_type": "execute_result"
    }
   ],
   "source": [
    "nqubits = fermionic_op.num_spin_orbitals\n",
    "reps    = 2\n",
    "\n",
    "# Ansatz generation\n",
    "\n",
    "theta   = ParameterVector( '$\\\\theta$', 2*nqubits*(reps+1) )\n",
    "ansatz = QuantumCircuit(nqubits)\n",
    "\n",
    "\n",
    "\n",
    "\n",
    "\n",
    "\n",
    "\n",
    "\n",
    "\n",
    "\n",
    "ansatz.draw('mpl')\n"
   ]
  },
  {
   "cell_type": "markdown",
   "id": "60c695c7-2941-4dfa-8a47-6762802f4b32",
   "metadata": {
    "tags": []
   },
   "source": [
    "## Tercer Paso: Evaluar el valor de expectacion y minimizar la energía\n",
    "\n",
    "Para estimar valores esperados de circuitos cuánticos y observables, se utiliza la función Estimator() de la librería qiskit_aer.primitives. Luego, se puede minimizar la energía mediante cualquier optimizador clásico, por ejemplo la función SPSA() de la librería qiskit.algorithms.optimizers.\n",
    "\n",
    "Instrucción: Estudie la documentación de <a href=\"https://docs.quantum.ibm.com/api/qiskit/qiskit.primitives.Estimator#run\">qiskit.algorithms.optimizers</a> de Qiskit, para ejecutar el método .run() de la función Estimator(). Esto es, completar los tres inputs faltantes en  \n",
    "\n",
    "    estimator.run( , , , shots=100 ) \n",
    "\n",
    "en los siguientes fragmentos de código. Luego, revise la documentación de <a href=\"https://docs.quantum.ibm.com/api/qiskit/qiskit.algorithms.optimizers.Optimizer\">qiskit.algorithms.optimizers</a> de Qiskit, para realizar la minimización de la función objetivo. Esto es, completar los inputs de \n",
    "    optimizer.minimize( , )\n",
    "    \n",
    "Observación: Observe el output de optimizer.minimize( , ) y vea como obtener el valor mínimo y los parámetros que determinan el estado de mínima energía."
   ]
  },
  {
   "cell_type": "code",
   "execution_count": 1,
   "id": "90cf8f82-bab1-455d-a281-df9c2ba1a46d",
   "metadata": {
    "tags": []
   },
   "outputs": [
    {
     "name": "stdout",
     "output_type": "stream",
     "text": [
      "Traceback \u001b[1;36m(most recent call last)\u001b[0m:\n",
      "\u001b[1;36m  File \u001b[1;32m/opt/conda/lib/python3.10/site-packages/IPython/core/compilerop.py:86\u001b[1;36m in \u001b[1;35mast_parse\u001b[1;36m\n",
      "\u001b[1;33m    return compile(source, filename, symbol, self.flags | PyCF_ONLY_AST, 1)\u001b[1;36m\n",
      "\u001b[1;36m  Cell \u001b[1;32mIn[1], line 6\u001b[1;36m\u001b[0m\n",
      "\u001b[1;33m    job = estimator.run( , , , shots=100 )\u001b[0m\n",
      "\u001b[1;37m                         ^\u001b[0m\n",
      "\u001b[1;31mSyntaxError\u001b[0m\u001b[1;31m:\u001b[0m invalid syntax\n",
      "\n",
      "Use %tb to get the full traceback.\n"
     ]
    },
    {
     "data": {
      "text/html": [
       "\n",
       "<style>\n",
       ".button {\n",
       "  border: none;\n",
       "  color: white;\n",
       "  padding: 4px 8px;\n",
       "  text-align: center;\n",
       "  text-decoration: none;\n",
       "  display: inline-block;\n",
       "  font-size: 12px;\n",
       "  margin: 4px 2px;\n",
       "  transition-duration: 0.2s;\n",
       "  cursor: pointer;\n",
       "}\n",
       ".iqx-button {\n",
       "  background-color: #0f62fe; \n",
       "  color: white; \n",
       "}\n",
       ".iqx-button:hover {\n",
       "  background-color: #0043ce;\n",
       "  color: white;\n",
       "}\n",
       "</style>\n",
       "<a href=\"https://stackoverflow.com/search?q=SyntaxError: invalid syntax\" target='_blank'><button class='button iqx-button'>Search for solution online</button></a>\n"
      ],
      "text/plain": [
       "<IPython.core.display.HTML object>"
      ]
     },
     "metadata": {},
     "output_type": "display_data"
    }
   ],
   "source": [
    "from qiskit_aer.primitives import Estimator\n",
    "\n",
    "estimator = Estimator()\n",
    "theta = np.zeros(ansatz.num_parameters)\n",
    "\n",
    "job = estimator.run( , , , shots=100 )\n",
    "\n",
    "values = job.result().values\n",
    "print(values) "
   ]
  },
  {
   "cell_type": "code",
   "execution_count": 9,
   "id": "632d9546-6257-4b87-8507-035bc754ca39",
   "metadata": {
    "tags": []
   },
   "outputs": [
    {
     "name": "stdout",
     "output_type": "stream",
     "text": [
      "{   'fun': array([-1.7429503]),\n",
      "    'jac': None,\n",
      "    'nfev': 600,\n",
      "    'nit': 200,\n",
      "    'njev': None,\n",
      "    'x': array([-0.22307791,  0.94566839,  0.34877491,  0.04024547,  2.97783223,\n",
      "       -1.54171707,  1.58568419,  0.84057039, -0.01367218,  0.10636623,\n",
      "       -0.31935507,  0.26248775, -0.77857264, -0.39861591,  0.90106349,\n",
      "       -2.03074429,  0.01147229,  1.77052171, -0.17853757, -0.09131743,\n",
      "        1.75408775,  3.2406805 , -0.94519951,  0.05040277])}\n"
     ]
    }
   ],
   "source": [
    "from qiskit.algorithms.optimizers import SPSA \n",
    "\n",
    "data_per_iter = []\n",
    "callback      = lambda evals_num, params, fun_value, stepsize, step_accepted : data_per_iter.append( fun_value )\n",
    "    \n",
    "maxiter   = 200 \n",
    "optimizer = SPSA( maxiter=maxiter, callback=callback ) \n",
    "\n",
    "obj_func = lambda theta : estimator.run( , , , shots=100 ).result().values\n",
    "\n",
    "initial_params = np.random.randn(ansatz.num_parameters)\n",
    "\n",
    "results = optimizer.minimize( , )\n",
    "print(results)\n"
   ]
  },
  {
   "cell_type": "code",
   "execution_count": 122,
   "id": "28285548",
   "metadata": {
    "tags": []
   },
   "outputs": [
    {
     "data": {
      "text/plain": [
       "[array([-0.90754762]),\n",
       " array([-1.14217389]),\n",
       " array([-1.1669849]),\n",
       " array([-1.14311483]),\n",
       " array([-1.01911673]),\n",
       " array([-1.06870774]),\n",
       " array([-0.91031879]),\n",
       " array([-1.01549174]),\n",
       " array([-1.08990325]),\n",
       " array([-0.92629959]),\n",
       " array([-0.96964946]),\n",
       " array([-0.92031062]),\n",
       " array([-0.9986418]),\n",
       " array([-1.06644583]),\n",
       " array([-0.88595098]),\n",
       " array([-0.9626335]),\n",
       " array([-0.90759114]),\n",
       " array([-1.17904745]),\n",
       " array([-1.27308296]),\n",
       " array([-1.29013395]),\n",
       " array([-1.24025812]),\n",
       " array([-1.35098034]),\n",
       " array([-1.4774401]),\n",
       " array([-1.42749782]),\n",
       " array([-1.35558107]),\n",
       " array([-1.39108615]),\n",
       " array([-1.39555572]),\n",
       " array([-1.33515271]),\n",
       " array([-1.23357873]),\n",
       " array([-1.41716448]),\n",
       " array([-1.30181917]),\n",
       " array([-1.34885162]),\n",
       " array([-1.29117891]),\n",
       " array([-1.46837131]),\n",
       " array([-1.35227367]),\n",
       " array([-1.39663557]),\n",
       " array([-1.59574695]),\n",
       " array([-1.45497199]),\n",
       " array([-1.57556985]),\n",
       " array([-1.34881239]),\n",
       " array([-1.48987234]),\n",
       " array([-1.49709317]),\n",
       " array([-1.43797767]),\n",
       " array([-1.51663859]),\n",
       " array([-1.46920274]),\n",
       " array([-1.34267148]),\n",
       " array([-1.36505261]),\n",
       " array([-1.39193581]),\n",
       " array([-1.48911564]),\n",
       " array([-1.51099765]),\n",
       " array([-1.4597644]),\n",
       " array([-1.58609256]),\n",
       " array([-1.58934565]),\n",
       " array([-1.44230868]),\n",
       " array([-1.46942022]),\n",
       " array([-1.42660173]),\n",
       " array([-1.62370812]),\n",
       " array([-1.64335046]),\n",
       " array([-1.5161601]),\n",
       " array([-1.54297542]),\n",
       " array([-1.54084948]),\n",
       " array([-1.57757416]),\n",
       " array([-1.49490364]),\n",
       " array([-1.57240918]),\n",
       " array([-1.58738359]),\n",
       " array([-1.56283913]),\n",
       " array([-1.62794764]),\n",
       " array([-1.5877601]),\n",
       " array([-1.63289865]),\n",
       " array([-1.67944754]),\n",
       " array([-1.69713816]),\n",
       " array([-1.61671037]),\n",
       " array([-1.61955831]),\n",
       " array([-1.63910226]),\n",
       " array([-1.69995922]),\n",
       " array([-1.67110321]),\n",
       " array([-1.58073661]),\n",
       " array([-1.60658109]),\n",
       " array([-1.66596776]),\n",
       " array([-1.68766162]),\n",
       " array([-1.75509192]),\n",
       " array([-1.72842984]),\n",
       " array([-1.64685173]),\n",
       " array([-1.67892308]),\n",
       " array([-1.70464493]),\n",
       " array([-1.72790353]),\n",
       " array([-1.7155008]),\n",
       " array([-1.70306688]),\n",
       " array([-1.73800015]),\n",
       " array([-1.76555077]),\n",
       " array([-1.72486216]),\n",
       " array([-1.75392705]),\n",
       " array([-1.76165735]),\n",
       " array([-1.72900738]),\n",
       " array([-1.74144277]),\n",
       " array([-1.74146868]),\n",
       " array([-1.79137794]),\n",
       " array([-1.79300458]),\n",
       " array([-1.76097117]),\n",
       " array([-1.78418879]),\n",
       " array([-1.82141456]),\n",
       " array([-1.79863288]),\n",
       " array([-1.80251231]),\n",
       " array([-1.76667653]),\n",
       " array([-1.79092389]),\n",
       " array([-1.79992557]),\n",
       " array([-1.83349732]),\n",
       " array([-1.80160766]),\n",
       " array([-1.82929997]),\n",
       " array([-1.83609374]),\n",
       " array([-1.84152168]),\n",
       " array([-1.80971916]),\n",
       " array([-1.83201394]),\n",
       " array([-1.79776295]),\n",
       " array([-1.81900081]),\n",
       " array([-1.83621128]),\n",
       " array([-1.78732855]),\n",
       " array([-1.82880407]),\n",
       " array([-1.7532702]),\n",
       " array([-1.8070272]),\n",
       " array([-1.83561055]),\n",
       " array([-1.80569178]),\n",
       " array([-1.82535541]),\n",
       " array([-1.7971098]),\n",
       " array([-1.81564299]),\n",
       " array([-1.82071459]),\n",
       " array([-1.81257268]),\n",
       " array([-1.82704718]),\n",
       " array([-1.82121049]),\n",
       " array([-1.82535541]),\n",
       " array([-1.81640439]),\n",
       " array([-1.77732941]),\n",
       " array([-1.82173679]),\n",
       " array([-1.83382325]),\n",
       " array([-1.81992748]),\n",
       " array([-1.83696799]),\n",
       " array([-1.80879504]),\n",
       " array([-1.8311617]),\n",
       " array([-1.84286981]),\n",
       " array([-1.80250734]),\n",
       " array([-1.80163436]),\n",
       " array([-1.81523423]),\n",
       " array([-1.82059704]),\n",
       " array([-1.82844773]),\n",
       " array([-1.81449954]),\n",
       " array([-1.80521789]),\n",
       " array([-1.82016627]),\n",
       " array([-1.82021869]),\n",
       " array([-1.84149127]),\n",
       " array([-1.82833019]),\n",
       " array([-1.82795184]),\n",
       " array([-1.82018828]),\n",
       " array([-1.81893568]),\n",
       " array([-1.83787265]),\n",
       " array([-1.8210058]),\n",
       " array([-1.84280468]),\n",
       " array([-1.83235757]),\n",
       " array([-1.8179482]),\n",
       " array([-1.81096744]),\n",
       " array([-1.82609011]),\n",
       " array([-1.82462442]),\n",
       " array([-1.81432958]),\n",
       " array([-1.81656966]),\n",
       " array([-1.77321751]),\n",
       " array([-1.79440513]),\n",
       " array([-1.81505497]),\n",
       " array([-1.82206272]),\n",
       " array([-1.8179482]),\n",
       " array([-1.80388246]),\n",
       " array([-1.82337614]),\n",
       " array([-1.80709233]),\n",
       " array([-1.82166236]),\n",
       " array([-1.79857207]),\n",
       " array([-1.82109294]),\n",
       " array([-1.82561622]),\n",
       " array([-1.82561622]),\n",
       " array([-1.80924527]),\n",
       " array([-1.84280468]),\n",
       " array([-1.80843615]),\n",
       " array([-1.84525784]),\n",
       " array([-1.84601455]),\n",
       " array([-1.78425824]),\n",
       " array([-1.8173153]),\n",
       " array([-1.82783429]),\n",
       " array([-1.83606334]),\n",
       " array([-1.8190722]),\n",
       " array([-1.84420524]),\n",
       " array([-1.84377447]),\n",
       " array([-1.80774244]),\n",
       " array([-1.82973074]),\n",
       " array([-1.83244471]),\n",
       " array([-1.83515868]),\n",
       " array([-1.81295104]),\n",
       " array([-1.83334937]),\n",
       " array([-1.82663842]),\n",
       " array([-1.82430281]),\n",
       " array([-1.82929997]),\n",
       " array([-1.83515868]),\n",
       " array([-1.83839895]),\n",
       " array([-1.8387773])]"
      ]
     },
     "execution_count": 122,
     "metadata": {},
     "output_type": "execute_result"
    }
   ],
   "source": [
    "data_per_iter"
   ]
  },
  {
   "cell_type": "markdown",
   "id": "c93c7e12-f464-4ebb-91a3-6ec28dcaff0c",
   "metadata": {},
   "source": [
    "## Analisis de resultados\n",
    "\n",
    "Para determinar la performance (convergencia y velocidad de convergencia) del optimizador en la minimización de la energía, se necesita un valor mínimo de referencia. Para este ejemplo pedagógico, podemos hacer \"trampa\" y calcular dicho mínimo clásicamente al diagonalizar el Hamiltoniano $\\hat{H}$.\n"
   ]
  },
  {
   "cell_type": "code",
   "execution_count": 14,
   "id": "2f5d0dfd-7a6e-4e48-9039-e20b82761ec4",
   "metadata": {},
   "outputs": [
    {
     "name": "stdout",
     "output_type": "stream",
     "text": [
      "[-1.85727503]\n"
     ]
    }
   ],
   "source": [
    "from qiskit.algorithms.eigensolvers import NumPyEigensolver\n",
    "classical_solver  = NumPyEigensolver()\n",
    "results_classical = classical_solver.compute_eigenvalues( qubit_op )\n",
    "min_of_energy     = results_classical.eigenvalues\n",
    "print(min_of_energy)"
   ]
  },
  {
   "cell_type": "code",
   "execution_count": 125,
   "id": "d40b60cc-bf19-4303-92f1-60f3a49d1166",
   "metadata": {
    "tags": []
   },
   "outputs": [
    {
     "data": {
      "text/plain": [
       "Text(0, 0.5, 'Energía')"
      ]
     },
     "execution_count": 125,
     "metadata": {},
     "output_type": "execute_result"
    },
    {
     "data": {
      "image/png": "[encoded data removed]",
      "text/plain": [
       "<Figure size 640x480 with 1 Axes>"
      ]
     },
     "metadata": {},
     "output_type": "display_data"
    }
   ],
   "source": [
    "plt.plot( data_per_iter )\n",
    "plt.plot( [maxiter], [results.fun], 'o' )\n",
    "plt.hlines( min_of_energy, 0, maxiter, color='tab:red' )\n",
    "plt.xlabel('Número de iteraciones')\n",
    "plt.ylabel('Energía')"
   ]
  },
  {
   "cell_type": "markdown",
   "id": "e6e38d4c-97c8-4c72-adea-d2185f3f3ceb",
   "metadata": {},
   "source": [
    "## Implementación de VQE\n",
    "\n",
    "Para realizar una implementación de VQE solo resta juntar los tres pasos anteriores.\n",
    "\n",
    "Instrucciones: Escribir una función que entregue una estimación del mínimo de la energía y los parámetros $\\theta$ que determinan el estado que la minimiza. Para ello debe entregarse al programa el número de layers que considera el ansatz y el número de iteraciones del optimizador clásico (SPSA en este caso). Luego cargue el Hamiltoniano generado previamente y llame a la función VQE. Finalmente, realice un gráfico que muestre la estimación de la energía mínima entregada por VQE en cada iteración.\n"
   ]
  },
  {
   "cell_type": "code",
   "execution_count": 15,
   "id": "e5abb4a5-0289-48a2-b073-a73a441fa539",
   "metadata": {
    "tags": []
   },
   "outputs": [],
   "source": [
    "def VQE(nqubits, qubit_op, reps, maxiter):\n",
    "    # Paso 2: Definir el Ansatz\n",
    "\n",
    "\n",
    "    \n",
    "    # Paso 3: Minimizar la energía\n",
    "    \n",
    "    \n",
    "    \n",
    "    # Se debe entregar 3 outputs\n",
    "    return , , \n"
   ]
  },
  {
   "cell_type": "code",
   "execution_count": 16,
   "id": "1cd5d359-77fa-49b7-a8c7-1ce0d0af132d",
   "metadata": {
    "tags": []
   },
   "outputs": [
    {
     "data": {
      "text/plain": [
       "Text(0, 0.5, 'Energía')"
      ]
     },
     "execution_count": 16,
     "metadata": {},
     "output_type": "execute_result"
    },
    {
     "data": {
      "image/png": "[encoded data removed]",
      "text/plain": [
       "<Figure size 640x480 with 1 Axes>"
      ]
     },
     "metadata": {},
     "output_type": "display_data"
    }
   ],
   "source": [
    "## Paso 1: Definir Hamiltoniano (Cargar el Hamiltoniano guardado)\n",
    "\n",
    "\n",
    "\n",
    "## Implementacion (LLamar a función VQE)\n",
    "reps = \n",
    "maxiter = \n",
    "\n",
    "estimated_energy, estimated_theta, data_per_iter = VQE(nqubits, qubit_op, reps, maxiter)\n",
    "\n",
    "##  Analisis de resultados\n",
    "# Obtener valor de referencia\n",
    "\n",
    "\n",
    "# Plotear resultados\n",
    "\n"
   ]
  },
  {
   "cell_type": "code",
   "execution_count": 17,
   "id": "297985a5-0730-44b0-adf5-e4d6ee6cdf43",
   "metadata": {
    "tags": []
   },
   "outputs": [
    {
     "name": "stdout",
     "output_type": "stream",
     "text": [
      "Statevector([ 1.60627837e-02-1.89533048e-02j,\n",
      "              5.69975069e-03+3.93431933e-02j,\n",
      "              9.83848103e-04+4.40049453e-04j,\n",
      "             -2.16230677e-03-1.79367957e-02j,\n",
      "              5.62639923e-02+9.25940994e-02j,\n",
      "             -1.74724680e-01+9.71675197e-01j,\n",
      "              3.74601591e-02-6.42725175e-02j,\n",
      "              6.32270708e-02-3.33279180e-02j,\n",
      "             -4.01530633e-05+3.66042356e-04j,\n",
      "             -7.96900174e-03+2.15971095e-03j,\n",
      "              1.75075942e-04+7.32238170e-04j,\n",
      "             -5.75304109e-03+2.52885697e-03j,\n",
      "             -6.07054971e-04-1.89924133e-03j,\n",
      "              9.12927138e-03-1.45429236e-02j,\n",
      "             -6.36787723e-04+8.47070894e-04j,\n",
      "             -5.59132581e-04+1.69263991e-03j],\n",
      "            dims=(2, 2, 2, 2))\n"
     ]
    }
   ],
   "source": [
    "from qiskit.quantum_info import Statevector\n",
    "State = Statevector(ansatz.assign_parameters(estimated_theta))\n",
    "print(State)"
   ]
  },
  {
   "cell_type": "markdown",
   "id": "3f667305-3016-40d7-9b68-f04b177e7513",
   "metadata": {},
   "source": [
    "## Tarea 1: \n",
    "\n",
    "Comparar el funcionamiento de la función VQE al considerar distintos números de layers."
   ]
  },
  {
   "cell_type": "markdown",
   "id": "1be83f1a-075b-4597-9f4e-e13d9c4b858b",
   "metadata": {},
   "source": [
    "## Tarea 2:\n",
    "\n",
    "Cambiar el optimizador clásico utilizado en la función VQE (SPSA). Para ello revise la documentación de Qiskit respecto a <a href=\"https://docs.quantum.ibm.com/api/qiskit/qiskit.algorithms.optimizers\">optimizadores</a>. Por ejemplo, para utilizar el optimizador QN-SPSA se debe cargar las funciones \n",
    "\n",
    "    from qiskit.algorithms.optimizers import QNSPSA\n",
    "    from qiskit.primitives import Sampler\n",
    "\n",
    " y remplazar el optimizador utilizado, mediante el siguiente segmento de código:\n",
    "      \n",
    "    fidelity = QNSPSA.get_fidelity( ansatz, Sampler() )\n",
    "    optimizer = QNSPSA( fidelity=fidelity, maxiter=maxiter, callback=callback )\n",
    "\n",
    "Observacion: Para este ejemplo, el optimizador QN-SPSA funciona peor que SPSA, requiriendo cerca de 1000 iteraciones para converger.   "
   ]
  },
  {
   "cell_type": "markdown",
   "id": "147d8a56-2a72-46de-b05a-ba4c74eac3da",
   "metadata": {},
   "source": [
    "## Tarea 3:\n",
    "\n",
    "Ejecutar la implementación de VQE para simular la partícula de LiH. Para ello, utilice el operador fermiónico guardado en la variable fermionic_op2.json. Además, determine el número de layers adecuado a considerar en el ansatz y el optimizador más favorable para alcanzar una buena estimación del mínimo de la energía.\n"
   ]
  },
  {
   "cell_type": "markdown",
   "id": "a23f68c4-937b-4471-b755-028550ef2c8a",
   "metadata": {},
   "source": [
    "## Referencias\n",
    "\n",
    "<a id='Peruzzo2016'>[1]</a> Peruzzo, A., McClean, J., Shadbolt, P. et al. A variational eigenvalue solver on a photonic quantum processor. *Nat Commun 5*, 4213 (2014). https://doi.org/10.1038/ncomms5213\n",
    "\n",
    "<a id='Tilly2022'>[2]</a> Jules Tilly, Hongxiang Chen, Shuxiang Cao, Dario Picozzi, Kanav Setia, Ying Li, Edward Grant, Leonard Wossnig, Ivan Rungger, George H. Booth, Jonathan Tennyson,\n",
    "The Variational Quantum Eigensolver: A review of methods and best practices,\n",
    "*Physics Reports*,\n",
    "Volume 986,\n",
    "2022,\n",
    "Pages 1-128,\n",
    "ISSN 0370-1573,\n",
    "https://doi.org/10.1016/j.physrep.2022.08.003.\n",
    "\n",
    "<a id='JW1928'>[3]</a> Jordan, P., Wigner, E. Über das Paulische Äquivalenzverbot. Z. *Physik* 47, 631–651 (1928). https://doi.org/10.1007/BF01331938"
   ]
  },
  {
   "cell_type": "markdown",
   "id": "47be0f61-831d-49d8-84dc-779a874a9f03",
   "metadata": {},
   "source": [
    "## Contactos: \n",
    "\n",
    "Mario Muñoz <br> \n",
    "Doctor en Ciencias Aplicadas Mencion en Ingeniería Matemática <br> \n",
    "Universidad de Concepción <br>\n",
    "munozmunozmarioalejandro@gmail.com\n",
    "\n",
    "Luciano Pereira <br>\n",
    "Predoctoral researcher, IFF-CSIC, Spain <br>\n",
    "luciano.ivan@iff.csic.es"
   ]
  },
  {
   "cell_type": "code",
   "execution_count": 27,
   "id": "e471939a-889d-4d48-b807-fcb16e218292",
   "metadata": {
    "tags": []
   },
   "outputs": [
    {
     "data": {
      "text/html": [
       "<h3>Version Information</h3><table><tr><th>Software</th><th>Version</th></tr><tr><td><code>qiskit</code></td><td>0.44.3</td></tr><tr><td><code>qiskit-terra</code></td><td>0.25.3</td></tr><tr><td><code>qiskit_ibm_provider</code></td><td>0.6.3</td></tr><tr><td><code>qiskit_aer</code></td><td>0.12.2</td></tr><tr><td><code>qiskit_nature</code></td><td>0.6.2</td></tr><tr><th colspan='2'>System information</th></tr><tr><td>Python version</td><td>3.10.8</td></tr><tr><td>Python compiler</td><td>GCC 10.4.0</td></tr><tr><td>Python build</td><td>main, Nov 22 2022 08:26:04</td></tr><tr><td>OS</td><td>Linux</td></tr><tr><td>CPUs</td><td>8</td></tr><tr><td>Memory (Gb)</td><td>31.14303207397461</td></tr><tr><td colspan='2'>Fri Dec 29 21:37:41 2023 UTC</td></tr></table>"
      ],
      "text/plain": [
       "<IPython.core.display.HTML object>"
      ]
     },
     "metadata": {},
     "output_type": "display_data"
    }
   ],
   "source": [
    "import qiskit.tools.jupyter\n",
    "%qiskit_version_table"
   ]
  }
 ],
 "metadata": {
  "kernelspec": {
   "display_name": "Python 3 (ipykernel)",
   "language": "python",
   "name": "python3"
  },
  "language_info": {
   "codemirror_mode": {
    "name": "ipython",
    "version": 3
   },
   "file_extension": ".py",
   "mimetype": "text/x-python",
   "name": "python",
   "nbconvert_exporter": "python",
   "pygments_lexer": "ipython3",
   "version": "3.10.8"
  },
  "widgets": {
   "application/vnd.jupyter.widget-state+json": {
    "state": {},
    "version_major": 2,
    "version_minor": 0
   }
  }
 },
 "nbformat": 4,
 "nbformat_minor": 5
}
