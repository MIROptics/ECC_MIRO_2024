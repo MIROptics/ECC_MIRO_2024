{
 "cells": [
  {
   "cell_type": "markdown",
   "metadata": {},
   "source": [
    "# Factorización mediante QAOA (Quantum Approximate Optimization Algorithm)"
   ]
  },
  {
   "cell_type": "markdown",
   "metadata": {},
   "source": [
    "## Problema de Factorización\n",
    "\n",
    "Para enviar un mensaje de un lugar a otro mediante un canal público, el mensaje debe ser encriptado y la llave privada que lo desencripta se mantiene en secreto. Este procedimiento se hace mapeando el mensaje a un número entero y realizando una serie de operaciones matemáticas. La seguridad de este método se basa en que es un problema muy costoso computacionalmente, pues no existe ningún algoritmo clásico que pueda factorizar números primos muy grandes en tiempo polinomial.\n",
    "\n",
    "En 1994, P. Shor propuso un algoritmo que permite resolver el problema de factorización de números enteros en un computador cuántico en tiempo polinomial. Sin embargo, necesitamos computadores cuánticos más precisos y que no cometan tantos errores, lo cual está lejos de lo que tenemos actualmente. De aquí nace la idea de buscar otro método que pueda resolverlo, dando con QAOA (Quantum Approximate Optimization Algorithm), un algoritmo híbrido clásico-cuántico que consiste en la resolución de un problema de minimización de costos. QAOA posee una etapa que se lleva a cabo con un algoritmo cuántico, y otra etapa que se lleva a cabo con un algoritmo clásico, además no necesita gran cantidad de qubits para que funciones, por lo que es resistente ante errores y decoherencia presente en los computadores cuánticos actuales."
   ]
  },
  {
   "cell_type": "markdown",
   "metadata": {},
   "source": [
    "Basándonos en el articulo de Hegade et. al. [[1]](https://arxiv.org/abs/2105.09480), podemos expresar el problema de factorización de la siguiente forma. Sea $N$ un número entero con factores primos $\\{x, y\\}$, tal que $N - xy = 0$. Definiremos entonces la función de costo\n",
    "\n",
    "$$\n",
    "f(x,y) = (N-xy)^2,\n",
    "$$\n",
    "\n",
    "donde claramente $f(x,y) \\geq 0$ y su mínimo corresponde a $f(x_s,y_s) = 0$ si y solo si $x_s y_s = N$. Si asumimos que $N$ es un número impar, podemos codificar la solución del problema de factorización en el minimo autoestado del Hamiltoniano\n",
    "\n",
    "$$\n",
    "H_f = \\left[ N I - \\left( \\sum_{l=1}^{n_x} 2^l \\hat{x}_l + I \\right)\\left( \\sum_{m=1}^{n_y} 2^m \\hat{y}_m + I \\right)  \\right]^2, \\quad \\hat{x}_l = \\frac{I- \\sigma_l^z}{2}, \\ \\hat{y}_m = \\frac{I- \\sigma_m^z}{2}\n",
    "$$\n",
    "\n",
    "donde $I$ es el operador identidad, $\\sigma_i^z$ es el operador de Pauli-Z actuando sobre el $i$-esimo qubit, $n_x$ y $n_y$ son el número de qubits necesarios para representar los factores primos $\\{x, y\\}$ en binario."
   ]
  },
  {
   "cell_type": "markdown",
   "metadata": {},
   "source": [
    "## QAOA (Quantum Approximate Optimization Algorithm)\n",
    "\n",
    "El algoritmo QAOA (*Quantum Approximate Optimization Algorithm*) [[2]](https://arxiv.org/abs/1411.4028) corresponde a un algortimo variacional cuántico para resolver problemas combinatoriales. QAOA utiliza una unitaria $U(\\boldsymbol{\\beta}, \\boldsymbol{\\gamma})$ caracterizada por los parámetros $(\\boldsymbol{\\beta}, \\boldsymbol{\\gamma})$ para preparar el estado cuántico $\\lvert \\psi(\\boldsymbol{\\beta}, \\boldsymbol{\\gamma}) \\rangle$ y maximizar una función de coste $F_p(\\boldsymbol{\\gamma},\\boldsymbol{\\beta})$ que represente el problema.\n",
    "\n",
    "La unitaria $U(\\boldsymbol{\\beta}, \\boldsymbol{\\gamma})$ esta compuesta a la vez por dos unitarias $U(\\boldsymbol{\\beta}) = e^{-i \\boldsymbol{\\beta} H_B}$ y $U(\\boldsymbol{\\gamma}) = e^{-i \\boldsymbol{\\gamma} H}$, donde $H_B$ corresponde al Hamiltoniano de mezcla (*mixing*) y $H$ corresponde al Hamiltoniano que representa el problema de optimización.\n",
    "\n",
    "En general, $H_B$ corresponde a sumas de rotaciones $X$ sobre un único qubit, dado por\n",
    "\n",
    "$$ H_B = \\sum_{i = 1}^n X_i,$$\n",
    "\n",
    "mientras que $H$ corresponde a un Hamiltoniano diagonal en la base computacional y que cuente con a lo más $m$ términos locales $\\hat{C}_k$, \n",
    "\n",
    "$$ H = \\sum_{k = 1}^m \\hat{C}_k = \\sum_{x \\in \\{0,1\\}^n} C(x) |x \\rangle\\langle x|, $$\n",
    "\n",
    "donde $x \\in \\{0,1\\}^n$ son las etiquetas de la base computacional $|x \\rangle \\in \\mathbb{C}^{2^n}$."
   ]
  },
  {
   "cell_type": "markdown",
   "metadata": {},
   "source": [
    "El estado objetivo del algoritmo es preparado aplicando estas unitarias en bloques alternantes $p$ veces\n",
    "\n",
    "\\begin{align*}\n",
    "\\lvert \\psi(\\boldsymbol{\\beta}, \\boldsymbol{\\gamma}) \\rangle &= \\underbrace{U(\\boldsymbol{\\beta}) U(\\boldsymbol{\\gamma}) \n",
    "                                            \\cdots U(\\boldsymbol{\\beta}) U(\\boldsymbol{\\gamma})}_{p \\; \\text{veces}} \n",
    "\\lvert \\psi_0 \\rangle \\\\\\\\\n",
    "&= e^{ -i\\beta_p H_B } e^{ -i\\gamma_p H } \\ldots e^{ -i\\beta_1 H_B } e^{ -i\\gamma_1 H } \\lvert \\psi_0 \\rangle \n",
    "\\end{align*}\n",
    "\n",
    "donde $\\lvert \\psi_0 \\rangle$ es un estado inicial conveniente, utilizándose típicamente el estado producto $|+\\rangle^n = \\bigg(\\frac{1}{\\sqrt{2}}\\big(\\lvert 0 \\rangle + \\lvert 1 \\rangle\\big)\\bigg)^{\\otimes n}$."
   ]
  },
  {
   "cell_type": "markdown",
   "metadata": {},
   "source": [
    "El objetivo del algoritmo es encontrar los parámetros óptimos $(\\boldsymbol{\\beta}_{opt}, \\boldsymbol{\\gamma}_{opt})$ tales que el estado cuántico $\\lvert \\psi(\\boldsymbol{\\beta}_{opt}, \\boldsymbol{\\gamma}_{opt}) \\rangle$ codifique la solución del problema, lo cuál corresponde a maximizar la función de coste\n",
    "\n",
    "\\begin{align*}\n",
    "F_p(\\boldsymbol{\\gamma},\\boldsymbol{\\beta}) &= \\langle \\psi_p(\\boldsymbol{\\gamma},\\boldsymbol{\\beta})|H|\\psi_p(\\boldsymbol{\\gamma},\\boldsymbol{\\beta})\\rangle\\\\\\\\\n",
    "&= \\sum_{x \\in \\{0,1\\}^n} C(x) |\\langle x| \\psi_p(\\boldsymbol{\\gamma},\\boldsymbol{\\beta}) \\rangle |^2.\n",
    "\\end{align*}\n",
    "\n",
    "Dado que el Hamiltoniano $H$ es diagonal en la base computacional, podemos calcular fácilmente el valor de expectación anterior muestreando el estado $| \\psi_p(\\boldsymbol{\\gamma},\\boldsymbol{\\beta}) \\rangle$ en la base computacional.\n",
    "\n",
    "Para cada cadena de bits $x$ obtenida de las distribución $|\\langle x| \\psi_p(\\boldsymbol{\\gamma},\\boldsymbol{\\beta}) \\rangle |^2$, evaluamos la función de coste $C(x)$ y promediamos sobre el número total de muestras (shots).\n",
    "\n",
    "Los parametros óptimos se obtienen mediante un proceso de optimización clásico. Debido a esto, QAOA se considera un algoritmo híbrido clásico-cuántico."
   ]
  },
  {
   "cell_type": "code",
   "execution_count": 2,
   "metadata": {},
   "outputs": [],
   "source": [
    "# Importamos los paquetes necesarios\n",
    "\n",
    "import numpy as np\n",
    "import matplotlib.pyplot as plt \n",
    "from qiskit.quantum_info import SparsePauliOp"
   ]
  },
  {
   "cell_type": "markdown",
   "metadata": {},
   "source": [
    "### Inicialización"
   ]
  },
  {
   "cell_type": "code",
   "execution_count": 8,
   "metadata": {},
   "outputs": [
    {
     "data": {
      "text/plain": [
       "'101'"
      ]
     },
     "execution_count": 8,
     "metadata": {},
     "output_type": "execute_result"
    }
   ],
   "source": [
    "# Función auxiliar que expresa un numero entero en su representacion binaria\n",
    "\n",
    "def int2bin( integer, num_bits=None):\n",
    "    if num_bits is None:\n",
    "        return bin(integer)[2:]\n",
    "    else:\n",
    "        return bin(integer)[2:].zfill(num_bits)\n",
    "\n",
    "int2bin(5)"
   ]
  },
  {
   "cell_type": "markdown",
   "metadata": {},
   "source": [
    "Primero, definiremos el número de qubits necesarios para cada registro. Para ello, consideraremos como ejemplo un algoritmo que sea capaz de factorizar $35 = 5 \\cdot 7$. "
   ]
  },
  {
   "cell_type": "code",
   "execution_count": 9,
   "metadata": {},
   "outputs": [
    {
     "name": "stdout",
     "output_type": "stream",
     "text": [
      "Número de qubits para el registro x = 2\n",
      "Número de qubits para el registro y = 2\n",
      "Número total de qubits = 4\n"
     ]
    }
   ],
   "source": [
    "x = 5\n",
    "y = 7\n",
    "N  = x*y\n",
    "\n",
    "# Numero de qubits necesarios\n",
    "\n",
    "nx = np.int32( np.ceil( np.log2(x) ) ) - 1\n",
    "ny = np.int32( np.ceil( np.log2(y) ) ) - 1\n",
    "\n",
    "num_qubits = nx + ny\n",
    "\n",
    "print('Número de qubits para el registro x = '+str(nx))\n",
    "print('Número de qubits para el registro y = '+str(ny))\n",
    "print('Número total de qubits = '+str(num_qubits))"
   ]
  },
  {
   "cell_type": "code",
   "execution_count": 11,
   "metadata": {},
   "outputs": [
    {
     "data": {
      "text/plain": [
       "SparsePauliOp(['IIII', 'IIIZ'],\n",
       "              coeffs=[ 0.5+0.j, -0.5+0.j])"
      ]
     },
     "execution_count": 11,
     "metadata": {},
     "output_type": "execute_result"
    }
   ],
   "source": [
    "# Definimos la funcion operador x_l\n",
    "\n",
    "def bit_operator( num_qubits, qubit ):\n",
    "    I = num_qubits * 'I'\n",
    "    Z = num_qubits * ['I']\n",
    "    Z[num_qubits-qubit-1] = 'Z'\n",
    "    Z = \"\".join(Z)   \n",
    "    return SparsePauliOp.from_list( [ ( I, 0.5), ( Z, -0.5 ) ] )\n",
    "\n",
    "bit_operator(num_qubits,0)"
   ]
  },
  {
   "cell_type": "code",
   "execution_count": 12,
   "metadata": {},
   "outputs": [
    {
     "data": {
      "text/plain": [
       "SparsePauliOp(['IIII'],\n",
       "              coeffs=[1.+0.j])"
      ]
     },
     "execution_count": 12,
     "metadata": {},
     "output_type": "execute_result"
    }
   ],
   "source": [
    "# Funcion operador identidad num_qubits\n",
    "\n",
    "def Identity( num_qubits ):\n",
    "    return SparsePauliOp.from_list([ (num_qubits*'I',1)])\n",
    "\n",
    "Identity(num_qubits)"
   ]
  },
  {
   "cell_type": "markdown",
   "metadata": {},
   "source": [
    "**Ejercicio 1:** Utilizando las funciones definidas anteriormente, construya el Hamiltoniano $H_f$.\n",
    "\n",
    "Hint: Construya primero el operador\n",
    "\n",
    "$$\n",
    "X = \\sum_{l=1}^{n_x} 2^l \\hat{x}_l + I\n",
    "$$\n",
    "\n",
    "Repita el mismo proceso para construir\n",
    "\n",
    "$$\n",
    "Y = \\sum_{m=1}^{n_y} 2^l \\hat{y}_m + I\n",
    "$$\n",
    "\n",
    "\n",
    "\n",
    "Para elevar al cuadrado el Hamiltoniano, puede utilizar la funcion `@`, tal que `H_XY @ H_XY = H_f`."
   ]
  },
  {
   "cell_type": "code",
   "execution_count": null,
   "metadata": {},
   "outputs": [],
   "source": [
    "# Construir operador x\n",
    "\n",
    "#x_op = ...\n",
    "#for l in range(nx):\n",
    "#    ..."
   ]
  },
  {
   "cell_type": "code",
   "execution_count": null,
   "metadata": {},
   "outputs": [],
   "source": [
    "# Construit operador y\n",
    "\n",
    "#y_op = ...\n",
    "\n"
   ]
  },
  {
   "cell_type": "code",
   "execution_count": null,
   "metadata": {},
   "outputs": [],
   "source": [
    "# Construir hamiltoniano\n",
    "\n",
    "#H = ...\n",
    "H"
   ]
  },
  {
   "cell_type": "code",
   "execution_count": null,
   "metadata": {},
   "outputs": [],
   "source": [
    "# Para simplificar el Hamiltoniano, podemos combinar los coeficientes repetidos con simplify\n",
    "\n",
    "H = H.simplify()\n",
    "H"
   ]
  },
  {
   "cell_type": "markdown",
   "metadata": {},
   "source": [
    "Podemos expresar el Hamiltoniano como una matriz para visualizar directamente sus autovalores respecto a cada elemento de la base computacional"
   ]
  },
  {
   "cell_type": "code",
   "execution_count": null,
   "metadata": {},
   "outputs": [],
   "source": [
    "from IPython.display import display, Math\n",
    "\n",
    "def print_matrix(array):\n",
    "    matrix = ''\n",
    "    for row in array:\n",
    "        try:\n",
    "            for number in row:\n",
    "                matrix += f'{number}&'\n",
    "        except TypeError:\n",
    "            matrix += f'{row}&'\n",
    "        matrix = matrix[:-1] + r'\\\\'\n",
    "    display(Math(r'\\begin{bmatrix}'+matrix+r'\\end{bmatrix}'))\n",
    "    \n",
    "print_matrix(H.to_matrix().real)"
   ]
  },
  {
   "cell_type": "markdown",
   "metadata": {},
   "source": [
    "Para asegurarnos que nuestro Hamiltoniano codifica de manera correcta nuestro problema, podemos comparar el autoestado obtenido resolviendo el problema tanto de forma clásica como cuántica."
   ]
  },
  {
   "cell_type": "code",
   "execution_count": null,
   "metadata": {},
   "outputs": [],
   "source": [
    "# Depecrated, usar qiskit-algorithms (debe instalarse en caso de usarse)\n",
    "\n",
    "# Calculamos los autovalores de forma clásica\n",
    "\n",
    "from qiskit.algorithms.eigensolvers import NumPyEigensolver\n",
    "\n",
    "NumPyEigensolver().compute_eigenvalues(H).eigenvalues"
   ]
  },
  {
   "cell_type": "code",
   "execution_count": null,
   "metadata": {},
   "outputs": [],
   "source": [
    "# Representaciones binarias de x,y\n",
    "\n",
    "bin_x = int2bin(x,nx+1)[:-1]\n",
    "print(str(x)+' en representacion binaria es '+bin_x)\n",
    "\n",
    "bin_y = int2bin(y,ny+1)[:-1] \n",
    "print(str(y)+' en representacion binaria es '+bin_y)\n",
    "\n",
    "state_minimum1 = bin_x + bin_y\n",
    "print('Estado de minima energía 5x7 = '+state_minimum1)\n",
    "\n",
    "state_minimum2 = bin_y + bin_x\n",
    "print('Estado de minima energía 7x5 = '+state_minimum2)"
   ]
  },
  {
   "cell_type": "markdown",
   "metadata": {},
   "source": [
    "Construimos un circuito que represente el estado de minima energía $|1011\\rangle$."
   ]
  },
  {
   "cell_type": "code",
   "execution_count": null,
   "metadata": {},
   "outputs": [],
   "source": [
    "from qiskit import QuantumCircuit\n",
    "\n",
    "qc_minimum = QuantumCircuit( nx+ny )\n",
    "qc_minimum.initialize( state_minimum1 )  # cambiar\n",
    "qc_minimum.draw('mpl')"
   ]
  },
  {
   "cell_type": "markdown",
   "metadata": {},
   "source": [
    "Calculamos el valor de expectacion de nuestro Hamiltoniano, siendo este el mismo resultado que el obtenido clásicamente."
   ]
  },
  {
   "cell_type": "code",
   "execution_count": null,
   "metadata": {},
   "outputs": [],
   "source": [
    "from qiskit.primitives import Estimator\n",
    "\n",
    "estimator = Estimator()\n",
    "estimator.run( qc_minimum, H ).result().values"
   ]
  },
  {
   "cell_type": "markdown",
   "metadata": {},
   "source": [
    "**Ejercicio 2:** Construya un circuito que corresponda al estado inicial $|+\\rangle^n = \\bigg(\\frac{1}{\\sqrt{2}}\\big(\\lvert 0 \\rangle + \\lvert 1 \\rangle\\big)\\bigg)^{\\otimes n}$.\n"
   ]
  },
  {
   "cell_type": "code",
   "execution_count": null,
   "metadata": {},
   "outputs": [],
   "source": [
    "# init_state = ..."
   ]
  },
  {
   "cell_type": "markdown",
   "metadata": {},
   "source": [
    "**Ejercicio 3:** Construya un circuito que implemente la unitaria $U(\\boldsymbol{\\beta}) = e^{-i \\boldsymbol{\\beta} H_B}$, donde $H_B$ es el Hamiltoniano de mezcla $ H_B = \\sum_{i = 1}^n X_i$. Para ello defina una función `unitaria_HB` que reciba el parámetro $\\beta$ y el número de qubits y entregue un circuito al cual se le aplicó $U(\\beta)$.\n",
    "\n",
    "Hint: Los términos individuales en la suma de $H_B$ commutan entre ellos, por lo que podemos utilizar la fórmula de Baker-Campbell-Hausdorff para escribir las unitarias como\n",
    "\n",
    "$$ \n",
    "U(H_B) = e^{-i \\beta H_B} = \\prod_{i=1}^n e^{-i \\beta X_i}.\n",
    "$$\n",
    "\n",
    "¿Qué compuerta de `qiskit` implementa una rotación en el eje $x$?"
   ]
  },
  {
   "cell_type": "code",
   "execution_count": null,
   "metadata": {},
   "outputs": [],
   "source": [
    "#def unitaria_HB(beta, num_qubits):\n",
    "#   ..."
   ]
  },
  {
   "cell_type": "code",
   "execution_count": null,
   "metadata": {},
   "outputs": [],
   "source": [
    "from qiskit.circuit import Parameter\n",
    "\n",
    "beta = Parameter('β')  # Solo para visualizacion\n",
    "U_HB = unitaria_HB(beta, num_qubits)\n",
    "U_HB.draw('mpl')"
   ]
  },
  {
   "cell_type": "markdown",
   "metadata": {},
   "source": [
    "### Optimización clásica"
   ]
  },
  {
   "cell_type": "markdown",
   "metadata": {},
   "source": [
    "Qiskit cuenta con una función dedicada a la implementación del algoritmo QAOA llamada [`QAOAAnsatz`](https://docs.quantum.ibm.com/api/qiskit/qiskit.circuit.library.QAOAAnsatz). Nosotros consideraremos los siguientes cuatro inputs:\n",
    "\n",
    "-  `cost_operator`: Corresponde al Hamiltoniano que representa nuestro problema de optimización.\n",
    "-  `reps`: El número de veces que repetimos la unitaria $U(\\boldsymbol{\\beta}, \\boldsymbol{\\gamma})$.\n",
    "-  `mixer_operator`: El operador de mezcla (por defecto corresponde a la unitaria de mezcla que definimos anteriormente)\n",
    "-  `initial_state`: El estado inicial (por defecto es $|+\\rangle^n$)"
   ]
  },
  {
   "cell_type": "code",
   "execution_count": null,
   "metadata": {},
   "outputs": [],
   "source": [
    "from qiskit.circuit.library import QAOAAnsatz\n",
    "\n",
    "ansatz = ...\n",
    "ansatz.decompose(reps=1).draw('mpl')  # Aumentar el valor de reps para descomponer el circuito"
   ]
  },
  {
   "cell_type": "markdown",
   "metadata": {},
   "source": [
    "**Ejercicio 4:** Crear función objetivo a partir del circuito QAOA. Esta función debe tener como input el objeto `params`, y debe entregar el valor de expectación del Hamiltoniano $H_f$.\n",
    "\n",
    "Hint: Anteriormente calculamos el valor de expectación del Hamiltoniano para un estado en particular. En este caso, necesitamos primero asignar lo parametros al circuito utilizando el método [`assign_parameters`](https://docs.quantum.ibm.com/api/qiskit/qiskit.circuit.QuantumCircuit#assign_parameters)."
   ]
  },
  {
   "cell_type": "code",
   "execution_count": null,
   "metadata": {},
   "outputs": [],
   "source": [
    "#def obj_fun( params ):\n",
    "#    ansatz_with_params =\n",
    "    "
   ]
  },
  {
   "cell_type": "code",
   "execution_count": null,
   "metadata": {},
   "outputs": [],
   "source": [
    "# Valor de expectacion usando parametros iniciales aleatorios\n",
    "\n",
    "obj_fun(np.random.random(ansatz.num_parameters))"
   ]
  },
  {
   "cell_type": "markdown",
   "metadata": {},
   "source": [
    "Finalmente, ejecutamos el proceso de optimización para encontrar los parámetros que minimizan el autoestado del Hamiltoniano. Para esto, necesitamos elegir:\n",
    "\n",
    "-  El número de repeticiones. Entre mayor sea este número, mejora la calidad de los resultados, pero a costa de un circuito más profundo.\n",
    "\n",
    "-  El algoritmo de optimización."
   ]
  },
  {
   "cell_type": "code",
   "execution_count": null,
   "metadata": {},
   "outputs": [],
   "source": [
    "# Existen distintos algoritmos de optimización disponibles en qiskit\n",
    "\n",
    "from qiskit.algorithms.optimizers import COBYLA, SPSA, GradientDescent, POWELL\n",
    "\n",
    "# Elegimos un numero de repeticiones adecuado\n",
    "\n",
    "reps = 3\n",
    "ansatz = QAOAAnsatz( H, reps=reps, initial_state = init_state, mixer_operator = U_HB)\n"
   ]
  },
  {
   "cell_type": "code",
   "execution_count": null,
   "metadata": {},
   "outputs": [],
   "source": [
    "params_per_iter = []\n",
    "\n",
    "# Definimos el optimizador clásico\n",
    "# Guardamos los resultados en cada iteración mediante la función callback (varía dependiendo del optimizador)\n",
    "\n",
    "callback = lambda intermediate_result: params_per_iter.append( intermediate_result.x)\n",
    "optimizer = POWELL(callback=callback)\n",
    "\n",
    "# Optimizamos\n",
    "\n",
    "initial_param = np.zeros(ansatz.num_parameters)\n",
    "\n",
    "results = optimizer.minimize( obj_fun, initial_param)\n",
    "opt_params = results.x\n",
    "\n",
    "results.__dict__\n"
   ]
  },
  {
   "cell_type": "code",
   "execution_count": null,
   "metadata": {},
   "outputs": [],
   "source": [
    "# Evaluamos la función objetivo para cada set de parámetros por iteración\n",
    "\n",
    "fun_per_iter = [ obj_fun(params) for params in params_per_iter ] \n",
    "\n",
    "plt.plot(fun_per_iter, 'o')\n",
    "plt.xlabel('Iteraciones', fontsize=16)\n",
    "plt.ylabel('Costo', fontsize=16)"
   ]
  },
  {
   "cell_type": "markdown",
   "metadata": {},
   "source": [
    "Para visualizar la solución otorgada por QAOA, ejecutamos el algoritmo con los parámetros óptimos y dibujamos la distribucion de probabilidad."
   ]
  },
  {
   "cell_type": "code",
   "execution_count": null,
   "metadata": {},
   "outputs": [],
   "source": [
    "from qiskit.primitives import Sampler\n",
    "from qiskit.visualization import plot_distribution\n",
    "\n",
    "sampler = Sampler()\n",
    "\n",
    "ansatz_with_measures = ansatz.copy()\n",
    "ansatz_with_measures.measure_all()\n",
    "ansatz_with_measures.draw('mpl') "
   ]
  },
  {
   "cell_type": "code",
   "execution_count": null,
   "metadata": {},
   "outputs": [],
   "source": [
    "sampler_results = sampler.run( ansatz_with_measures, opt_params).result()\n",
    "\n",
    "probs = sampler_results.quasi_dists[0].binary_probabilities()\n",
    "plot_distribution( probs , figsize=(10, 5), sort='value_desc')"
   ]
  },
  {
   "cell_type": "markdown",
   "metadata": {},
   "source": [
    "Recordemos que las dos posibles soluciones son $1011$ y $1110$, por lo que encontramos la solución correcta con alta probabilidad."
   ]
  },
  {
   "cell_type": "markdown",
   "metadata": {},
   "source": [
    "**Ejercicio 5/Tarea:** Modifique el código anterior, juegue con algunos parámetros y resuelva el problema de factorización para $N = 33$, utilizando un circuito lo menos profundo posible."
   ]
  },
  {
   "cell_type": "markdown",
   "metadata": {},
   "source": [
    "# Referencias\n",
    "\n",
    "[[1]](https://arxiv.org/abs/2105.09480) Hegade, Paul, Albarrán-Arriagada, Chen, Solano. \"Digitized Adiabatic Quantum Factorization.\" arXiv preprint arXiv:2105.09480 (2021).\n",
    "\n",
    "[[2]](https://arxiv.org/abs/1411.4028) Farhi, Edward, Jeffrey Goldstone, and Sam Gutmann. \"A quantum approximate optimization algorithm.\" arXiv preprint arXiv:1411.4028 (2014).\n",
    "\n",
    "[Qiskit Tutorial](https://learning.quantum.ibm.com/tutorial/quantum-approximate-optimization-algorithm)"
   ]
  },
  {
   "cell_type": "code",
   "execution_count": null,
   "metadata": {},
   "outputs": [],
   "source": [
    "import qiskit.tools.jupyter\n",
    "%qiskit_version_table"
   ]
  },
  {
   "cell_type": "code",
   "execution_count": null,
   "metadata": {},
   "outputs": [],
   "source": []
  }
 ],
 "metadata": {
  "kernelspec": {
   "display_name": "qiskit",
   "language": "python",
   "name": "python3"
  },
  "language_info": {
   "codemirror_mode": {
    "name": "ipython",
    "version": 3
   },
   "file_extension": ".py",
   "mimetype": "text/x-python",
   "name": "python",
   "nbconvert_exporter": "python",
   "pygments_lexer": "ipython3",
   "version": "3.11.7"
  }
 },
 "nbformat": 4,
 "nbformat_minor": 2
}
